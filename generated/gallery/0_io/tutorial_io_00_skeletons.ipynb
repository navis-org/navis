{
  "cells": [
    {
      "cell_type": "code",
      "execution_count": null,
      "metadata": {
        "collapsed": false
      },
      "outputs": [],
      "source": [
        "%matplotlib inline"
      ]
    },
    {
      "cell_type": "markdown",
      "metadata": {},
      "source": [
        "\nSkeletons\n=========\n\nThis tutorial will show you how to load and save skeletons.\n\nSkeletons are probably the most common representation of neurons and are stored as a series\nof connected nodes (the \"skeleton\"). In {{ navis }}, skeletons are represented by the\n[`navis.TreeNeuron`][] class.\n\nYou can either construct these manually (see bottom of this page) or use one of the built-in\nfunctions to them from one of the various file formats:\n\n!!! note\n    {{ navis }} has dedicated interfaces for loading skeletons from remote data sources\n    (e.g. the MICrONS, neuromorpho, Virtual Fly Brain or Janelia hemibrain datasets).\n    These are covered in separate [tutorials](../../gallery).\n\n    If you have light-level microscopy data, you might also be interested in the\n    tutorial on [skeletons from light-level data](../zzz_tutorial_io_05_skeletonize).\n\n## From SWC files\n\nSWC is a common format for storing neuron skeletons. Thus {{ navis }} provides functions to both\nread and write SWC files. To demo these, we will be using supplemental data from\nBates, Schlegel et al. (Current Biology, 2020). If you want to follow along, please download\nSupplemental Data S1 ([link](https://doi.org/10.1016/j.cub.2020.06.042)). If you do, make sure\nto adjust the filepaths in the examples according to where you saved it to.\n"
      ]
    },
    {
      "cell_type": "markdown",
      "metadata": {},
      "source": [
        "I extracted the archive with the supplemental data inside my downloads folder.\n\nIt contains a bunch of CSV files with meta data but the important file for us is the\n`\"skeletons_swc.zip\"`. Now you could extract that zip archive too but {{ navis }} can\nactually read directly from (and write to) zip files!\n\n"
      ]
    },
    {
      "cell_type": "code",
      "execution_count": null,
      "metadata": {
        "collapsed": false
      },
      "outputs": [],
      "source": [
        "import navis\nskeletons = navis.read_swc(\n    'mmc2/skeletons_swc.zip',\n    include_subdirs=True\n)\nskeletons"
      ]
    },
    {
      "cell_type": "markdown",
      "metadata": {},
      "source": [
        "Let's say you are looking at a huge collection of SWC files and you only want to sample a few of them:\n\n"
      ]
    },
    {
      "cell_type": "markdown",
      "metadata": {},
      "source": [
        "Load only the first 10 skeletons\n\n"
      ]
    },
    {
      "cell_type": "code",
      "execution_count": null,
      "metadata": {
        "collapsed": false
      },
      "outputs": [],
      "source": [
        "sample = navis.read_swc(\n    './mmc2/skeletons_swc.zip',\n    include_subdirs=True,\n    limit=10\n)\nsample"
      ]
    },
    {
      "cell_type": "markdown",
      "metadata": {},
      "source": [
        "We can also point [`navis.read_swc()`][navis.read_swc] at single files instead of folders or zip archives:\n\n"
      ]
    },
    {
      "cell_type": "markdown",
      "metadata": {},
      "source": [
        "For this I extraced the skeletons_swc.zip archive\n\n"
      ]
    },
    {
      "cell_type": "code",
      "execution_count": null,
      "metadata": {
        "collapsed": false
      },
      "outputs": [],
      "source": [
        "s = navis.read_swc('./mmc2/swc/CENT/11519759.swc')\ns"
      ]
    },
    {
      "cell_type": "markdown",
      "metadata": {},
      "source": [
        "You can even use URLs or FTP servers directly:\n\n"
      ]
    },
    {
      "cell_type": "code",
      "execution_count": null,
      "metadata": {
        "collapsed": false
      },
      "outputs": [],
      "source": [
        "# From URL:\ns = navis.read_swc('https://v2.virtualflybrain.org/data/VFB/i/jrch/jup2/VFB_00101567/volume.swc')"
      ]
    },
    {
      "cell_type": "code",
      "execution_count": null,
      "metadata": {
        "collapsed": false
      },
      "outputs": [],
      "source": [
        "# From an FTP folder:\nnl = navis.read_swc('ftp://download.brainimagelibrary.org/biccn/zeng/pseq/morph/200526/', limit=3)\n\n\n# !!! tip\n#     [`read_swc`][navis.read_swc] is super flexible and can handle a variety of inputs (file names, folders, archives, URLs, etc.).\n#     Importantly, it also let you customize which/how neurons are loaded. For example:\n#      - the `limit` parameter can also be used to load only files matching a given pattern\n#      - the `fmt` parameter lets you specify how to parse filenames into neuron names and ids\n#     Many of the other `navis.read_*` functions share these features!"
      ]
    },
    {
      "cell_type": "markdown",
      "metadata": {},
      "source": [
        "## To SWC files\n\nNow let's say you have skeletons and you want to save them to disk. Easy!\n\n"
      ]
    },
    {
      "cell_type": "code",
      "execution_count": null,
      "metadata": {
        "collapsed": false
      },
      "outputs": [],
      "source": [
        "# Write a single neuron:\nnavis.write_swc(s, './mmc2/my_neuron.swc')"
      ]
    },
    {
      "cell_type": "code",
      "execution_count": null,
      "metadata": {
        "collapsed": false
      },
      "outputs": [],
      "source": [
        "# Write a whole list of skeletons to a folder and use the neurons' `name` property as filename:\nnavis.write_swc(sample, './mmc2/{neuron.name}.swc')"
      ]
    },
    {
      "cell_type": "code",
      "execution_count": null,
      "metadata": {
        "collapsed": false
      },
      "outputs": [],
      "source": [
        "# Write directly to a zip file:\nnavis.write_swc(sample, './mmc2/skeletons.zip')"
      ]
    },
    {
      "cell_type": "code",
      "execution_count": null,
      "metadata": {
        "collapsed": false
      },
      "outputs": [],
      "source": [
        "# Write directly to a zip file and use the neuron name as filename:\nnavis.write_swc(sample, './mmc2/{neuron.name}.swc@skeletons.zip')"
      ]
    },
    {
      "cell_type": "markdown",
      "metadata": {},
      "source": [
        "See [`navis.write_swc`][] for further details!\n\n## From NMX files\n\nNMX is a xml-based format used e.g. by [pyKNOSSOS](https://github.com/adwanner/PyKNOSSOS) to store skeletons plus meta data.\n{{ navis }} supports reading (but not writing) this format. If you want to follow\nalong download [this dataset](https://doi.org/10.5281/zenodo.58985) by Wanner et al. (2016).\nJust like the SWCs, I extracted the archive to my downloads folder:\n\n"
      ]
    },
    {
      "cell_type": "markdown",
      "metadata": {},
      "source": [
        "Read a single file\n\n"
      ]
    },
    {
      "cell_type": "code",
      "execution_count": null,
      "metadata": {
        "collapsed": false
      },
      "outputs": [],
      "source": [
        "s = navis.read_nmx('./WannerAA201605_SkeletonsGlomeruli/Neuron_id0001.nmx')\ns"
      ]
    },
    {
      "cell_type": "markdown",
      "metadata": {},
      "source": [
        "Read all files in folder\n\n"
      ]
    },
    {
      "cell_type": "code",
      "execution_count": null,
      "metadata": {
        "collapsed": false
      },
      "outputs": [],
      "source": [
        "nl = navis.read_nmx('./WannerAA201605_SkeletonsGlomeruli/')\nnl"
      ]
    },
    {
      "cell_type": "code",
      "execution_count": null,
      "metadata": {
        "collapsed": false
      },
      "outputs": [],
      "source": [
        "navis.plot2d(nl[:10], method='2d', radius=False)"
      ]
    },
    {
      "cell_type": "markdown",
      "metadata": {},
      "source": [
        "!!! note\n    If you encounter an error message while reading: NMX files don't always contain skeletons.\n    If {{ navis }} comes across one that can't be turned into a [`navis.TreeNeuron`][],\n    it will skip the file and produce a warning.\n\n## From Neuroglancer Precomputed\n\nAmong other formats, neuroglancer supports a \"precomputed\" format for skeletons\n(see specs [here](https://github.com/google/neuroglancer/blob/master/src/neuroglancer/datasource/precomputed/skeletons.md).\nThis binary format is more compact than uncompressed SWC files but is not used outside of neuroglancer as far as I know.\nThat said: {{ navis }} lets you read and write skeletons from/to precomputed format using [`navis.read_precomputed`][] and\n[`navis.write_precomputed`][]. Note that these functions work on both precomputed skeletons and meshes.\n\nAlso check out the [tutorial](../../gallery/4_remote/tutorial_remote_01_cloudvolume) on reading skeletons straight from\na neuroglancer source using `cloud-volume`.\n\n## Manual construction\n\nWhat if you have some obscure data format for which {{ navis }} does not have a read function? The data underlying\na [`navis.TreeNeuron`][] is a simple SWC table - so as long as you can produce that from your data, you can create\nyour own skeletons.\n\nHere's a quick & dirty example:\n\n"
      ]
    },
    {
      "cell_type": "code",
      "execution_count": null,
      "metadata": {
        "collapsed": false
      },
      "outputs": [],
      "source": [
        "import pandas as pd\n\n# Create a mock SWC table for a 2-node skeleton\nswc = pd.DataFrame()\nswc['node_id'] = [0, 1]\nswc['parent_id'] = [-1, 0]   # negative indices indicate roots\nswc['x'] = [0, 1]\nswc['y'] = [0, 1]\nswc['z'] = [0, 1]\nswc['radius'] = 0\n\nswc"
      ]
    },
    {
      "cell_type": "markdown",
      "metadata": {},
      "source": [
        "This SWC can now be used to construct a [`TreeNeuron`][navis.TreeNeuron]:\n\n"
      ]
    },
    {
      "cell_type": "code",
      "execution_count": null,
      "metadata": {
        "collapsed": false
      },
      "outputs": [],
      "source": [
        "s = navis.TreeNeuron(swc, name='my_neuron', units='microns')\ns"
      ]
    },
    {
      "cell_type": "markdown",
      "metadata": {},
      "source": [
        "There are a few other ways to construct a [`navis.TreeNeuron`][] (e.g. using a graph) - see the docstring for details.\n\nAlso note that all {{ navis }} neurons can be stored to disk using `pickle` - see the [pickling tutorial](../tutorial_io_04_pickle).\n\nHopefully the above has given you some entry points on how to load your data. See also the [I/O API reference](../../../api.md#importexport).\n\nPlease also keep in mind that you can also convert one neuron type into another - for example by skeletonizing [`MeshNeurons`][navis.MeshNeuron]\n(see also the API reference on [neuron conversion](../../../api.md#converting-between-types)).\n\n"
      ]
    }
  ],
  "metadata": {
    "kernelspec": {
      "display_name": "Python 3",
      "language": "python",
      "name": "python3"
    },
    "language_info": {
      "codemirror_mode": {
        "name": "ipython",
        "version": 3
      },
      "file_extension": ".py",
      "mimetype": "text/x-python",
      "name": "python",
      "nbconvert_exporter": "python",
      "pygments_lexer": "ipython3",
      "version": "3.11.14"
    }
  },
  "nbformat": 4,
  "nbformat_minor": 0
}