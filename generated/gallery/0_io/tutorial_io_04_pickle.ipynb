{
  "cells": [
    {
      "cell_type": "code",
      "execution_count": null,
      "metadata": {
        "collapsed": false
      },
      "outputs": [],
      "source": [
        "%matplotlib inline"
      ]
    },
    {
      "cell_type": "markdown",
      "metadata": {},
      "source": [
        "\nPickling\n========\n\nThis tutorial shows how to use Python's `pickle` module to quickly store and load neurons.\n\nAll neuron types including whole [`NeuronLists`][navis.NeuronList] can be \"pickled\" :cucumber:.\nIf you don't know what that is: pickling is storing the actual Python object as a\nbytes stream. This is incredibly fast and works very well for short-term storage\nbut has a few downsides:\n\n1. Pickle files can only be re-opened in Python\n2. The pickled object is (sort of) specific to your current Python environment. If\n   you e.g. update Python, {{ navis }} or even just `numpy` or `pandas` you may not\n   be able to open the file again.\n3. Pickle files can contain arbitrary Python code. Never open a pickle file from\n   an untrusted source!\n\nWith that out of the way, pickling is incredibly easy:\n\n```python\nimport navis\nimport pickle\n\n# Load some example neurons\nnl = navis.example_neurons(3, kind='mesh')\n\n# Pickle neurons to file\nwith open('/Users/philipps/Downloads//meshes.pkl', 'wb') as f:\n    pickle.dump(nl, f)\n```\n\nTo \"unpickle\", i.e. read the file back into Python:\n\n```python\n# Read neurons back from pickle file\nwith open('/Users/philipps/Downloads//meshes.pkl', 'rb') as f:\n    nl = pickle.load(f)\n```\n\nThis tutorial has hopefully given you some entry points on how to load your data.\nSee also the [I/O API reference](../../../api.md#importexport).\n"
      ]
    }
  ],
  "metadata": {
    "kernelspec": {
      "display_name": "Python 3",
      "language": "python",
      "name": "python3"
    },
    "language_info": {
      "codemirror_mode": {
        "name": "ipython",
        "version": 3
      },
      "file_extension": ".py",
      "mimetype": "text/x-python",
      "name": "python",
      "nbconvert_exporter": "python",
      "pygments_lexer": "ipython3",
      "version": "3.11.14"
    }
  },
  "nbformat": 4,
  "nbformat_minor": 0
}