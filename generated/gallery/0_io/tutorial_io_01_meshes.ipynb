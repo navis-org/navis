{
  "cells": [
    {
      "cell_type": "code",
      "execution_count": null,
      "metadata": {
        "collapsed": false
      },
      "outputs": [],
      "source": [
        "%matplotlib inline"
      ]
    },
    {
      "cell_type": "markdown",
      "metadata": {},
      "source": [
        "\nMeshes\n======\n\nThis tutorial will teach you how to load and save meshes.\n\n{{ navis }} knows two types of meshes:\n\n1. [`navis.MeshNeuron`][] for neurons\n2. [`navis.Volume`][] for meshes that are not neurons, e.g. neuropil or brain meshes\n\nBoth of these are subclasses of `trimesh.Trimesh` and can be used as such.\n\n!!! note\n    {{ navis }} has dedicated interfaces for loading meshes from remote data sources\n    (e.g. the MICrONS, neuromorpho, Virtual Fly Brain or Janelia hemibrain datasets).\n    These are covered in separate [tutorials](../../gallery).\n\n## From files\n\nFor reading run-of-the-mill files containing meshes, {{ navis }} provides a single function: [`navis.read_mesh`][].\nUnder the hood, that function uses `trimesh.load_mesh` which supports most of the common formats (`.obj`, `.ply`, `.stl`, etc.).\n"
      ]
    },
    {
      "cell_type": "code",
      "execution_count": null,
      "metadata": {
        "collapsed": false
      },
      "outputs": [],
      "source": [
        "import navis"
      ]
    },
    {
      "cell_type": "markdown",
      "metadata": {},
      "source": [
        "```python\n# Load an example file (here a FlyWire neuron I downloaded and saved locally)\nmesh = navis.read_mesh('test_neuron.stl')\n```\n\n"
      ]
    },
    {
      "cell_type": "markdown",
      "metadata": {},
      "source": [
        "The interface is similar to [`navis.read_swc`][] in that you can point\n[`navis.read_mesh`][] at single file or at folders with multiple files:\n\n"
      ]
    },
    {
      "cell_type": "markdown",
      "metadata": {},
      "source": [
        "```python\n # When reading all files in folder you have to specificy the file extension (e.g. *.stl)\n meshes = navis.read_mesh('neurons/*.stl')\n```\n\n"
      ]
    },
    {
      "cell_type": "markdown",
      "metadata": {},
      "source": [
        "By default, [`navis.read_mesh`][] will return neurons. Use the `output` parameter to get\na [`navis.Volume`][] or a `trimesh.Trimesh` instead:\n\n"
      ]
    },
    {
      "cell_type": "markdown",
      "metadata": {},
      "source": [
        "```python\n# Load a mesh file into a Volume\nvol = navis.read_mesh('test_mesh.stl', output='volume')\n```\n\n"
      ]
    },
    {
      "cell_type": "markdown",
      "metadata": {},
      "source": [
        "## Manual construction\n\nIt's super easy to construct [`navis.MeshNeuron`][] or [`navis.Volume`][] from scratch -\nthey are just vertices and faces after all.\n\nSo if e.g. your mesh file format is not covered by [`navis.read_mesh`][] or you created\nthe mesh yourself (e.g. using a marching cube algorithm), just create the objects yourself:\n\n"
      ]
    },
    {
      "cell_type": "code",
      "execution_count": null,
      "metadata": {
        "collapsed": false
      },
      "outputs": [],
      "source": [
        "import numpy as np\n\n# Create some mock vertices\nvertices = np.array([[1, 0, 0],\n                     [0, 1, 0],\n                     [0, 0, 1]])\n# Make a single triangular face using the vertex indices\nfaces = np.array([[0, 1, 2]])"
      ]
    },
    {
      "cell_type": "markdown",
      "metadata": {},
      "source": [
        "Turn into MeshNeuron\n\n"
      ]
    },
    {
      "cell_type": "code",
      "execution_count": null,
      "metadata": {
        "collapsed": false
      },
      "outputs": [],
      "source": [
        "m = navis.MeshNeuron((vertices, faces), name='my_mesh', id=1, units='microns')\nm"
      ]
    },
    {
      "cell_type": "code",
      "execution_count": null,
      "metadata": {
        "collapsed": false
      },
      "outputs": [],
      "source": [
        "navis.plot3d(m)"
      ]
    },
    {
      "cell_type": "markdown",
      "metadata": {},
      "source": [
        "Turn into Volume\n\n"
      ]
    },
    {
      "cell_type": "code",
      "execution_count": null,
      "metadata": {
        "collapsed": false
      },
      "outputs": [],
      "source": [
        "vol = navis.Volume(vertices, faces, name='my_volume')\nvol"
      ]
    },
    {
      "cell_type": "markdown",
      "metadata": {},
      "source": [
        "## To files\n\nFor saving [`navis.MeshNeurons`][navis.MeshNeuron] or [`navis.Volumes`][navis.Volume] to disk, use [`navis.write_mesh`][].\n\n"
      ]
    },
    {
      "cell_type": "markdown",
      "metadata": {},
      "source": [
        "Save single neuron to file:\n```python\nm = navis.example_neurons(1, kind='mesh')\nnavis.write_mesh(m, '~/Downloads/neuron.obj')\n```\n\n"
      ]
    },
    {
      "cell_type": "markdown",
      "metadata": {},
      "source": [
        "Save a bunch of neurons to mesh:\n```python\nnl = navis.example_neurons(3, kind='mesh')\nnavis.write_mesh(nl, '~/Downloads/', filetype='obj')\n```\n\n"
      ]
    },
    {
      "cell_type": "markdown",
      "metadata": {},
      "source": [
        "By default, [`navis.write_mesh`][] will write multiple neurons to files named `{neuron.id}.obj`.\nYou can change this behavior by specifying the format in the filename:\n```python\n# Use the neuron name instead of the id\nnavis.write_mesh(nl, '~/Downloads/{neuron.name}.obj')\n```\n\n"
      ]
    },
    {
      "cell_type": "markdown",
      "metadata": {},
      "source": [
        "!!! important\n    One thing to keep in mind here is that {{ navis }} only works with triangular faces,\n    i.e. no quads or polygons! Please see the documentation of [`navis.MeshNeuron`][] and\n    [`navis.Volume`][] for details.\n\nThis tutorial has hopefully given you some entry points on how to load your data. See also the [I/O API reference](../../../api.md#importexport).\nAlso note that all {{ navis }} neurons can be stored to disk using ``pickle`` - see the [pickling tutorial](../tutorial_io_04_pickle).\n\nPlease also keep in mind that you can also convert one neuron type into another - for example by skeletonizing [`MeshNeurons`][navis.MeshNeuron]\n(see also the API reference on [neuron conversion](../../../api.md#converting-between-types)).\n"
      ]
    }
  ],
  "metadata": {
    "kernelspec": {
      "display_name": "Python 3",
      "language": "python",
      "name": "python3"
    },
    "language_info": {
      "codemirror_mode": {
        "name": "ipython",
        "version": 3
      },
      "file_extension": ".py",
      "mimetype": "text/x-python",
      "name": "python",
      "nbconvert_exporter": "python",
      "pygments_lexer": "ipython3",
      "version": "3.11.14"
    }
  },
  "nbformat": 4,
  "nbformat_minor": 0
}