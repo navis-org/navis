{
  "cells": [
    {
      "cell_type": "code",
      "execution_count": null,
      "metadata": {
        "collapsed": false
      },
      "outputs": [],
      "source": [
        "%matplotlib inline"
      ]
    },
    {
      "cell_type": "markdown",
      "metadata": {},
      "source": [
        "\nNeuron Types\n============\n\nThis tutorial will show you the different neuron types and how to work with them.\n\nDepending your data/workflows, you will use different representations of neurons.\nIf, for example, you work with light-level data you might end up extracting point\nclouds or neuron skeletons from image stacks. If, on the other hand, you work with\nsegmented EM data, you will typically work with meshes.\n\nTo cater for these different representations, neurons in {{ navis }} come in four flavours:\n\n| Neuron type             | Description                                                           | Core data                           |\n|-------------------------|-----------------------------------------------------------------------|-------------------------------------|\n| [`navis.TreeNeuron`][]  | A hierarchical skeleton consisting<br> of nodes and edges.            | - `.nodes`: the SWC node table      |\n| [`navis.MeshNeuron`][]  | A mesh with faces and vertices.                                       | - `.vertices`: `(N, 3)` array of x/y/z vertex coordinates<br>- `.faces`: `(M, 3)` array of faces |\n| [`navis.VoxelNeuron`][] | An image represented by either a<br> 2d array of voxels or a 3d voxel grid. | - `.voxels`: `(N, 3)` array of voxels<br>- `.values`: `(N, )` array of values (i.e. intensity)<br>- `.grid`: `(N, M, K)` 3D voxelgrid |\n| [`navis.Dotprops`][]    | A cloud of points, each with an<br> associated local vector.          | - `.points`: `(N, 3)` array of point coordinates<br>- `.vect`: `(N, 3)` array of normalized vectors |\n\nNote that functions in {{ navis }} may only work on a subset of neuron types:\ncheck out this [table](../../api.md#neuron-types-and-functions) in the [API](../../api.md)\nreference for details. If necessary, {{ navis }} can help you convert between the\ndifferent neuron types (see further [below](#converting-neuron-types))!\n\n!!! important\n    In this guide we introduce the different neuron types using data bundled with {{ navis }}.\n    To learn how to load your own neurons into {{ navis }} please see the tutorials on\n    [Import/Export](../../gallery#import-export).\n\n## TreeNeurons\n\n[`TreeNeurons`][navis.TreeNeuron] represent a neuron as a tree-like \"skeleton\" - effectively a directed\nacyclic graph, i.e. they consist of nodes and each node connects to at most one parent.\nThis format is commonly used to describe a neuron's topology and often shared using\n[SWC](http://www.neuronland.org/NLMorphologyConverter/MorphologyFormats/SWC/Spec.html) files.\n\n![skeleton](../../../_static/skeleton.png)\n\nA [`navis.TreeNeuron`][] is typically loaded from an SWC file via [`navis.read_swc`][]\nbut you can also constructed one yourself from e.g. `pandas.DataFrame` or a `networkx.DiGraph`.\nSee the [skeleton I/O](../0_io/tutorial_io_00_skeletons) tutorial for details.\n\n{{ navis }} ships with a couple example *Drosophila* neurons from the Janelia hemibrain project published\nin [Scheffer et al. (2020)](https://elifesciences.org/articles/57443) and available at <https://neuprint.janelia.org>\n(see also the [neuPrint tutorial](../4_remote/tutorial_remote_00_neuprint)):\n"
      ]
    },
    {
      "cell_type": "code",
      "execution_count": null,
      "metadata": {
        "collapsed": false
      },
      "outputs": [],
      "source": [
        "import navis\n\n# Load one of the example neurons\nsk = navis.example_neurons(n=1, kind=\"skeleton\")\n\n# Inspect the neuron\nsk"
      ]
    },
    {
      "cell_type": "markdown",
      "metadata": {},
      "source": [
        "[`navis.TreeNeuron`][] stores nodes and other data as attached `pandas.DataFrames`:\n\n"
      ]
    },
    {
      "cell_type": "code",
      "execution_count": null,
      "metadata": {
        "collapsed": false
      },
      "outputs": [],
      "source": [
        "sk.nodes.head()"
      ]
    },
    {
      "cell_type": "markdown",
      "metadata": {},
      "source": [
        "## MeshNeurons\n\n[`MeshNeurons`][navis.MeshNeuron] consist of vertices and faces, and are a typical output of e.g. image segmentation.\n\n![mesh](../../../_static/mesh.png)\n\nA [`navis.MeshNeuron`][] can be constructed from any object that has `.vertices` and `.faces` properties, a\ndictionary of `vertices` and `faces` or a file that can be parsed by `trimesh.load`.\nSee the [mesh I/O](../0_io/tutorial_io_01_meshes) tutorial for details.\n\nEach of the example neurons in {{ navis }} also comes as mesh representation:\n\n"
      ]
    },
    {
      "cell_type": "code",
      "execution_count": null,
      "metadata": {
        "collapsed": false
      },
      "outputs": [],
      "source": [
        "m = navis.example_neurons(n=1, kind=\"mesh\")\nm"
      ]
    },
    {
      "cell_type": "markdown",
      "metadata": {},
      "source": [
        "[`navis.MeshNeuron`][] stores vertices and faces as attached numpy arrays:\n\n"
      ]
    },
    {
      "cell_type": "code",
      "execution_count": null,
      "metadata": {
        "collapsed": false
      },
      "outputs": [],
      "source": [
        "m.vertices, m.faces"
      ]
    },
    {
      "cell_type": "markdown",
      "metadata": {},
      "source": [
        "## Dotprops\n\n[`Dotprops`][navis.Dotprops] represent neurons as point clouds where each point is associated with a vector\ndescribing the local orientation. This simple representation often comes from e.g. light-level data\nor as direvative of skeletons/meshes (see [`navis.make_dotprops`][]).\n\n![dotprops](../../../_static/dotprops.png)\n\nDotprops are used e.g. for [NBLAST](../5_nblast/tutorial_nblast_00_intro). See the [dotprops I/O](../0_io/tutorial_io_02_dotprops)\ntutorial for details.\n\n[`navis.Dotprops`][] consist of `.points` and associated `.vect` (vectors). They are typically\ncreated from other types of neurons using [`navis.make_dotprops`][]:\n\n"
      ]
    },
    {
      "cell_type": "markdown",
      "metadata": {},
      "source": [
        "Turn our above skeleton into dotprops\n\n"
      ]
    },
    {
      "cell_type": "code",
      "execution_count": null,
      "metadata": {
        "collapsed": false
      },
      "outputs": [],
      "source": [
        "dp = navis.make_dotprops(sk, k=5)\ndp"
      ]
    },
    {
      "cell_type": "code",
      "execution_count": null,
      "metadata": {
        "collapsed": false
      },
      "outputs": [],
      "source": [
        "dp.points, dp.vect"
      ]
    },
    {
      "cell_type": "markdown",
      "metadata": {},
      "source": [
        "Check out the NBLAST tutorial for further details on dotprops!\n\n## VoxelNeurons\n\n[`VoxelNeurons`][navis.VoxelNeuron] represent neurons as either 3d image or x/y/z voxel coordinates\ntypically obtained from e.g. light-level microscopy.\n\n![voxels](../../../_static/voxel.png)\n\n[`navis.VoxelNeuron`][] consist of either a dense 3d `(N, M, K)` array (a \"grid\") or a sparse 2d `(N, 3)`\narray of voxel coordinates (COO format). You will probably find yourself loading these\ndata from image files (e.g. `.nrrd` via [`navis.read_nrrd()`][navis.read_nrrd]). That said we can\nalso \"voxelize\" other neuron types to produce [`VoxelNeurons`][navis.VoxelNeuron]:\n\n"
      ]
    },
    {
      "cell_type": "code",
      "execution_count": null,
      "metadata": {
        "collapsed": false
      },
      "outputs": [],
      "source": [
        "# Load an example mesh\nm = navis.example_neurons(n=1, kind=\"mesh\")\n\n# Voxelize:\n# - with a 0.5 micron voxel size\n# - some Gaussian smoothing\n# - use number of vertices (counts) for voxel values\nvx = navis.voxelize(m, pitch=\"0.5 microns\", smooth=2, counts=True)\nvx"
      ]
    },
    {
      "cell_type": "markdown",
      "metadata": {},
      "source": [
        "This is the grid representation of the neuron:\n\n"
      ]
    },
    {
      "cell_type": "code",
      "execution_count": null,
      "metadata": {
        "collapsed": false
      },
      "outputs": [],
      "source": [
        "vx.grid.shape"
      ]
    },
    {
      "cell_type": "markdown",
      "metadata": {},
      "source": [
        "And this is the `(N, 3)` voxel coordinates + `(N, )` values sparse representation of the neuron:\n\n"
      ]
    },
    {
      "cell_type": "code",
      "execution_count": null,
      "metadata": {
        "collapsed": false
      },
      "outputs": [],
      "source": [
        "vx.voxels.shape, vx.values.shape"
      ]
    },
    {
      "cell_type": "markdown",
      "metadata": {},
      "source": [
        "!!! note\n\n    You may have noticed that all neurons share some properties irrespective of their type,\n    for example `.id`, `.name` or `.units`. These properties are optional and can\n    be set when you first create the neuron, or at a later point.\n\n    In particular the `.id` property is important because many functions in {{ navis }}\n    will return results that are indexed by the neurons' IDs. If `.id` is not set\n    explicitly, it will default to some rather cryptic random UUID - you have been warned!\n    :wink:\n\n## Neuron meta data\n\n### Connectors\n\n{{ navis }} was designed with connectivity data in mind! Therefore, each neuron - regardless of\ntype - _can_ have a `.connectors` table. Connectors are meant to bundle all kinds of connections:\npre- & postsynapses, electrical synapses, gap junctions and so on.\n\nA connector table must minimally contain an `x/y/z` coordinate and a `type` for each connector.\nHere is an example of a connector table:\n\n"
      ]
    },
    {
      "cell_type": "code",
      "execution_count": null,
      "metadata": {
        "collapsed": false
      },
      "outputs": [],
      "source": [
        "n = navis.example_neurons(1)\nn.connectors.head()"
      ]
    },
    {
      "cell_type": "markdown",
      "metadata": {},
      "source": [
        "Connector tables aren't just passive meta data: certain functions in {{ navis }} use or even\nrequire them. The most obvious example is probably for plotting:\n\n"
      ]
    },
    {
      "cell_type": "code",
      "execution_count": null,
      "metadata": {
        "collapsed": false
      },
      "outputs": [],
      "source": [
        "# Plot neuron including its connectors\nfig, ax = navis.plot2d(\n    n,  # the neuron\n    connectors=True,  # plot the neurons' connectors\n    color=\"k\",  # make the neuron black\n    cn_size=3,  # slightly increase connector size\n    view=(\"x\", \"-z\"),  # set frontal view\n    method=\"2d\"  # connectors are better visible in 2d\n)"
      ]
    },
    {
      "cell_type": "markdown",
      "metadata": {},
      "source": [
        "In above plot, red dots are presynapses (outputs) and cyan dots are postsynapses (inputs).\n\n### Somas\n\nUnless a neuron is truncated, it should have a soma somewhere. Knowing where the soma is can\nbe very useful, e.g. as point of reference for distance calculations or for plotting.\nTherefore, {{ soma }} neurons have a `.soma` property:\n\n"
      ]
    },
    {
      "cell_type": "code",
      "execution_count": null,
      "metadata": {
        "collapsed": false
      },
      "outputs": [],
      "source": [
        "n = navis.example_neurons(1)\nn.soma"
      ]
    },
    {
      "cell_type": "markdown",
      "metadata": {},
      "source": [
        "In case of this exemplary [`navis.TreeNeuron`][], the `.soma` points to an ID in the node table.\nWe can also get the position:\n\n"
      ]
    },
    {
      "cell_type": "code",
      "execution_count": null,
      "metadata": {
        "collapsed": false
      },
      "outputs": [],
      "source": [
        "n.soma_pos"
      ]
    },
    {
      "cell_type": "markdown",
      "metadata": {},
      "source": [
        "Other neuron types also support soma annotations but they may look slightly different. For a\n[`navis.MeshNeuron`][], annotating a node position makes little sense. Instead, we track\nthe x/y/z position directly:\n\n"
      ]
    },
    {
      "cell_type": "code",
      "execution_count": null,
      "metadata": {
        "collapsed": false
      },
      "outputs": [],
      "source": [
        "m = navis.example_neurons(1, kind=\"mesh\")\nm.soma_pos"
      ]
    },
    {
      "cell_type": "markdown",
      "metadata": {},
      "source": [
        "For the record: `.soma` / `.soma_pos` can be set manually like any other property (there are\nsome checks and balances to avoid issues) and can also be `None`:\n\n"
      ]
    },
    {
      "cell_type": "code",
      "execution_count": null,
      "metadata": {
        "collapsed": false
      },
      "outputs": [],
      "source": [
        "# Set the skeleton's soma on node with ID 1\nn.soma = 1\nn.soma"
      ]
    },
    {
      "cell_type": "markdown",
      "metadata": {},
      "source": [
        "Drop soma from MeshNeuron\n\n"
      ]
    },
    {
      "cell_type": "code",
      "execution_count": null,
      "metadata": {
        "collapsed": false
      },
      "outputs": [],
      "source": [
        "m.soma_pos = None"
      ]
    },
    {
      "cell_type": "markdown",
      "metadata": {},
      "source": [
        "### Units\n\n{{ navis }} supports assigning units to neurons. The neurons shipping with {{ navis }}, for example, are in 8x8x8nm voxel space[^1]:\n\n[^1]: The example neurons are from the [Janelia hemibrain connectome](https://www.janelia.org/project-team/flyem/hemibrain) project which as imaged at 8x8x8nm resolution.\n\n"
      ]
    },
    {
      "cell_type": "code",
      "execution_count": null,
      "metadata": {
        "collapsed": false
      },
      "outputs": [],
      "source": [
        "m = navis.example_neurons(1, kind=\"mesh\")\nprint(m.units)"
      ]
    },
    {
      "cell_type": "markdown",
      "metadata": {},
      "source": [
        "To set the neuron's units simply use a descriptive string:\n\n"
      ]
    },
    {
      "cell_type": "code",
      "execution_count": null,
      "metadata": {
        "collapsed": false
      },
      "outputs": [],
      "source": [
        "m.units = \"10 micrometers\"\nprint(m.units)"
      ]
    },
    {
      "cell_type": "markdown",
      "metadata": {},
      "source": [
        "!!! note\n    Setting the units as we did above does not actually change the neuron's coordinates. It\n    merely sets a property that can be used by other functions to interpret the neuron's\n    coordinate space. See below on how to convert the units of a neuron.\n\nTracking units is good practice in general but is also very useful in a variety of scenarios:\n\nFirst, certain {{ navis }} functions let you pass quantities as unit strings:\n\n"
      ]
    },
    {
      "cell_type": "code",
      "execution_count": null,
      "metadata": {
        "collapsed": false
      },
      "outputs": [],
      "source": [
        "# Load example neuron which is in 8x8x8nm space\nn = navis.example_neurons(1, kind=\"skeleton\")\n\n# Resample to 1 micrometer\nrs = navis.resample_skeleton(n, resample_to=\"1 um\")"
      ]
    },
    {
      "cell_type": "markdown",
      "metadata": {},
      "source": [
        "Second, {{ navis }} optionally uses the neuron's units to make certain properties more\ninterpretable. By default, properties like cable length or volume are returned in the\nneuron's units, i.e. in 8x8x8nm voxel space in our case:\n\n"
      ]
    },
    {
      "cell_type": "code",
      "execution_count": null,
      "metadata": {
        "collapsed": false
      },
      "outputs": [],
      "source": [
        "print(n.cable_length)"
      ]
    },
    {
      "cell_type": "markdown",
      "metadata": {},
      "source": [
        "You can tell {{ navis}} to use the neuron's `.units` to make these properties more readable:\n\n"
      ]
    },
    {
      "cell_type": "code",
      "execution_count": null,
      "metadata": {
        "collapsed": false
      },
      "outputs": [],
      "source": [
        "navis.config.add_units = True\nprint(n.cable_length)\nnavis.config.add_units = False  # reset to default"
      ]
    },
    {
      "cell_type": "markdown",
      "metadata": {},
      "source": [
        "!!! note\n    Note that `n.cable_length` is now a `pint.Quantity` object. This may make certain operations\n    a bit more cumbersome which is why this feature is optional. You can to a float by calling\n    `.magnitude`:\n\n    ```python\n    n.cable_length.magnitude\n    ```\n\n"
      ]
    },
    {
      "cell_type": "markdown",
      "metadata": {},
      "source": [
        "Check out Pint's [documentation](https://pint.readthedocs.io/en/stable/) to learn more.\n\nTo actually convert the neuron's coordinate space, you have two options:\n\n=== \"Multiply/Divide\"\n\n    You can multiply or divide any neuron or [`NeuronList`][navis.NeuronList] by a number\n    to change the units:\n\n    ```python\n    # Example neuron are in 8x8x8nm voxel space\n    n = navis.example_neurons(1)\n    # Multiply by 8 to get to nanometer space\n    n_nm = n * 8\n    # Divide by 1000 to get micrometers\n    n_um = n_nm / 1000\n    ```\n\n    For non-isometric conversions you can pass a vector of scaling factors:\n    ```python\n    neuron * [4, 4, 40]\n    ```\n    Note that for `TreeNeurons`, this is expected to be scaling factors for\n    `(x, y, z, radius)`.\n\n\n=== \"Convert units\"\n\n    If your neuron has known units, you can let {{ navis }} do the conversion for you:\n\n    ```python\n    n = navis.example_neurons(1)\n    # Convert to micrometers\n    n_um = n.convert_units(\"micrometers\")\n    ```\n\n!!! experiment \"Addition & Subtraction\"\n    Multiplication and division will scale the neuro as you've seen above.\n    Similarly, adding or subtracting to/from neurons will offset the neuron's coordinates:\n    ```python\n    n = navis.example_neurons(1)\n\n    # Convert to microns\n    n_um = n.convert_units(\"micrometers\")\n\n    # Add 100 micrometers along all axes to the neuron\n    n_offset = n + 100\n\n    # Subtract 100 micrometers along just one axis\n    n_offset = n - [0, 0, 100]#\n    ```\n\n## Operating on neurons\n\nAbove we've already seen examples of passing neurons to functions - for example [`navis.plot2d(n)`][navis.plot2d].\n\nFor some {{ navis }} functions, neurons offer have shortcut \"methods\":\n\n"
      ]
    },
    {
      "cell_type": "markdown",
      "metadata": {},
      "source": [
        "=== \"Using shorthand methods\"\n    ```python\n    import navis\n    sk = navis.example_neurons(1, kind='skeleton')\n\n    sk.reroot(sk.soma, inplace=True)  # reroot the neuron to its soma\n\n    lh = navis.example_volume('LH')\n    sk.prune_by_volume(lh, inplace=True)  # prune the neuron to a volume#\n\n    sk.plot3d(color='red')  # plot the neuron in 3d\n    ```\n\n=== \"Using NAVis functions\"\n    ```python\n    import navis\n    sk = navis.example_neurons(1, kind='skeleton')\n\n    navis.reroot_skeleton(sk, sk.soma, inplace=True)  # reroot the neuron to its soma\n\n    lh = navis.example_volume('LH')\n    navis.in_volume(sk, lh, inplace=True)  # prune the neuron to a volume\n\n    navis.plot3d(sk, color='red')  # plot the neuron in 3d\n    ```\n\n!!! note\n\n    In some cases the shorthand methods might offer only a subset of the full function's functionality.\n\n### The `inplace` parameter\n\n The `inplace` parameter is part of many {{ navis }} functions and works like e.g. in the `pandas` library:\n\n - if `#!python inplace=True` operations are performed directly on the input neuron(s)\n - if `#!python inplace=False` (default) a modified copy of the input is returned and the input is left unchanged\n\nIf you know you don't need the original, you can use `#!python inplace=True` to save memory (and a bit of time):\n\n"
      ]
    },
    {
      "cell_type": "code",
      "execution_count": null,
      "metadata": {
        "collapsed": false
      },
      "outputs": [],
      "source": [
        "# Load a neuron\nn = navis.example_neurons(1)\n# Load an example neuropil\nlh = navis.example_volume(\"LH\")\n\n# Prune neuron to neuropil but leave original intact\nn_lh = n.prune_by_volume(lh, inplace=False)\n\nprint(f\"{n.n_nodes} nodes before and {n_lh.n_nodes} nodes after pruning\")"
      ]
    },
    {
      "cell_type": "markdown",
      "metadata": {},
      "source": [
        "## All neurons are equal...\n\n... but some are more equal than others.\n\nIn Python the `==` operator compares two objects:\n\n"
      ]
    },
    {
      "cell_type": "code",
      "execution_count": null,
      "metadata": {
        "collapsed": false
      },
      "outputs": [],
      "source": [
        "1 == 1"
      ]
    },
    {
      "cell_type": "code",
      "execution_count": null,
      "metadata": {
        "collapsed": false
      },
      "outputs": [],
      "source": [
        "2 == 1"
      ]
    },
    {
      "cell_type": "markdown",
      "metadata": {},
      "source": [
        "For {{ navis }} neurons this is comparison done by looking at the neurons' attribues:\nmorphologies (soma & root nodes, cable length, etc) and meta data (name).\n\n"
      ]
    },
    {
      "cell_type": "code",
      "execution_count": null,
      "metadata": {
        "collapsed": false
      },
      "outputs": [],
      "source": [
        "n1, n2 = navis.example_neurons(n=2)\nn1 == n1"
      ]
    },
    {
      "cell_type": "code",
      "execution_count": null,
      "metadata": {
        "collapsed": false
      },
      "outputs": [],
      "source": [
        "n1 == n2"
      ]
    },
    {
      "cell_type": "markdown",
      "metadata": {},
      "source": [
        "To find out which attributes are compared, check out the neuron's `.EQ_ATTRIBUTES` property:\n\n"
      ]
    },
    {
      "cell_type": "code",
      "execution_count": null,
      "metadata": {
        "collapsed": false
      },
      "outputs": [],
      "source": [
        "navis.TreeNeuron.EQ_ATTRIBUTES"
      ]
    },
    {
      "cell_type": "markdown",
      "metadata": {},
      "source": [
        "Edit this list to establish your own criteria for equality.\n\n## Making custom changes\n\nUnder the hood {{ navis }} calculates certain properties when you load a neuron: e.g. it produces\na graph representation (`.graph` or `.igraph`) and a list of linear segments (`.segments`) for\n[`TreeNeurons`][navis.TreeNeuron]. These data are attached to a neuron and are crucial for many\nfunctions. Therefore {{ navis }} makes sure that any changes to a neuron automatically propagate\ninto these derived properties. See this example:\n\n"
      ]
    },
    {
      "cell_type": "code",
      "execution_count": null,
      "metadata": {
        "collapsed": false
      },
      "outputs": [],
      "source": [
        "n = navis.example_neurons(1, kind=\"skeleton\")\n\nprint(f\"Nodes in node table: {n.nodes.shape[0]}\")\nprint(f\"Nodes in graph: {len(n.graph.nodes)}\")"
      ]
    },
    {
      "cell_type": "markdown",
      "metadata": {},
      "source": [
        "Making changes will cause the graph representation to be regenerated:\n\n"
      ]
    },
    {
      "cell_type": "code",
      "execution_count": null,
      "metadata": {
        "collapsed": false
      },
      "outputs": [],
      "source": [
        "n.prune_by_strahler(1, inplace=True)\n\nprint(f\"Nodes in node table: {n.nodes.shape[0]}\")\nprint(f\"Nodes in graph: {len(n.graph.nodes)}\")"
      ]
    },
    {
      "cell_type": "markdown",
      "metadata": {},
      "source": [
        "If, however, you make changes to the neurons that do not use built-in functions there is a chance that\n{{ navis }} won't realize that things have changed and properties need to be regenerated!\n\n"
      ]
    },
    {
      "cell_type": "code",
      "execution_count": null,
      "metadata": {
        "collapsed": false
      },
      "outputs": [],
      "source": [
        "n = navis.example_neurons(1)\n\nprint(f\"Nodes in node table before: {n.nodes.shape[0]}\")\nprint(f\"Nodes in graph before: {len(n.graph.nodes)}\")\n\n# Truncate the node table by 55 nodes\nn.nodes = n.nodes.iloc[:-55].copy()\n\nprint(f\"\\nNodes in node table after: {n.nodes.shape[0]}\")\nprint(f\"Nodes in graph after: {len(n.graph.nodes)}\")"
      ]
    },
    {
      "cell_type": "markdown",
      "metadata": {},
      "source": [
        "Here, the changes to the node table automatically triggered a regeneration of the graph. This works\nbecause {{ navis }} checks hash values of neurons and in this instance it detected that the node\nnode table - which represents the core data for [`TreeNeurons`][navis.TreeNeuron] - had changed.\nIt would not work the other way around: changing the graph does not trigger changes in the node table.\n\nAgain: as long as you are using built-in functions, you don't have to worry about this. If you do\nrun some custom manipulation of neurons be aware that you might want to make sure that the data\nstructure remains intact. If you ever need to manually trigger a regeneration you can do so like this:\n\n"
      ]
    },
    {
      "cell_type": "markdown",
      "metadata": {},
      "source": [
        "Clear temporary attributes of the neuron\n```python\nn._clear_temp_attr()\n```\n\n"
      ]
    },
    {
      "cell_type": "markdown",
      "metadata": {},
      "source": [
        "## Converting neuron types\n\n{{ navis }} provides a couple functions to move between neuron types:\n\n- [`navis.make_dotprops`][]: Convert any neuron to dotprops\n- [`navis.skeletonize`][]: Convert any neuron to a skeleton\n- [`navis.mesh`][]: Convert any neuron to a mesh\n- [`navis.voxelize`][]: Convert any neuron to a voxel grid\n\nIn particular meshing and skeletonizing are non-trivial and you might have to play around with the\nparameters to optimize results with your data! Let's demonstrate on some example:\n\n"
      ]
    },
    {
      "cell_type": "code",
      "execution_count": null,
      "metadata": {
        "collapsed": false
      },
      "outputs": [],
      "source": [
        "# Start with a mesh neuron\nm = navis.example_neurons(1, kind=\"mesh\")\n\n# Skeletonize the mesh\ns = navis.skeletonize(m)\n\n# Make dotprops (this works from any other neuron type\ndp = navis.make_dotprops(s, k=5)\n\n# Voxelize the mesh\nvx = navis.voxelize(m, pitch=\"2 microns\", smooth=1, counts=True)\n\n# Mesh the voxels\nmm = navis.mesh(vx.threshold(0.5))"
      ]
    },
    {
      "cell_type": "markdown",
      "metadata": {},
      "source": [
        "Inspect the results:\n\n"
      ]
    },
    {
      "cell_type": "code",
      "execution_count": null,
      "metadata": {
        "collapsed": false
      },
      "outputs": [],
      "source": [
        "# Co-visualize the mesh and the skeleton\nnavis.plot3d(\n    [m, s],\n    color=[(0.7, 0.7, 0.7, 0.2), \"r\"],  # transparent mesh, skeleton in red\n    radius=False,  # False so that skeleton is drawn as a line\n)"
      ]
    },
    {
      "cell_type": "markdown",
      "metadata": {},
      "source": [
        "Co-visualize the mesh and the dotprops\n\n"
      ]
    },
    {
      "cell_type": "code",
      "execution_count": null,
      "metadata": {
        "collapsed": false
      },
      "outputs": [],
      "source": [
        "navis.plot3d(\n    [m, dp],\n    color=[(0.7, 0.7, 0.7, 0.2), \"r\"],  # transparent mesh, dotprops in red\n)"
      ]
    },
    {
      "cell_type": "markdown",
      "metadata": {},
      "source": [
        "Co-visualize the mesh and the dotprops\n(note that plotly is not great at visualizing voxels)\n\n"
      ]
    },
    {
      "cell_type": "code",
      "execution_count": null,
      "metadata": {
        "collapsed": false
      },
      "outputs": [],
      "source": [
        "navis.plot3d([m * 8, vx])"
      ]
    },
    {
      "cell_type": "markdown",
      "metadata": {},
      "source": [
        "Co-visualize the original mesh and the meshed voxels\n\n"
      ]
    },
    {
      "cell_type": "code",
      "execution_count": null,
      "metadata": {
        "collapsed": false
      },
      "outputs": [],
      "source": [
        "navis.plot3d([vx, mm], fig_autosize=True)"
      ]
    },
    {
      "cell_type": "markdown",
      "metadata": {},
      "source": [
        "## Neuron attributes\n\nThis is a *selection* of neuron class (i.e. [`navis.TreeNeuron`][], [`navis.MeshNeuron`][], etc.) attributes.\n\nAll neurons have this:\n\n- `name`: a name\n- `id`: a (hopefully unique) identifier - defaults to random UUID if not set explicitly\n- `bbox`: Bounding box of neuron\n- `units` (optional): spatial units (e.g. \"1 micrometer\" or \"8 nanometer\" voxels)\n- `connectors` (optional): connector table\n\nOnly for [`TreeNeurons`][navis.TreeNeuron]:\n\n- `nodes`: node table\n- `cable_length`: cable length(s)\n- `soma`: node ID(s) of soma (if applicable)\n- `root`: root node ID(s)\n- `segments`: list of linear segments\n- `graph`: NetworkX graph representation of the neuron\n- `igraph`: iGraph representation of the neuron (if library available)\n\nOnly for [`MeshNeurons`][navis.MeshNeuron]:\n\n- `vertices`/`faces`: vertices and faces\n- `volume`: volume of mesh\n- `soma_pos`: x/y/z position of soma\n\nOnly for [`VoxelNeurons`][navis.VoxelNeuron]:\n\n- `voxels`: `(N, 3)` sparse representation\n- `grid`: `(N, M, K)` voxel grid representation\n\nOnly for [`Dotprops`][navis.Dotprops]:\n\n- `points` `(N, 3`) x/y/z points\n- `vect`: `(N, 3)` array of the vector associated with each point\n\nAll above attributes can be accessed via [`NeuronLists`][navis.NeuronList] containing the neurons. In addition you can also get:\n\n- `is_mixed`: returns `True` if list contains more than one neuron type\n- `is_degenerated`: returns `True` if list contains neurons with non-unique IDs\n- `types`: tuple with all types of neurons in the list\n- `shape`: size of neuronlist `(N, )`\n\nAll attributes and methods are accessible through auto-completion.\n\n## What next?\n\n<div class=\"grid cards\" markdown>\n\n-   :material-cube:{ .lg .middle } __Lists of Neurons__\n\n    ---\n\n    Check out the guide on lists of neurons.\n\n    [:octicons-arrow-right-24: NeuronLists tutorial](../tutorial_basic_02_neuronlists)\n\n-   :octicons-file-directory-symlink-16:{ .lg .middle } __Neuron I/O__\n\n    ---\n\n    Learn about how to load your own neurons into {{ navis }}.\n\n    [:octicons-arrow-right-24: I/O Tutorials](../../gallery#import-export)\n\n</div>\n\n"
      ]
    }
  ],
  "metadata": {
    "kernelspec": {
      "display_name": "Python 3",
      "language": "python",
      "name": "python3"
    },
    "language_info": {
      "codemirror_mode": {
        "name": "ipython",
        "version": 3
      },
      "file_extension": ".py",
      "mimetype": "text/x-python",
      "name": "python",
      "nbconvert_exporter": "python",
      "pygments_lexer": "ipython3",
      "version": "3.11.14"
    }
  },
  "nbformat": 4,
  "nbformat_minor": 0
}