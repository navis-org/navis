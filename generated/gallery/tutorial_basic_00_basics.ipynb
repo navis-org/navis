{
  "cells": [
    {
      "cell_type": "code",
      "execution_count": null,
      "metadata": {
        "collapsed": false
      },
      "outputs": [],
      "source": [
        "%matplotlib inline"
      ]
    },
    {
      "cell_type": "markdown",
      "metadata": {},
      "source": [
        "\nThe Basics\n==========\n\nThis tutorial will introduce some of the basics concepts in NAVis.\n\nThis is not supposed to be comprehensive but rather to give you a flavor of how things work. For inspiriation,\nexplore the [example gallery](../index) and for detailed explanations have a look at the [API documentation](../../../api/).\n\n## Single Neurons\n\n{{ navis }} lets you import neurons from a variety of local and remote sources. For demonstration purposes {{ navis }} comes with a\nbunch of fruit fly neurons from the [Janelia hemibrain](https://neuprint.janelia.org) project:\n\n\n!!! note\n\n    We will cover loading neurons from different sources in a different tutorial.\n"
      ]
    },
    {
      "cell_type": "code",
      "execution_count": null,
      "metadata": {
        "collapsed": false
      },
      "outputs": [],
      "source": [
        "import navis\n\n# Load a single neuron\nn = navis.example_neurons(n=1, kind='skeleton')\nn"
      ]
    },
    {
      "cell_type": "markdown",
      "metadata": {},
      "source": [
        "In above code we loaded one of the example neurons. {{ navis }} represents neurons as\n[`navis.TreeNeuron`][], [`navis.MeshNeuron`][], [`navis.VoxelNeuron`][] or [`navis.Dotprops`][].\n\nIn the above example we asked for a skeleton, so the neuron returned is a [`TreeNeuron`][navis.TreeNeuron].\nThis class is essentially a wrapper around the actual neuron data (the SWC table in this case) and has\nsome convenient features.\n\nNode data is stored as `pandas.DataFrame`:\n\n"
      ]
    },
    {
      "cell_type": "code",
      "execution_count": null,
      "metadata": {
        "collapsed": false
      },
      "outputs": [],
      "source": [
        "n.nodes.head()"
      ]
    },
    {
      "cell_type": "markdown",
      "metadata": {},
      "source": [
        "!!! note \"Pandas\"\n\n    [pandas](https://pandas.pydata.org) is **the** data science library for Python and will help you analyze and visualize your data.\n    We highly recommend familiarizing yourself with pandas! There are plenty of good tutorials out there but pandas' own\n    [10 Minutes to pandas](https://pandas.pydata.org/pandas-docs/stable/10min.html) is a good place to start.\n\nTry typing in \"`n.`\" and hitting tab: most attributes and functions are accessible via autocompletion.\nIf you don't know what a function does, check out the documentation using `help()` or via the [API documentation](../../../api):\n```python\nhelp(navis.TreeNeuron.root)\n```\n\n```python\nhelp(navis.TreeNeuron.downsample)\n```\n\n"
      ]
    },
    {
      "cell_type": "markdown",
      "metadata": {},
      "source": [
        "You will notice that many {{ navis }} functions that accept neurons have an `inplace` parameter. This is analogous to pandas:\n\n"
      ]
    },
    {
      "cell_type": "markdown",
      "metadata": {},
      "source": [
        "Downsample a copy, leaving the original unchanged\n(this is the default for almost all functions)\n\n"
      ]
    },
    {
      "cell_type": "code",
      "execution_count": null,
      "metadata": {
        "collapsed": false
      },
      "outputs": [],
      "source": [
        "n_ds = n.downsample(10, inplace=False)\n\n# Downsample original neuron\nn.downsample(10, inplace=True)\n\nn"
      ]
    },
    {
      "cell_type": "markdown",
      "metadata": {},
      "source": [
        "[`navis.TreeNeuron`][] functions such as [`.downsample()`][navis.TreeNeuron.downsample] are shorthands for calling the actual\n{{ navis }} functions. So above code is equivalent to:\n\n"
      ]
    },
    {
      "cell_type": "code",
      "execution_count": null,
      "metadata": {
        "collapsed": false
      },
      "outputs": [],
      "source": [
        "n = navis.example_neurons(n=1, kind='skeleton')\nn_ds = navis.downsample_neuron(n, downsampling_factor=10, inplace=False)\nn_ds"
      ]
    },
    {
      "cell_type": "markdown",
      "metadata": {},
      "source": [
        "## Lists of Neurons\n\nFor multiple neurons, {{ navis }} uses [`navis.NeuronList`][]:\n\n"
      ]
    },
    {
      "cell_type": "code",
      "execution_count": null,
      "metadata": {
        "collapsed": false
      },
      "outputs": [],
      "source": [
        "nl = navis.example_neurons(n=3, kind='skeleton')\nnl"
      ]
    },
    {
      "cell_type": "markdown",
      "metadata": {},
      "source": [
        "[`navis.NeuronList`][] is a container and behaves like a glorified `list`:\n\n"
      ]
    },
    {
      "cell_type": "code",
      "execution_count": null,
      "metadata": {
        "collapsed": false
      },
      "outputs": [],
      "source": [
        "nl[0]"
      ]
    },
    {
      "cell_type": "markdown",
      "metadata": {},
      "source": [
        "[`navis.NeuronList`][] lets you run/access all functions (methods) and properties of the neurons it contrains:\n\n"
      ]
    },
    {
      "cell_type": "code",
      "execution_count": null,
      "metadata": {
        "collapsed": false
      },
      "outputs": [],
      "source": [
        "nl.cable_length"
      ]
    },
    {
      "cell_type": "code",
      "execution_count": null,
      "metadata": {
        "collapsed": false
      },
      "outputs": [],
      "source": [
        "nl_ds = nl.downsample(10, inplace=False)\n\nnl_ds"
      ]
    },
    {
      "cell_type": "markdown",
      "metadata": {},
      "source": [
        "Let's finish this primer with some eye candy\n\n"
      ]
    },
    {
      "cell_type": "code",
      "execution_count": null,
      "metadata": {
        "collapsed": false
      },
      "outputs": [],
      "source": [
        "nl.plot3d(backend='plotly')"
      ]
    },
    {
      "cell_type": "markdown",
      "metadata": {},
      "source": [
        "## What next?\n\n<div class=\"grid cards\" markdown>\n\n-   :material-tree-outline:{ .lg .middle } __Neuron types__\n    ---\n\n    Find out more about the different neuron types in {{ navis }}.\n\n    [:octicons-arrow-right-24: Neuron types tutorial](../tutorial_basic_01_neurons)\n\n-   :fontawesome-solid-list-ul:{ .lg .middle } __Lists of Neurons__\n    ---\n\n    Check out the guide on lists of neurons.\n\n    [:octicons-arrow-right-24: NeuronLists tutorial](../tutorial_basic_02_neuronlists)\n\n-   :octicons-file-directory-symlink-16:{ .lg .middle } __Neuron I/O__\n    ---\n\n    Learn about how to load your own neurons into {{ navis }}.\n\n    [:octicons-arrow-right-24: I/O Tutorials](../../gallery#import-export)\n\n</div>\n\n"
      ]
    }
  ],
  "metadata": {
    "kernelspec": {
      "display_name": "Python 3",
      "language": "python",
      "name": "python3"
    },
    "language_info": {
      "codemirror_mode": {
        "name": "ipython",
        "version": 3
      },
      "file_extension": ".py",
      "mimetype": "text/x-python",
      "name": "python",
      "nbconvert_exporter": "python",
      "pygments_lexer": "ipython3",
      "version": "3.11.14"
    }
  },
  "nbformat": 4,
  "nbformat_minor": 0
}