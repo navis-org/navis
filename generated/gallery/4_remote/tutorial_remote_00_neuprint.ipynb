{
  "cells": [
    {
      "cell_type": "code",
      "execution_count": null,
      "metadata": {
        "collapsed": false
      },
      "outputs": [],
      "source": [
        "%matplotlib inline"
      ]
    },
    {
      "cell_type": "markdown",
      "metadata": {},
      "source": [
        "\nneuPrint\n========\n\nThis tutorial shows how to fetch neurons from a neuPrint server.\n\n[NeuPrint](https://www.biorxiv.org/content/10.1101/2020.01.16.909465v1) is a service for presenting and analyzing connectomics data.\nIt is used to host, for example, the Janelia EM reconstructions from a *Drosophila* hemibrain at <https://neuprint.janelia.org/>.\n\n[neuprint-python](https://github.com/connectome-neuprint/neuprint-python) is a Python library that lets you query data directly\nfrom a neuPrint server. You can install it from PyPI:\n\n```shell\npip3 install neuprint-python\n```\n\n`navis.interfaces.neuprint` wraps `neuprint-python` and adds a few new functions to fetch and convert data into {{ navis }} objects.\n"
      ]
    },
    {
      "cell_type": "code",
      "execution_count": null,
      "metadata": {
        "collapsed": false
      },
      "outputs": [],
      "source": [
        "# Import navis\nimport navis\n\n# Import neuprint wrapper by navis\nimport navis.interfaces.neuprint as neu"
      ]
    },
    {
      "cell_type": "markdown",
      "metadata": {},
      "source": [
        "First set up the connection:\nYou can either pass your API token directly or store as `NEUPRINT_APPLICATION_CREDENTIALS` environment variable.\nThe latter is the recommended way and we will use it here:\n\n"
      ]
    },
    {
      "cell_type": "code",
      "execution_count": null,
      "metadata": {
        "collapsed": false
      },
      "outputs": [],
      "source": [
        "client = neu.Client(\n    \"https://neuprint.janelia.org/\",\n    # token=\"MYLONGTOKEN\"  # use this to instead pass your token directly\n    dataset=\"hemibrain:v1.2.1\",\n)"
      ]
    },
    {
      "cell_type": "markdown",
      "metadata": {},
      "source": [
        "You can use all of neuprint's functions:\n\n"
      ]
    },
    {
      "cell_type": "code",
      "execution_count": null,
      "metadata": {
        "collapsed": false
      },
      "outputs": [],
      "source": [
        "mbons, roi_info = neu.fetch_neurons(\n    neu.SegmentCriteria(instance=\".*MBON.*\", regex=True)\n)\nmbons.head(3)"
      ]
    },
    {
      "cell_type": "markdown",
      "metadata": {},
      "source": [
        "{{ navis }} has added three functions to `neu`:\n\n - [`navis.interfaces.neuprint.fetch_roi`][]: returns a [`navis.Volume`][] from a ROI\n - [`navis.interfaces.neuprint.fetch_skeletons`][]: returns fully fledged [`navis.TreeNeurons`][navis.TreeNeuron] - nodes, synapses, soma and all\n - [`navis.interfaces.neuprint.fetch_mesh_neuron`][]: returns [`navis.MeshNeurons`][navis.MeshNeuron] - including synapses\n\nLet's start by fetching the mesh for the right mushroom body ROI:\n\n"
      ]
    },
    {
      "cell_type": "code",
      "execution_count": null,
      "metadata": {
        "collapsed": false
      },
      "outputs": [],
      "source": [
        "mb = neu.fetch_roi(\"MB(R)\")\nmb"
      ]
    },
    {
      "cell_type": "markdown",
      "metadata": {},
      "source": [
        "Next, let's fetch the skeletons of all right MBONs:\n\n"
      ]
    },
    {
      "cell_type": "code",
      "execution_count": null,
      "metadata": {
        "collapsed": false
      },
      "outputs": [],
      "source": [
        "mbon_skeletons = neu.fetch_skeletons(\n    neu.SegmentCriteria(instance=\".*MBON.*_R\", regex=True), with_synapses=True\n)\nmbon_skeletons.head()"
      ]
    },
    {
      "cell_type": "markdown",
      "metadata": {},
      "source": [
        "Co-visualize the MBONs and the MB volume:\n\n"
      ]
    },
    {
      "cell_type": "code",
      "execution_count": null,
      "metadata": {
        "collapsed": false
      },
      "outputs": [],
      "source": [
        "navis.plot3d(\n    [mbon_skeletons[0], mb],\n    legend=False,  # Hide the legend (more space for the plot)\n)"
      ]
    },
    {
      "cell_type": "markdown",
      "metadata": {},
      "source": [
        "Last (but not least), let's make a 2d plot for the tutorial's thumbnail:\n\n"
      ]
    },
    {
      "cell_type": "code",
      "execution_count": null,
      "metadata": {
        "collapsed": false
      },
      "outputs": [],
      "source": [
        "import matplotlib.pyplot as plt\n\nfig, ax = navis.plot2d(\n    [mbon_skeletons[0], mb],\n    c=(0, 0, 0, 1),  # Make the neuron black\n    method=\"3d\",\n    connectors=True,\n    linewidth=0.5,  # Make neuron a bit thinner to emphasize the synapses\n    view=(\"x\", \"-z\"),\n)\n\nplt.tight_layout()"
      ]
    },
    {
      "cell_type": "markdown",
      "metadata": {},
      "source": [
        "All {{ navis }} functions for analysis & visualization should work on these neurons. If not, please open an issue on Github.\n\n"
      ]
    }
  ],
  "metadata": {
    "kernelspec": {
      "display_name": "Python 3",
      "language": "python",
      "name": "python3"
    },
    "language_info": {
      "codemirror_mode": {
        "name": "ipython",
        "version": 3
      },
      "file_extension": ".py",
      "mimetype": "text/x-python",
      "name": "python",
      "nbconvert_exporter": "python",
      "pygments_lexer": "ipython3",
      "version": "3.11.14"
    }
  },
  "nbformat": 4,
  "nbformat_minor": 0
}