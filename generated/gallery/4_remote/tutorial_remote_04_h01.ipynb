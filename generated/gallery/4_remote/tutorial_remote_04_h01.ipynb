{
  "cells": [
    {
      "cell_type": "code",
      "execution_count": null,
      "metadata": {
        "collapsed": false
      },
      "outputs": [],
      "source": [
        "%matplotlib inline"
      ]
    },
    {
      "cell_type": "markdown",
      "metadata": {},
      "source": [
        "\nH01 Dataset\n===========\n\nIn this notebook, you can learn how to work with the H01 dataset using NAVis.\n\nThe [H01 dataset](https://www.science.org/doi/10.1126/science.adk4858) contains 57,000 cells and 150 million synapses\nfrom a cubic millimeter of the human temporal cortex, which is [proofread](https://h01-release.storage.googleapis.com/proofreading.html)\nusing the CAVE ecoystem.\n\nWith this interface, you can access both a snapshot of the proofread dataset and the latest dataset using `caveclient`:\n\n```shell\npip install caveclient -U\n```\n\n!!! note \"Authentication\"\n    If this is your first time using `CAVEclient` to access the `H01` dataset, you might have to get and set your authentication token:\n\n    1. Go to: https://https//global.brain-wire-test.org/auth/api/v1/create_token to create a new token.\n    2. Log in with your Google credentials and copy the token shown afterward.\n    3. Save it to your computer with:\n       ```python\n       from caveclient import CAVEclient\n       client = CAVEclient(server_address=\"https://global.brain-wire-test.org\", datastack_name='h01_c3_flat', auth_token=\"PASTE_YOUR_TOKEN_HERE\")\n       client.auth.save_token(token=\"PASTE_YOUR_TOKEN_HERE\")\n       ```\n\n    Note that the H01 dataset uses a server address that is different from the default `CAVEClient` server.\n    Also be aware that creating a new token by finishing step 2 will invalidate the previous token!\n"
      ]
    },
    {
      "cell_type": "code",
      "execution_count": null,
      "metadata": {
        "collapsed": false
      },
      "outputs": [],
      "source": [
        "import navis\nfrom navis.interfaces import h01\n\n# Initialize the client\nclient = h01.get_cave_client()"
      ]
    },
    {
      "cell_type": "markdown",
      "metadata": {},
      "source": [
        "### Query Tables\n\n"
      ]
    },
    {
      "cell_type": "code",
      "execution_count": null,
      "metadata": {
        "collapsed": false
      },
      "outputs": [],
      "source": [
        "client.materialize.get_versions()"
      ]
    },
    {
      "cell_type": "code",
      "execution_count": null,
      "metadata": {
        "collapsed": false
      },
      "outputs": [],
      "source": [
        "client.materialize.get_tables()"
      ]
    },
    {
      "cell_type": "markdown",
      "metadata": {},
      "source": [
        "### Query Materialized Synapse Table\nQuery the first few rows in the table\n\n"
      ]
    },
    {
      "cell_type": "code",
      "execution_count": null,
      "metadata": {
        "collapsed": false
      },
      "outputs": [],
      "source": [
        "client.materialize.synapse_query(limit=10)"
      ]
    },
    {
      "cell_type": "markdown",
      "metadata": {},
      "source": [
        "Query specific pre- and/or postsynaptic IDs\n\n"
      ]
    },
    {
      "cell_type": "code",
      "execution_count": null,
      "metadata": {
        "collapsed": false
      },
      "outputs": [],
      "source": [
        "syn = client.materialize.synapse_query(\n    post_ids=[864691131861340864],\n    # pre_ids=[ADD YOUR ROOT ID],\n)\nsyn.head()"
      ]
    },
    {
      "cell_type": "code",
      "execution_count": null,
      "metadata": {
        "collapsed": false
      },
      "outputs": [],
      "source": [
        "print(len(syn))"
      ]
    },
    {
      "cell_type": "markdown",
      "metadata": {},
      "source": [
        "### Live Synapse Queries\n\n"
      ]
    },
    {
      "cell_type": "code",
      "execution_count": null,
      "metadata": {
        "collapsed": false
      },
      "outputs": [],
      "source": [
        "import datetime as dt\n\n# Check if root ID is the most recent root ID\nroot_id = 864691131861340864\nnow = dt.datetime.now(dt.timezone.utc)\nis_latest = client.chunkedgraph.is_latest_roots([root_id], timestamp=now)\nlatest_id = client.chunkedgraph.get_latest_roots(root_id, timestamp=now)\nprint(is_latest, latest_id)"
      ]
    },
    {
      "cell_type": "code",
      "execution_count": null,
      "metadata": {
        "collapsed": false
      },
      "outputs": [],
      "source": [
        "synapse_table = client.info.get_datastack_info()[\"synapse_table\"]\ndf = client.materialize.query_table(\n    synapse_table,\n    timestamp=dt.datetime.now(dt.timezone.utc),\n    filter_equal_dict={\"post_pt_root_id\": latest_id[0]},\n)\ndf.head()"
      ]
    },
    {
      "cell_type": "markdown",
      "metadata": {},
      "source": [
        "### Query Cells Table\n\n"
      ]
    },
    {
      "cell_type": "code",
      "execution_count": null,
      "metadata": {
        "collapsed": false
      },
      "outputs": [],
      "source": [
        "ct = client.materialize.query_table(table=\"cells\")\nct.head()"
      ]
    },
    {
      "cell_type": "code",
      "execution_count": null,
      "metadata": {
        "collapsed": false
      },
      "outputs": [],
      "source": [
        "ct.cell_type.unique()"
      ]
    },
    {
      "cell_type": "markdown",
      "metadata": {},
      "source": [
        "### Filter by cell type\n\n"
      ]
    },
    {
      "cell_type": "code",
      "execution_count": null,
      "metadata": {
        "collapsed": false
      },
      "outputs": [],
      "source": [
        "# Get the first 50 interneurons\ninterneuron_ids = ct[ct.cell_type == \"INTERNEURON\"].pt_root_id.values[:50]\n\n# Remove 0 IDs\ninterneuron_ids = interneuron_ids[interneuron_ids != 0]\n\n# What's left?\ninterneuron_ids"
      ]
    },
    {
      "cell_type": "markdown",
      "metadata": {},
      "source": [
        "### Fetch Neuron Meshes\n\n"
      ]
    },
    {
      "cell_type": "code",
      "execution_count": null,
      "metadata": {
        "collapsed": false
      },
      "outputs": [],
      "source": [
        "interneurons = h01.fetch_neurons(interneuron_ids, lod=2, with_synapses=False)\ninterneurons_ds = navis.simplify_mesh(interneurons, F=1 / 3)\ninterneurons_ds"
      ]
    },
    {
      "cell_type": "code",
      "execution_count": null,
      "metadata": {
        "collapsed": false
      },
      "outputs": [],
      "source": [
        "# Plot\nimport seaborn as sns\n\ncolors = {n.id: sns.color_palette(\"Reds\", 7)[i] for i, n in enumerate(interneurons_ds)}\nnavis.plot3d([interneurons_ds], color=colors)"
      ]
    },
    {
      "cell_type": "markdown",
      "metadata": {},
      "source": [
        "### Fetch Skeletons\n\n"
      ]
    },
    {
      "cell_type": "code",
      "execution_count": null,
      "metadata": {
        "collapsed": false
      },
      "outputs": [],
      "source": [
        "interneurons_sk = navis.skeletonize(interneurons, parallel=True)\ninterneurons_sk"
      ]
    },
    {
      "cell_type": "code",
      "execution_count": null,
      "metadata": {
        "collapsed": false
      },
      "outputs": [],
      "source": [
        "# Plot\nnavis.plot3d([interneurons_sk[0], interneurons[0]], color=[(1, 0, 0), (1, 1, 1, 0.5)])"
      ]
    }
  ],
  "metadata": {
    "kernelspec": {
      "display_name": "Python 3",
      "language": "python",
      "name": "python3"
    },
    "language_info": {
      "codemirror_mode": {
        "name": "ipython",
        "version": 3
      },
      "file_extension": ".py",
      "mimetype": "text/x-python",
      "name": "python",
      "nbconvert_exporter": "python",
      "pygments_lexer": "ipython3",
      "version": "3.11.14"
    }
  },
  "nbformat": 4,
  "nbformat_minor": 0
}