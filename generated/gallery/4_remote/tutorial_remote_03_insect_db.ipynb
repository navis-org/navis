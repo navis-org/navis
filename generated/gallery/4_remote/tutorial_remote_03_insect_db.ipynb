{
  "cells": [
    {
      "cell_type": "code",
      "execution_count": null,
      "metadata": {
        "collapsed": false
      },
      "outputs": [],
      "source": [
        "%matplotlib inline"
      ]
    },
    {
      "cell_type": "markdown",
      "metadata": {},
      "source": [
        "\nInsect Brain DB\n===============\n\nIn this example we will show you how to fetch data from the Insect Brain DB.\n\nThe insect brain database (<https://insectbraindb.org>) is an online repository for neuron morphologies, brain regions and experimental\ndata across various insect species. At the time of writing Insect Brain DB features close to 400 neuronal cell types from well over 30\ninsect species. Check out [Heinze et al. (2021)](https://elifesciences.org/articles/65376) for details!\n\nWhile the website features a comprehensive search and some nifty analyses, it can be useful to download these data to run your own\nanalyses or compare to other data sets. For that purpose, {{ navis }} provides an interface to Insect Brain DB that wraps parts of their API:\n"
      ]
    },
    {
      "cell_type": "markdown",
      "metadata": {},
      "source": [
        "Import navis\n\n"
      ]
    },
    {
      "cell_type": "code",
      "execution_count": null,
      "metadata": {
        "collapsed": false
      },
      "outputs": [],
      "source": [
        "import navis\n\n# Import the actual Insect Brain DB interface\nimport navis.interfaces.insectbrain_db as ibdb"
      ]
    },
    {
      "cell_type": "markdown",
      "metadata": {},
      "source": [
        "## Fetching meta data\n\nFirst, fetch a list of available species:\n\n"
      ]
    },
    {
      "cell_type": "code",
      "execution_count": null,
      "metadata": {
        "collapsed": false
      },
      "outputs": [],
      "source": [
        "species = ibdb.get_available_species()\nspecies.head()"
      ]
    },
    {
      "cell_type": "markdown",
      "metadata": {},
      "source": [
        "Fetch info for a given species (you can use the scientific or common name, or an ID):\n\n"
      ]
    },
    {
      "cell_type": "code",
      "execution_count": null,
      "metadata": {
        "collapsed": false
      },
      "outputs": [],
      "source": [
        "spec_info = ibdb.get_species_info('Schistocerca gregaria')\nspec_info"
      ]
    },
    {
      "cell_type": "markdown",
      "metadata": {},
      "source": [
        "## Fetching meshes\n\nFetch neuropil meshes for the Locust brain:\n\n"
      ]
    },
    {
      "cell_type": "code",
      "execution_count": null,
      "metadata": {
        "collapsed": false
      },
      "outputs": [],
      "source": [
        "# `combine=True` would produce a single combined mesh but here we want a list of individual neuropils\nlocust_brain = ibdb.get_brain_meshes('Desert Locust', combine=False)\nlocust_brain[:2]"
      ]
    },
    {
      "cell_type": "markdown",
      "metadata": {},
      "source": [
        "Plot neuropils\n\n"
      ]
    },
    {
      "cell_type": "code",
      "execution_count": null,
      "metadata": {
        "collapsed": false
      },
      "outputs": [],
      "source": [
        "navis.plot3d(locust_brain, volume_legend=True)"
      ]
    },
    {
      "cell_type": "code",
      "execution_count": null,
      "metadata": {
        "collapsed": false
      },
      "outputs": [],
      "source": [
        "# This is for the tutorial thumbail:\nimport matplotlib.pyplot as plt\nfig, ax = navis.plot2d(locust_brain, method='2d')\nax.set_axis_off()\nax.grid(False)\nplt.tight_layout()"
      ]
    },
    {
      "cell_type": "markdown",
      "metadata": {},
      "source": [
        "## Fetch neurons\n\nFirst we need to know what neurons are available. Just like on the website you can set all kinds of different\nsearch parameters. Here we will stick with our Locust:\n\n"
      ]
    },
    {
      "cell_type": "code",
      "execution_count": null,
      "metadata": {
        "collapsed": false
      },
      "outputs": [],
      "source": [
        "locust_neurons = ibdb.search_neurons(species='Desert Locust')\nlocust_neurons.head()"
      ]
    },
    {
      "cell_type": "markdown",
      "metadata": {},
      "source": [
        "Let's fetch skeletons (\"reconstructions\") for some of the above neurons. Note that not all neurons have skeletons\n(see the \"reconstruction_creator\" column)!\n\n"
      ]
    },
    {
      "cell_type": "code",
      "execution_count": null,
      "metadata": {
        "collapsed": false
      },
      "outputs": [],
      "source": [
        "# You can use IDs or names, or a combination thereof to fetch skeletons\nsk = ibdb.get_skeletons('CL1a-R2')\nsk"
      ]
    },
    {
      "cell_type": "markdown",
      "metadata": {},
      "source": [
        "Plot the neuron - note that most neurons appear to have radii information\n\n"
      ]
    },
    {
      "cell_type": "code",
      "execution_count": null,
      "metadata": {
        "collapsed": false
      },
      "outputs": [],
      "source": [
        "navis.plot3d(sk, radius=True)"
      ]
    },
    {
      "cell_type": "markdown",
      "metadata": {},
      "source": [
        "Check out the [API reference](../../../api.md#insectbrain-db-api) for further details.\n\n"
      ]
    }
  ],
  "metadata": {
    "kernelspec": {
      "display_name": "Python 3",
      "language": "python",
      "name": "python3"
    },
    "language_info": {
      "codemirror_mode": {
        "name": "ipython",
        "version": 3
      },
      "file_extension": ".py",
      "mimetype": "text/x-python",
      "name": "python",
      "nbconvert_exporter": "python",
      "pygments_lexer": "ipython3",
      "version": "3.11.14"
    }
  },
  "nbformat": 4,
  "nbformat_minor": 0
}