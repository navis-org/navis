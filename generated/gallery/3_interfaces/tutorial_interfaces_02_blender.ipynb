{
  "cells": [
    {
      "cell_type": "code",
      "execution_count": null,
      "metadata": {
        "collapsed": false
      },
      "outputs": [],
      "source": [
        "%matplotlib inline"
      ]
    },
    {
      "cell_type": "markdown",
      "metadata": {},
      "source": [
        "\nBlender 3D\n==========\n\nThis tutorial shows how to use NAVis within Blender 3D.\n\n{{ navis }} comes with an interface to import neurons into [Blender 3D](https://www.blender.org)\nfor high quality renderings and videos: `navis.interfaces.blender`.\n\n## Installation\n\nBlender comes with its own Python 3.X distribution! So you need to install {{ navis }} explicitly\nfor this distribution in order to use it within Blender.\n\nThere are several ways to install additional packages for Blender's built-in Python. The easiest\nway is probably this:\n\n1. Find out where Blender's Python lives (this depends on your OS). In\n   _Blender's Python console_ run this:\n\n    ```python\n    >>> import sys\n    >>> sys.executable\n    [..]/Blender 4.1.app/Contents/Resources/4.1/python/bin/python3.11\n    ```\n\n    ![Blender Python console](../../../_static/blender_console.png)\n\n2. Now that we know the Python path we open a normal terminal and check if Blender's Python\n   already came with the package manager `pip`.\n\n    ```shell\n    [..]/Blender\\ 4.1.app/Contents/Resources/4.1/python/bin/python3.11 -m pip --version\n    ```\n\n    ![Blender PIP](../../../_static/blender_pip.png)\n\n    !!! warning\n        You may have to escape whitespaces in the path to Blender's Python executable\n        like we did above! On OSX this is done with a backslash `\\`. On Windows you\n        have to wrap the path in quotes `\"` if it contains spaces.\n\n    If the above command throws an error along the lines of `\"No module named pip\"`:\n    get `pip` by downloading ``get-pip.py`` from\n    [here](https://pip.pypa.io/en/stable/installing/) and install by executing\n    with your Python distribution:\n\n    ```shell\n    [..]/Blender\\ 4.1.app/Contents/Resources/4.1/python/bin/python3.11 get-pip.py\n    ```\n\n    If `pip` is there but horrendously outdated (the current version is `24.4`),\n    you can update it like so:\n\n    ```shell\n    [..]/Blender\\ 4.1.app/Contents/Resources/4.1/python/bin/python3.11 -m pip install pip -U\n    ```\n\n3. Use `pip` to install {{ navis }} (or any other package for that matter). Please note\n   we have to - again - specify that we want to install for Blender's Python:\n\n    ```shell\n    [..]/Blender\\ 4.1.app/Contents/Resources/4.1/python/bin/python3.11 -m pip install navis\n    ```\n\n    !!! important\n        It's possible that this install fails with an error message along the lines\n        of `'Python.h' file not found`. The reason for this is that Blender\n        ships with a \"Python light\" and you have to manually provide the Python\n        header files:\n\n        First, find out the *exact* Blender Python version:\n\n        ```shell\n        [..]/Blender\\ 4.1.app/Contents/Resources/4.1/python/bin/python3.11 -V\n        ```\n\n        Next point your browser at https://www.python.org/downloads/source/ and\n        download the Gzipped source tarball from the exact same Python version,\n        i.e. `Python-3.X.X.tgz` and save it to your Downloads directory.\n\n        Finally you need to copy everything in the `Include` folder inside that\n        tarball into the corresponding `include` folder in your Blender's Python.\n        In a terminal run::\n\n        ```shell\n        cd ~/Downloads/\n        tar -xzf Python-3.X.X.tgz\n        cp Python-3.X.X/Include/* [..]/Blender\\ 4.1.app/Contents/Resources/4.1/python/bin/python3.11\n        ```\n\n        If the above fails you have one more option: figure out which dependency fails\n        to compile and compile it on your system's Python.\n\n        a) Install the *exact* same version of Python as Blender is running on your\n        system\n        b) Download the source code for the offending dependency either from PyPI\n        where it'll likely be some `tar.gz` file under \"Download files\" or\n        from the Github repository\n        c) Run `python setup.py bdist_wheel` to compile the dependency into a wheel\n        file (will appear as `.whl` file in a `/dist` subdirectory)\n        d) Go back to Blender's Python and install the dependency from that wheel:\n        ```shell\n        [..]/Blender\\ 4.1.app/Contents/Resources/4.1/python/bin/python3.11 -m pip install <full file name of wheel file with .whl extension>\n        ```\n\n4. You should now be all set to use {{ navis }} in Blender. Check out Quickstart!\n\n## Quickstart\n\n`navis.interfaces.blender` provides a simple interface that lets you add,\nselect and manipulate neurons from within _Blender's Python console_:\n\nFirst, import and set up {{ navis }} like you are used to.\n\n```python\n>>> import navis\n>>> # Get example neurons\n>>> nl = navis.example_neurons()\n```\n\nNow initialise the interface with Blender and import the neurons.\n\n```python\n>>> # The blender interface has to be imported explicitly\n>>> import navis.interfaces.blender as b3d\n>>> # Initialise handler\n>>> h = b3d.Handler()\n>>> # Load neurons into scene\n>>> h.add(nl)\n```\n\n![b3d_screenshot](../../../_static/b3d_screenshot.jpg)\n\n\nThe interface lets you manipulate neurons in Blender too.\n\n```python\n>>> # Colorize neurons\n>>> h.colorize()\n>>> # Change thickness of all neurons\n>>> h.neurons.bevel(.02)\n>>> # Select subset\n>>> subset = h.select(nl[:2])\n>>> # Make subset red\n>>> subset.color(1, 0, 0)\n>>> # Clear all objects\n>>> h.clear()\n```\n\n!!! note\n    Blender's Python console does not show all outputs. Please check the terminal\n    if you experience issues. In Windows simply go to `Help` >> `Toggle System\n    Console`. In MacOS, right-click Blender in\n    Finder >> `Show Package Contents` >> `MacOS` >> double click on `blender`.\n\nLast but not least, here's a little taster of what you can do with Blender:\n\n<iframe width=\"560\" height=\"315\" src=\"https://www.youtube.com/embed/wl3sFG7WQJc\" title=\"YouTube video player\" frameborder=\"0\" allow=\"accelerometer; autoplay; clipboard-write; encrypted-media; gyroscope; picture-in-picture\" allowfullscreen></iframe>\n\n### Reference\n\nThe [`navis.interfaces.blender.Handler`][] is providing the interface between {{ navis }} and Blender.\n"
      ]
    }
  ],
  "metadata": {
    "kernelspec": {
      "display_name": "Python 3",
      "language": "python",
      "name": "python3"
    },
    "language_info": {
      "codemirror_mode": {
        "name": "ipython",
        "version": 3
      },
      "file_extension": ".py",
      "mimetype": "text/x-python",
      "name": "python",
      "nbconvert_exporter": "python",
      "pygments_lexer": "ipython3",
      "version": "3.11.14"
    }
  },
  "nbformat": 4,
  "nbformat_minor": 0
}