{
  "cells": [
    {
      "cell_type": "code",
      "execution_count": null,
      "metadata": {
        "collapsed": false
      },
      "outputs": [],
      "source": [
        "%matplotlib inline"
      ]
    },
    {
      "cell_type": "markdown",
      "metadata": {},
      "source": [
        "\nNEURON simulator\n================\n\nThis tutorial will show you how to simulate neurons and networks thereof using the NEURON simulator.\n\n[NEURON](https://neuron.yale.edu/neuron/) is a simulation environment to model neurons and networks thereof.\n`NEURON` itself is rather complex (neurons are complex things after all) and fairly low-level which results\nin lots of boiler plate code. There are some libraries (e.g. [NetPyNE](http://netpyne.org)) that wrap `NEURON`\nand provide a higher-level interface to facilitate building models. In my experience these are typically\ngeared towards creating models based on probabilities (e.g. \"create 100 neurons with a 10% chance to be\nconnected to another neuron\") rather than the well defined morphology/connectivity you get from e.g. connectomes.\n\n{{ navis }} does *not* try to emulate a full simulation suite but tries to fill a gap for people wanting to use\nnon-probabalistic data (e.g. from connectomics) by providing an entry point for you to get started with some\nsimple models and take it from there. At this point there are two types of models:\n\n1. [`CompartmentModel`][navis.interfaces.neuron.comp.CompartmentModel] for modeling individual neurons\n2. [`PointNetwork`][navis.interfaces.neuron.network.PointNetwork] for modeling networks from point proceses\n\n## Compartment models\n\nA [`CompartmentModel`][navis.interfaces.neuron.comp.CompartmentModel] represents a single neuron (although you\ncan connect multiple of these neurons) and is constructed from a skeleton (i.e. [`navis.TreeNeuron`][], see also\n[`navis.conversion.mesh2skeleton`][]).\n"
      ]
    },
    {
      "cell_type": "code",
      "execution_count": null,
      "metadata": {
        "collapsed": false
      },
      "outputs": [],
      "source": [
        "import navis\nimport neuron\n\nimport navis.interfaces.neuron as nrn\n\n# Load one of the example neurons (a Drosophila projection neuron from the hemibrain connectome)\n# Note the conversion to microns!\nn = navis.example_neurons(1).convert_units(\"um\")\n\n# Here we manually corrected the soma\nn.soma = 20\n\n# Reroot to the soma\nn.reroot(n.soma, inplace=True)\n\n# Create the compartment model\ncmp = nrn.CompartmentModel(n, res=10)"
      ]
    },
    {
      "cell_type": "markdown",
      "metadata": {},
      "source": [
        "`NEURON` compartment models are effectively collections of connected linear segments. Each of these\nsegments can have its own set of properties and mechanisms. Here, we will use some biophysical properties\nfrom [Tobin et al. (2017)](https://elifesciences.org/articles/24838):\n\n"
      ]
    },
    {
      "cell_type": "code",
      "execution_count": null,
      "metadata": {
        "collapsed": false
      },
      "outputs": [],
      "source": [
        "# Set the specific axial resistivity for the entire neuron in Ohm cm\ncmp.Ra = 266.1\n\n# Set the specific membran capacitance in mF / cm**2\ncmp.cm = 0.8\n\n# Add passive membran properties for the entire neuron\ncmp.insert(\n    \"pas\",\n    g=1\n    / 20800,  # specific leakage conductance = 1/Rm; Rm = specific membran resistance in Ohm cm**2\n    e=-60,  # leakage reverse potential\n)"
      ]
    },
    {
      "cell_type": "markdown",
      "metadata": {},
      "source": [
        "At this point we already have a passive model of our *Drosophila* projection neuron. Next, we will determine\nwhat's axon and what's dendrite, and add a Hodgkins & Huxley mechanism so we have some actual action potentials to observe.\n\nThis will also illustrate one of the features of [`CompartmentModels`][navis.interfaces.neuron.comp.CompartmentModel]:\nwe keep a correspondence to the original skeleton via node (and connector) IDs. This allows you to modify, stimulate\nat or record from parts of the compartment model by using node IDs.\n\n"
      ]
    },
    {
      "cell_type": "code",
      "execution_count": null,
      "metadata": {
        "collapsed": false
      },
      "outputs": [],
      "source": [
        "# Label axon/dendrite\nnavis.split_axon_dendrite(n, label_only=True, cellbodyfiber=\"soma\")\n\nn.nodes.head()"
      ]
    },
    {
      "cell_type": "markdown",
      "metadata": {},
      "source": [
        "A quick visualization\n\n"
      ]
    },
    {
      "cell_type": "code",
      "execution_count": null,
      "metadata": {
        "collapsed": false
      },
      "outputs": [],
      "source": [
        "import matplotlib.pyplot as plt\n\nfig, ax = navis.plot2d(\n    n, color_by=\"compartment\", palette=\"tab10\", lw=1.5, method=\"3d\", view=(\"x\", \"-z\")\n)\n\n# Label compartments\nfor l in n.nodes.compartment.unique():\n    loc = n.nodes.loc[n.nodes.compartment == l, [\"x\", \"y\", \"z\"]].values[-1]\n    ax.text(loc[0] + 10, loc[1], loc[2], l)\n\nplt.tight_layout()"
      ]
    },
    {
      "cell_type": "markdown",
      "metadata": {},
      "source": [
        "!!! note\n    A little excursion about how `NEURON` represents neurons before we add the Hodgkins & Huxley (HH) mechanism:\n    neurons consist of linear \"*sections*\" while individual (continuous) positions along each section are called\n    \"*segments*\". That distinction is important because our skeleton nodes correspond to *segments* but a mechanism\n    such as HH is applied for entire *sections*.\n\n"
      ]
    },
    {
      "cell_type": "code",
      "execution_count": null,
      "metadata": {
        "collapsed": false
      },
      "outputs": [],
      "source": [
        "# Collect axon nodes\naxon_nodes = n.nodes.loc[n.nodes.compartment.isin([\"axon\", \"linker\"]), \"node_id\"].values\n\n# Get the sections for the given nodes\naxon_secs = list(set(cmp.get_node_section(axon_nodes)))\n\n# Insert HH mechanism at the given sections\ncmp.insert(\"hh\", subset=axon_secs)"
      ]
    },
    {
      "cell_type": "markdown",
      "metadata": {},
      "source": [
        "Next we actually have to do something with our compartment model. For that we will add three voltage recorders:\none at the soma, one at the base of the dendrites and one at the tip of the axon.\n\nRecordings and stimulations work via segments (as opposed to sections for mechanisms) -> hence we can use node IDs directly here\n\nLet's determine the tip of the axon and base of the dendrites programmatically using the geodesic distance:\n\n"
      ]
    },
    {
      "cell_type": "code",
      "execution_count": null,
      "metadata": {
        "collapsed": false
      },
      "outputs": [],
      "source": [
        "dists = navis.geodesic_matrix(n, from_=n.soma)\n\n# Sort by distance from soma\ndists = dists.iloc[0].sort_values()\n\ndists.head(10)"
      ]
    },
    {
      "cell_type": "code",
      "execution_count": null,
      "metadata": {
        "collapsed": false
      },
      "outputs": [],
      "source": [
        "# Find the closest \"dendrite\" and the most distal \"axon\" node\ndend = n.nodes[n.nodes.compartment == \"dendrite\"].node_id.values\ndend_base = dists.index[dists.index.isin(dend)][0]\nprint(f\"Node at the base of the dendrites: {dend_base}\")\n\naxo = n.nodes[n.nodes.compartment == \"axon\"].node_id.values\naxo_tip = dists.index[dists.index.isin(axo)][-1]\nprint(f\"Node at the tip of the axon: {axo_tip}\")"
      ]
    },
    {
      "cell_type": "code",
      "execution_count": null,
      "metadata": {
        "collapsed": false
      },
      "outputs": [],
      "source": [
        "# Add voltage recordings\ncmp.add_voltage_record(dend_base, label=\"dendrite_base\")\ncmp.add_voltage_record(axo_tip, label=\"axon_tip\")\ncmp.add_voltage_record(n.soma, label=\"soma\")"
      ]
    },
    {
      "cell_type": "markdown",
      "metadata": {},
      "source": [
        "Last but not least we need to provide some input to our neuron otherwise it will just sit there doing nothing. We\ncan add a current injection, trigger some synaptic currents or add a leak current. Let's simulate some synaptic inputs:\n\n"
      ]
    },
    {
      "cell_type": "code",
      "execution_count": null,
      "metadata": {
        "collapsed": false
      },
      "outputs": [],
      "source": [
        "# Get dendritic postsynapses\npost = n.postsynapses[n.postsynapses.compartment == \"dendrite\"]\npost.head()"
      ]
    },
    {
      "cell_type": "code",
      "execution_count": null,
      "metadata": {
        "collapsed": false
      },
      "outputs": [],
      "source": [
        "# Here we will open successively more synapses over 5 stimulations\nfor i in range(5):\n    # Onset for this stimulation\n    start = 50 + i * 200\n    # Number of synapses to activate\n    n_syn = i * 5\n    cmp.add_synaptic_current(\n        where=post.node_id.unique()[0:n_syn], start=start, max_syn_cond=0.1, rev_pot=-10\n    )"
      ]
    },
    {
      "cell_type": "code",
      "execution_count": null,
      "metadata": {
        "collapsed": false
      },
      "outputs": [],
      "source": [
        "# Now we can run our simulation for 1000ms\n# (this is equivalent to neuron.h.finitialize + neuron.h.continuerun)\ncmp.run_simulation(1000, v_init=-60)"
      ]
    },
    {
      "cell_type": "markdown",
      "metadata": {},
      "source": [
        "The compartment model has a quick & dirty way of plotting the results:\n\n"
      ]
    },
    {
      "cell_type": "code",
      "execution_count": null,
      "metadata": {
        "collapsed": false
      },
      "outputs": [],
      "source": [
        "# Plot the results\naxes = cmp.plot_results()"
      ]
    },
    {
      "cell_type": "code",
      "execution_count": null,
      "metadata": {
        "collapsed": false
      },
      "outputs": [],
      "source": [
        "# Plot again and zoom in on one spike\naxes = cmp.plot_results()\naxes[0].set_xlim(240, 280)"
      ]
    },
    {
      "cell_type": "markdown",
      "metadata": {},
      "source": [
        "As you can see we get a nice depolarization at the base of the dendrites which elicits an action potential that we\ncan measure in the tips of the axon. Because in our model the cell body fiber (i.e. the neurite that connects the\nsoma to the base of the dendrites) is passive, the depolarization of a single spike attenuates before it reaches the soma.\n\nAlternatively, you can access the recorded values directly like so:\n\n"
      ]
    },
    {
      "cell_type": "code",
      "execution_count": null,
      "metadata": {
        "collapsed": false
      },
      "outputs": [],
      "source": [
        "cmp.records"
      ]
    },
    {
      "cell_type": "code",
      "execution_count": null,
      "metadata": {
        "collapsed": false
      },
      "outputs": [],
      "source": [
        "cmp.records[\"v\"][\"dendrite_base\"].as_numpy()"
      ]
    },
    {
      "cell_type": "markdown",
      "metadata": {},
      "source": [
        "Next, let's try to simulate some noisy input where the presynaptic neuron spikes multiple times:\n\n"
      ]
    },
    {
      "cell_type": "code",
      "execution_count": null,
      "metadata": {
        "collapsed": false
      },
      "outputs": [],
      "source": [
        "# First we need to reset our model (by re-assigning `cmp` the old model will be garbage-collected)\ncmp = nrn.CompartmentModel(n, res=10)\n\n# Set properties and mechanisms\ncmp.Ra, cmp.cm = 266.1, 0.8\ncmp.insert(\"pas\", g=1 / 20800, e=-60)\naxon_secs = list(set(cmp.get_node_section(axon_nodes)))\ncmp.insert(\"hh\", subset=axon_secs)\n\n# Add recording\ncmp.add_voltage_record(dend_base, label=\"dendrite_base\")\ncmp.add_voltage_record(axo_tip, label=\"axon_tip\")\ncmp.add_voltage_record(n.soma, label=\"soma\")\n\n# Also add a spike counter at the axon\ncmp.add_spike_detector(axo_tip, label=\"axon_tip\")\n\n# Now add a noisy preinput to say 20 dendritic postsynapses\npost = n.connectors[\n    (n.connectors.compartment == \"dendrite\") & (n.connectors.type == \"post\")\n]\ncmp.add_synaptic_input(\n    post.node_id.unique()[0:20],\n    spike_no=20,  # produce 20 presynaptic spikes\n    spike_int=50,  # with an average interval of 50ms: 20 * 50ms = over 1s\n    spike_noise=1,  # very noisy!\n    cn_weight=0.04,\n)\n# Run for 1s\ncmp.run_simulation(1000, v_init=-60)"
      ]
    },
    {
      "cell_type": "code",
      "execution_count": null,
      "metadata": {
        "collapsed": false
      },
      "outputs": [],
      "source": [
        "# Plot results\naxes = cmp.plot_results()\naxes[1].set_ylabel(\"spikes [Hz]\")"
      ]
    },
    {
      "cell_type": "markdown",
      "metadata": {},
      "source": [
        "Note how we still don't see a depolarization in the soma? While that might be a genuine biological feature of this neuron,\nI suspect there is something wrong with the radii along the cell body fiber - perhaps a pinch point somewhere? This just\nillustrates that good skeletons are paramount and you should critically inspect the results of your models.\n\nMany methods in [`CompartmentModel`][navis.interfaces.neuron.comp.CompartmentModel] try to use sensible defaults to make\nsure that you get some sort of effect. That said, it's advisable that you adjust parameters as you fit your model to real\nworld data. Check the help to see what you can do:\n\nTry this for example\n```python\nhelp(cmp.add_synaptic_input)\n```\n\n## Point Networks\n\nWhile you can link together multiple compartment models to simulate networks this quickly becomes prohibitively slow to\nrun. For larger networks it can be sufficient to model each neuron as a single \"point process\".\n[`PointNetwork`][navis.interfaces.neuron.PointNetwork] lets you quickly create such a network from an edge list.\n\nIn this tutorial we will use toy data but it is just as straight forward to plugin real data:\n\n"
      ]
    },
    {
      "cell_type": "code",
      "execution_count": null,
      "metadata": {
        "collapsed": false
      },
      "outputs": [],
      "source": [
        "# First create a small 3 way network where one of the neurons (B) is inhibitory\nimport pandas as pd\n\nedges = pd.DataFrame([])\nedges[\"source\"] = [\"A\", \"B\"]\nedges[\"target\"] = [\"C\", \"C\"]\nedges[\"weight\"] = [0.5, -1]\nedges"
      ]
    },
    {
      "cell_type": "code",
      "execution_count": null,
      "metadata": {
        "collapsed": false
      },
      "outputs": [],
      "source": [
        "# Next initialize network from edge list\nnet = nrn.PointNetwork.from_edge_list(edges, model=\"IntFire4\")\nnet"
      ]
    },
    {
      "cell_type": "markdown",
      "metadata": {},
      "source": [
        "So far, our network won't do anything because it doesn't have any input. Let's add an input to neurons A and B, and try that out:\n\n"
      ]
    },
    {
      "cell_type": "code",
      "execution_count": null,
      "metadata": {
        "collapsed": false
      },
      "outputs": [],
      "source": [
        "# Add the stimulus\nnet.add_stimulus(\"A\", start=100, stop=1000, frequency=100, randomness=0)\nnet.add_stimulus(\"B\", start=600, stop=800, frequency=100, randomness=0)\n\n# Run simulation\nnet.run_simulation(1000)"
      ]
    },
    {
      "cell_type": "code",
      "execution_count": null,
      "metadata": {
        "collapsed": false
      },
      "outputs": [],
      "source": [
        "# Plot\nax = net.plot_raster(backend=\"matplotlib\", label=True)\n\nax.set_xlim(0, 1000)"
      ]
    },
    {
      "cell_type": "markdown",
      "metadata": {},
      "source": [
        "This toy example worked quite well: spikes in neuron `A` elicit occasional spikes in `C` via temporal summation. Activity in the\ninhibitiory neuron `B` hyperpolarizes `C` and it stops firing until well after activity in `B` has ceased.\n\nThe `NEURON` interface is a very recent addition and it might well change in the future (or become its own package). Functionality\nis also still limited and while I don't intend to write a feature-complete wrapper for `NEURON`, I do welcome feature requests or\ncontributions on Github.\n\n## Links\n\n- [Model DB](https://senselab.med.yale.edu/ModelDB/) contains various published `NEURON` models and mechanisms\n- [NetPyNE](http://netpyne.org/) wraps `NEURON` and provides high-level syntax to create models\n\n"
      ]
    }
  ],
  "metadata": {
    "kernelspec": {
      "display_name": "Python 3",
      "language": "python",
      "name": "python3"
    },
    "language_info": {
      "codemirror_mode": {
        "name": "ipython",
        "version": 3
      },
      "file_extension": ".py",
      "mimetype": "text/x-python",
      "name": "python",
      "nbconvert_exporter": "python",
      "pygments_lexer": "ipython3",
      "version": "3.11.14"
    }
  },
  "nbformat": 4,
  "nbformat_minor": 0
}