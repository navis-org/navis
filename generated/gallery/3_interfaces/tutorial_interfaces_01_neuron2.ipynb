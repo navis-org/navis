{
  "cells": [
    {
      "cell_type": "code",
      "execution_count": null,
      "metadata": {
        "collapsed": false
      },
      "outputs": [],
      "source": [
        "%matplotlib inline"
      ]
    },
    {
      "cell_type": "markdown",
      "metadata": {},
      "source": [
        "\nVisualize NEURON model\n======================\n\nIn this tutorial you will learn to visualize a compartment neuron model.\n\nWe will jump right in, so please make sure to have a look at the [introductory NEURON tutorial](../tutorial_interfaces_00_neuron)\nfirst.\n\n## Setup the model\n\nThe setup will be similar to the previous tutorial: use one of the example neurons to create a compartment model:\n"
      ]
    },
    {
      "cell_type": "code",
      "execution_count": null,
      "metadata": {
        "collapsed": false
      },
      "outputs": [],
      "source": [
        "import navis\nimport neuron\n\nimport navis.interfaces.neuron as nrn\n\n# Load one of the example neurons (a Drosophila projection neuron from the hemibrain connectome)\n# Note the conversion to microns!\nn = navis.example_neurons(1).convert_units(\"um\")\n\n# Here we manually corrected the soma\nn.soma = 20\n\n# Reroot to the soma\nn.reroot(n.soma, inplace=True)\n\n# Create the compartment model\ncmp = nrn.CompartmentModel(n, res=10)\n\n# Set the specific axial resistivity for the entire neuron in Ohm cm\ncmp.Ra = 266.1\n\n# Set the specific membran capacitance in mF / cm**2\ncmp.cm = 0.8\n\n# Add passive membran properties for the entire neuron\ncmp.insert(\n    \"pas\",\n    g=1\n    / 20800,  # specific leakage conductance = 1/Rm; Rm = specific membran resistance in Ohm cm**2\n    e=-60,  # leakage reverse potential\n)\n\n# Label axon/dendrite\nnavis.split_axon_dendrite(n, label_only=True, cellbodyfiber=\"soma\")\n\n# Collect axon nodes\naxon_nodes = n.nodes.loc[n.nodes.compartment.isin([\"axon\", \"linker\"]), \"node_id\"].values\n\n# Get the sections for the given nodes\naxon_secs = list(set(cmp.get_node_section(axon_nodes)))\n\n# Insert HH mechanism at the given sections\ncmp.insert(\"hh\", subset=axon_secs)"
      ]
    },
    {
      "cell_type": "markdown",
      "metadata": {},
      "source": [
        "Next, we will add a voltage recording _at every single node_ of the neuron.\n\n"
      ]
    },
    {
      "cell_type": "code",
      "execution_count": null,
      "metadata": {
        "collapsed": false
      },
      "outputs": [],
      "source": [
        "cmp.add_voltage_record(n.nodes.node_id.values)"
      ]
    },
    {
      "cell_type": "markdown",
      "metadata": {},
      "source": [
        "Last but not least, we will add a synaptic input at some dendritic postsynapses of the neuron.\n\n"
      ]
    },
    {
      "cell_type": "code",
      "execution_count": null,
      "metadata": {
        "collapsed": false
      },
      "outputs": [],
      "source": [
        "# Get dendritic postsynapses\npost = n.postsynapses[n.postsynapses.compartment == \"dendrite\"]\n\n# Add synaptic input to the first 10 postsynapses after 2 ms\ncmp.add_synaptic_current(where=post.node_id.unique()[0:10], start=2, max_syn_cond=0.1, rev_pot=-10)"
      ]
    },
    {
      "cell_type": "markdown",
      "metadata": {},
      "source": [
        "Now we can run our simulation for 100ms\n\n"
      ]
    },
    {
      "cell_type": "code",
      "execution_count": null,
      "metadata": {
        "collapsed": false
      },
      "outputs": [],
      "source": [
        "# This is equivalent to neuron.h.finitialize + neuron.h.continuerun\ncmp.run_simulation(100, v_init=-60)"
      ]
    },
    {
      "cell_type": "markdown",
      "metadata": {},
      "source": [
        "## Collect the data\n\nTo visualize and animate, we will collect the results into a pandas DataFrame\n\n"
      ]
    },
    {
      "cell_type": "code",
      "execution_count": null,
      "metadata": {
        "collapsed": false
      },
      "outputs": [],
      "source": [
        "import numpy as np\nimport pandas as pd\n\n# Collect the voltage recordings at each node\nrecords = pd.DataFrame(np.vstack([r.as_numpy() for r in cmp.records['v'].values()]), index=list(cmp.records['v'].keys()))\n\n# Reindex to make sure it matches the node table\nrecords = records.reindex(n.nodes.node_id)\n\nrecords.head()"
      ]
    },
    {
      "cell_type": "markdown",
      "metadata": {},
      "source": [
        "## Visualize\n\nLet's first visualize a single snapshot of the neuron at time `t=5ms`:\n\n"
      ]
    },
    {
      "cell_type": "code",
      "execution_count": null,
      "metadata": {
        "collapsed": false
      },
      "outputs": [],
      "source": [
        "# The interval for each step is 0.025ms by default\nprint(neuron.h.dt)"
      ]
    },
    {
      "cell_type": "markdown",
      "metadata": {},
      "source": [
        "Add a new column to the node table for time `t=5ms`\n\n"
      ]
    },
    {
      "cell_type": "code",
      "execution_count": null,
      "metadata": {
        "collapsed": false
      },
      "outputs": [],
      "source": [
        "n.nodes['v'] = records.loc[:, int(5 / 0.025)].values\n\n# Plot\nfig, ax = navis.plot2d(\n    n,\n    method=\"2d\",\n    color_by=\"v\",  # color by the voltage column\n    palette=\"viridis\",\n    vmin = -70,\n    vmax = 10,\n    view=('x', '-y')\n)\n\n# Manually add a colorbar\nimport matplotlib.pyplot as plt\nfrom matplotlib.cm import ScalarMappable\nsm = ScalarMappable(norm=plt.Normalize(vmin=-70, vmax=10), cmap='viridis')\n_ = fig.colorbar(sm, ax=ax, fraction=0.075, shrink=0.5, label=\"V\")"
      ]
    },
    {
      "cell_type": "markdown",
      "metadata": {},
      "source": [
        "## Animate\n\nOne option to animate the voltage recordings over time is to use matplotlib's animation functionality.\nFor that we have to do a bit of setup:\n\n"
      ]
    },
    {
      "cell_type": "code",
      "execution_count": null,
      "metadata": {
        "collapsed": false
      },
      "outputs": [],
      "source": [
        "# Convert our skeleton to a mesh for nicer visualization\nmesh = navis.conversion.tree2meshneuron(n, warn_missing_radii=False)\n\n# Plot the neuron\nfig, ax = navis.plot2d(mesh, method='2d',color='k', view=('x','-y'))\n\nsm = ScalarMappable(norm=plt.Normalize(vmin=-70, vmax=10), cmap='viridis')\n_ = fig.colorbar(sm, ax=ax, fraction=0.075, shrink=0.5, label=\"V\")\n\n# Add a text in the top right for the timestamp\nt = ax.text(0.02, 0.95, 'ms', ha='left', va='top', transform=ax.transAxes, color='r')\n\n# Get the collection representing our neuron\nc = ax.collections[0]\nc.set_cmap('viridis')\nc.set_norm(plt.Normalize(vmin=-70, vmax=10))\n\n# This function updates the voltages according to the frame\ndef animate(i):\n    # We need to map the voltages at individual nodes to faces in the mesh\n    # First nodes to vertices\n    vert_voltage = records[i].values[mesh.vertex_map]\n    # Then vertices to faces\n    face_voltage = vert_voltage[mesh.faces].mean(axis=1)\n    # Set the values\n    c.set_array(face_voltage)\n    # Also update the timestamp\n    t.set_text(f'{i * 0.025:.2f} ms')\n    return (c, t)\n\nimport matplotlib.animation as animation\nani = animation.FuncAnimation(fig, animate, interval=40, blit=True, repeat=True, frames=400)"
      ]
    }
  ],
  "metadata": {
    "kernelspec": {
      "display_name": "Python 3",
      "language": "python",
      "name": "python3"
    },
    "language_info": {
      "codemirror_mode": {
        "name": "ipython",
        "version": 3
      },
      "file_extension": ".py",
      "mimetype": "text/x-python",
      "name": "python",
      "nbconvert_exporter": "python",
      "pygments_lexer": "ipython3",
      "version": "3.11.14"
    }
  },
  "nbformat": 4,
  "nbformat_minor": 0
}