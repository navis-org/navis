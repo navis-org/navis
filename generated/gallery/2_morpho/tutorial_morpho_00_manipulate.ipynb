{
  "cells": [
    {
      "cell_type": "code",
      "execution_count": null,
      "metadata": {
        "collapsed": false
      },
      "outputs": [],
      "source": [
        "%matplotlib inline"
      ]
    },
    {
      "cell_type": "markdown",
      "metadata": {},
      "source": [
        "\nManipulate Morphology\n=====================\n\nThis tutorial will give you an impression of how to process and manipulate your neurons' morphology.\n\nSee the [API reference](../../api#neuron-morphology) for a complete list of available functions.\n\nAs you might imagine some manipulations (e.g. smoothing or simplification) will work on all/most neuron\ntypes while others will only work on specific types. For example rerooting only makes sense on a [`navis.TreeNeuron`][].\n\nThe rule of thumb is this: if a function is called e.g. [`downsample_neuron`][navis.downsample_neuron] it should work with\nmultiple, if not all, neuron types while specialized functions will be called e.g. [`reroot_skeleton`][navis.reroot_skeleton].\nSo depending on what data you are working with and what you want to get out of it, you might have to explicitly convert between\nneuron types. See the respective function's docstring for details!\n\n## Rerooting\n\n[`navis.TreeNeurons`][navis.TreeNeuron] are hierarchical trees and as such typically have a single \"root\" node (fragmented neurons\nwill have multiple roots). The root is important because it is used as the reference/origin for a bunch of analyses such\nas Strahler order. Typically, you want the root to be the soma. Because the root is so important, [`TreeNeuron`][navis.TreeNeuron]\ncan be rerooted:\n"
      ]
    },
    {
      "cell_type": "code",
      "execution_count": null,
      "metadata": {
        "collapsed": false
      },
      "outputs": [],
      "source": [
        "import navis\n\nn = navis.example_neurons(1, kind=\"skeleton\")\nprint(n.soma)"
      ]
    },
    {
      "cell_type": "markdown",
      "metadata": {},
      "source": [
        "`.soma` returns the node ID of the soma (if there is one) and can be used to reroot\n\n"
      ]
    },
    {
      "cell_type": "code",
      "execution_count": null,
      "metadata": {
        "collapsed": false
      },
      "outputs": [],
      "source": [
        "navis.reroot_skeleton(n, n.soma, inplace=True)"
      ]
    },
    {
      "cell_type": "markdown",
      "metadata": {},
      "source": [
        "!!! note\n    The root is implicitly also important for [`navis.MeshNeuron`][] because we're\n    using their skeleton representations for a couple operations/analyses!\n\n## Simplifying\n\nIf you work with large lists of neurons you may want to downsample/simplifiy before e.g. trying to plot them. This is one of\nthe things that - in principle work - with all neuron types. The implementation, however, depends on the neuron type. Lookup\nthe respective function's help (e.g. via the [`API`](../../../api.md)) for details.\n\nFor [`TreeNeurons`][navis.TreeNeuron] downsampling means skipping N nodes (here 10):\n\n"
      ]
    },
    {
      "cell_type": "code",
      "execution_count": null,
      "metadata": {
        "collapsed": false
      },
      "outputs": [],
      "source": [
        "sk = navis.example_neurons(n=1, kind=\"skeleton\")\nprint(sk.n_nodes)"
      ]
    },
    {
      "cell_type": "code",
      "execution_count": null,
      "metadata": {
        "collapsed": false
      },
      "outputs": [],
      "source": [
        "sk_downsampled = navis.downsample_neuron(sk, downsampling_factor=10, inplace=False)\nprint(sk_downsampled.n_nodes)"
      ]
    },
    {
      "cell_type": "markdown",
      "metadata": {},
      "source": [
        "For [`MeshNeurons`][navis.MeshNeuron] downsampling will reduce the number of faces by a factor of N:\n\n"
      ]
    },
    {
      "cell_type": "code",
      "execution_count": null,
      "metadata": {
        "collapsed": false
      },
      "outputs": [],
      "source": [
        "me = navis.example_neurons(n=1, kind=\"mesh\")\nprint(me.n_faces)"
      ]
    },
    {
      "cell_type": "code",
      "execution_count": null,
      "metadata": {
        "collapsed": false
      },
      "outputs": [],
      "source": [
        "me_downsampled = navis.downsample_neuron(me, downsampling_factor=10, inplace=False)\nprint(me_downsampled.n_faces)"
      ]
    },
    {
      "cell_type": "markdown",
      "metadata": {},
      "source": [
        "!!! note\n    Under the hood [`downsample_neuron`][navis.downsample_neuron] calls [`navis.simplify_mesh`][] for [`MeshNeurons`][navis.MeshNeuron].\n    That function then requires one of the supported backends for mesh operations to be installed: Blender\n    3D, `pymeshlab` or `open3d`. If none is available, it will prompt you to install one.\n\n## Resampling\n\n[`TreeNeurons`][navis.TreeNeuron] can also be \"resampled\" (up or down) to a given resolution (i.e. distance between nodes):\n\n"
      ]
    },
    {
      "cell_type": "code",
      "execution_count": null,
      "metadata": {
        "collapsed": false
      },
      "outputs": [],
      "source": [
        "sk = navis.example_neurons(n=1, kind=\"skeleton\")\nprint(sk.sampling_resolution * sk.units)"
      ]
    },
    {
      "cell_type": "markdown",
      "metadata": {},
      "source": [
        "Note that we can provide a unit (\"1 micron\") here because our neuron has units set:\n\n"
      ]
    },
    {
      "cell_type": "code",
      "execution_count": null,
      "metadata": {
        "collapsed": false
      },
      "outputs": [],
      "source": [
        "sk_resampled = navis.resample_skeleton(sk, resample_to=\"1 micron\", inplace=False)\nprint(sk_resampled.sampling_resolution * sk_resampled.units)"
      ]
    },
    {
      "cell_type": "markdown",
      "metadata": {},
      "source": [
        "Let's visualize what we did there:\n\n"
      ]
    },
    {
      "cell_type": "code",
      "execution_count": null,
      "metadata": {
        "collapsed": false
      },
      "outputs": [],
      "source": [
        "import matplotlib.pyplot as plt\n\nnodes_original = sk.nodes[[\"x\", \"y\", \"z\"]].values\nnodes_downsampled = sk_downsampled.nodes[[\"x\", \"y\", \"z\"]].values\nnodes_resampled = sk_resampled.nodes[[\"x\", \"y\", \"z\"]].values\n\nfig, axes = plt.subplots(1, 3, figsize=(18, 5))\n\n_ = navis.plot2d(\n    nodes_original,\n    method=\"2d\",\n    view=(\"x\", \"-z\"),\n    scatter_kws=dict(c=\"blue\"),\n    ax=axes[0],\n)\n_ = navis.plot2d(\n    nodes_resampled,\n    method=\"2d\",\n    view=(\"x\", \"-z\"),\n    scatter_kws=dict(c=\"red\"),\n    ax=axes[1],\n)\n_ = navis.plot2d(\n    nodes_downsampled,\n    method=\"2d\",\n    view=(\"x\", \"-z\"),\n    scatter_kws=dict(c=\"green\"),\n    ax=axes[2],\n)\n\nfor ax, title in zip(axes, [\"Original\", \"Resampled to 1um\", \"Downsampled 10x\"]):\n    ax.set_title(title, color=\"k\")\n    ax.invert_yaxis()\n    ax.set_axis_off()\n\nplt.tight_layout()"
      ]
    },
    {
      "cell_type": "markdown",
      "metadata": {},
      "source": [
        "!!! tip\n    Click on the image to see it in full resolution.\n\nAs you can see the resampling increased the node density in the backbone and decreased it in the finer\nneurites to bring things on par. Downsampling just thinned out the nodes across the board.\n\n!!! important\n    Resampling has a caveat you need to be aware of: nodes are not merely moved around to match the\n    desired resolution - they are regenerated from scratch. As consequence, the original node IDs\n    are - with a few exceptions - all gone.\n\n## Smoothing\n\nSmoothing is one of those things that work on all neurons but the approaches are so vastly different that\nthere are separate functions: [`navis.smooth_skeleton`][], [`navis.smooth_mesh`][] and [`navis.smooth_voxels`][]:\n\n"
      ]
    },
    {
      "cell_type": "code",
      "execution_count": null,
      "metadata": {
        "collapsed": false
      },
      "outputs": [],
      "source": [
        "# smooth_skeleton uses a rolling window along the linear segments\nsk = navis.example_neurons(n=1, kind=\"skeleton\")\nsk_smoothed = navis.smooth_skeleton(sk, window=5, inplace=False)"
      ]
    },
    {
      "cell_type": "code",
      "execution_count": null,
      "metadata": {
        "collapsed": false
      },
      "outputs": [],
      "source": [
        "# smooth_mesh uses a iterative rounds of Laplacian smoothing\nme = navis.example_neurons(n=1, kind=\"mesh\")\nme_smoothed = navis.smooth_mesh(me, iterations=5, inplace=False)"
      ]
    },
    {
      "cell_type": "markdown",
      "metadata": {},
      "source": [
        "## Cutting & Pruning\n\nCutting and pruning work best if there is a sense of topology which implicitly requires a skeleton. Many\nfunctions will also work on [MeshNeurons][navis.MeshNeuron] though. That's because the operation is performed\non their skeleton and changes are propagated back to the mesh. Fair warning though: this may not be perfect\n(e.g. the resulting mesh might not be watertight) - should be good enough for a first pass though!\n\nLet's start with something easy: cutting a skeleton in two at a given node.\n\n"
      ]
    },
    {
      "cell_type": "code",
      "execution_count": null,
      "metadata": {
        "collapsed": false
      },
      "outputs": [],
      "source": [
        "# Load the neuron\nn = navis.example_neurons(1, kind=\"skeleton\")\n\n# Pick a node ID\ncut_node_id = n.nodes.node_id.values[333]\ndistal, proximal = navis.cut_skeleton(n, cut_node_id)"
      ]
    },
    {
      "cell_type": "markdown",
      "metadata": {},
      "source": [
        "Plot the two fragments:\n\n"
      ]
    },
    {
      "cell_type": "code",
      "execution_count": null,
      "metadata": {
        "collapsed": false
      },
      "outputs": [],
      "source": [
        "# Note that we are using method='2d' here because that makes annotating the plot easier\nfig, ax = distal.plot2d(color=\"cyan\", method=\"2d\", view=(\"x\", \"-z\"))\nfig, ax = proximal.plot2d(color=\"green\", ax=ax, method=\"2d\", view=(\"x\", \"-z\"))\n\n# Annotate cut point\ncut_coords = distal.nodes.set_index(\"node_id\").loc[distal.root, [\"x\", \"z\"]].values[0]\nax.annotate(\n    \"cut point\",\n    xy=(cut_coords[0], -cut_coords[1]),\n    color=\"lightgrey\",\n    xytext=(cut_coords[0], -cut_coords[1] - 2000),\n    va=\"center\",\n    ha=\"center\",\n    arrowprops=dict(shrink=0.1, width=2, color=\"lightgrey\"),\n)\n\nplt.tight_layout()"
      ]
    },
    {
      "cell_type": "markdown",
      "metadata": {},
      "source": [
        "If instead of a node ID, you have an x/y/z coordinate where you want to cut: use the `.snap` method to find\nthe closest node to that location:\n\n"
      ]
    },
    {
      "cell_type": "code",
      "execution_count": null,
      "metadata": {
        "collapsed": false
      },
      "outputs": [],
      "source": [
        "node_id, dist = n.snap([14000, 16200, 12000])\nprint(f\"Closest node: {node_id} at distance {dist * n.units:.2f} {n.units.units}\")"
      ]
    },
    {
      "cell_type": "markdown",
      "metadata": {},
      "source": [
        "Instead of cutting a neuron in two, we can also just prune bits off:\n\n"
      ]
    },
    {
      "cell_type": "code",
      "execution_count": null,
      "metadata": {
        "collapsed": false
      },
      "outputs": [],
      "source": [
        "n_pruned = n.prune_distal_to(cut_node_id, inplace=False)\n\ncut_coords = n.nodes.set_index(\"node_id\").loc[cut_node_id, [\"x\", \"z\"]].values\n\n# Plot original neuron in red and with dotted line\nfig, ax = n.plot2d(color=\"red\", method=\"2d\", linestyle=(0, (5, 10)), view=(\"x\", \"-z\"))\n\n# Plot remaining neurites in red\nfig, ax = n_pruned.plot2d(color=\"green\", method=\"2d\", ax=ax, view=(\"x\", \"-z\"), lw=1.2)\n\n# Annotate cut point\nax.annotate(\n    \"cut point\",\n    xy=(cut_coords[0], -cut_coords[1]),\n    color=\"lightgrey\",\n    xytext=(cut_coords[0], -cut_coords[1] - 2000),\n    va=\"center\",\n    ha=\"center\",\n    arrowprops=dict(shrink=0.1, width=2, color=\"lightgrey\"),\n)\n\nplt.tight_layout()"
      ]
    },
    {
      "cell_type": "markdown",
      "metadata": {},
      "source": [
        "[`navis.cut_skeleton`][] also takes multiple cut nodes, in case you want to chop your neuron into multiple pieces.\n\nAs an (extreme) example, let's cut a neuron at every single branch point:\n\n"
      ]
    },
    {
      "cell_type": "code",
      "execution_count": null,
      "metadata": {
        "collapsed": false
      },
      "outputs": [],
      "source": [
        "n = navis.example_neurons(1, kind=\"skeleton\")\n\nbranch_points = n.nodes[n.nodes.type == \"branch\"].node_id.values\n\ncut = navis.cut_skeleton(n, branch_points)\ncut.head()"
      ]
    },
    {
      "cell_type": "code",
      "execution_count": null,
      "metadata": {
        "collapsed": false
      },
      "outputs": [],
      "source": [
        "# Plot neuron fragments\nfig, ax = navis.plot2d(cut, linewidth=1.5, view=(\"x\", \"-z\"))\n\nplt.tight_layout()"
      ]
    },
    {
      "cell_type": "markdown",
      "metadata": {},
      "source": [
        "Let's try something more sophisticated: pruning by Strahler index:\n\n"
      ]
    },
    {
      "cell_type": "code",
      "execution_count": null,
      "metadata": {
        "collapsed": false
      },
      "outputs": [],
      "source": [
        "# Load a fresh skeleton\nn = navis.example_neurons(1, kind=\"skeleton\")\n\n# Reroot to soma\nn = n.reroot(n.soma)\n\n# This will prune off terminal branches (the lowest two Strahler indices)\nn_pruned = n.prune_by_strahler(to_prune=[1, 2], inplace=False)\n\n# Plot original neurons in red\nfig, ax = n.plot2d(color=\"red\", view=('x', '-z'))\n\n# Plot remaining neurites in green\nfig, ax = n_pruned.plot2d(color=\"green\", ax=ax, linewidth=1, view=(\"x\", \"-z\"))\n\nplt.tight_layout()"
      ]
    },
    {
      "cell_type": "markdown",
      "metadata": {},
      "source": [
        "We can also turn this around and remove only the higher order branches. Let's use this example to\nshow that we can also do this with [`MeshNeurons`][navis.MeshNeuron]:\n\n"
      ]
    },
    {
      "cell_type": "markdown",
      "metadata": {},
      "source": [
        "Load an example mesh neuron\n\n"
      ]
    },
    {
      "cell_type": "code",
      "execution_count": null,
      "metadata": {
        "collapsed": false
      },
      "outputs": [],
      "source": [
        "m = navis.example_neurons(1, kind=\"mesh\")\n\n# This will prune to the just terminal branches\nm_pruned = navis.prune_by_strahler(m, to_prune=range(3, 100), inplace=False)\n\n# Plot original neuron in cyan\nfig, ax = m.plot2d(color=\"cyan\", figsize=(10, 10), view=(\"x\", \"-z\"))\n\n# Plot remaining neurites red\nfig, ax = m_pruned.plot2d(color=\"red\", ax=ax, view=(\"x\", \"-z\"))\n\nplt.tight_layout()"
      ]
    },
    {
      "cell_type": "markdown",
      "metadata": {},
      "source": [
        "Alternatively, we can prune terminal branches based on size:\n\n"
      ]
    },
    {
      "cell_type": "code",
      "execution_count": null,
      "metadata": {
        "collapsed": false
      },
      "outputs": [],
      "source": [
        "# This will prune all branches smaller than 10 microns\nm_pruned = navis.prune_twigs(m, size=\"10 microns\", inplace=False)\n\n# Plot original neuron in red\nfig, ax = m.plot2d(color=\"red\", figsize=(10, 10), view=(\"x\", \"-z\"))\n\n# Plot remaining neurites in cyan\nfig, ax = m_pruned.plot2d(\n    color=\"cyan\", ax=ax, linewidth=0.75, alpha=0.5, view=(\"x\", \"-z\")\n)\n\nplt.tight_layout()"
      ]
    },
    {
      "cell_type": "markdown",
      "metadata": {},
      "source": [
        "## Intersecting with Volumes\n\nWe can also intersect neurons with [`navis.Volume`][] (and `trimesh.Trimesh` for that matter).\nThis is useful if you want to e.g. subset a neuron to a certain brain region. Let's see how this works:\n\n"
      ]
    },
    {
      "cell_type": "markdown",
      "metadata": {},
      "source": [
        "Load an example navis.Volume\n\n"
      ]
    },
    {
      "cell_type": "code",
      "execution_count": null,
      "metadata": {
        "collapsed": false
      },
      "outputs": [],
      "source": [
        "lh = navis.example_volume(\"LH\")\n\n# Prune by volume\nm_lh = navis.in_volume(m, lh, inplace=False)\nm_outside_lh = navis.in_volume(m, lh, mode=\"OUT\", inplace=False)"
      ]
    },
    {
      "cell_type": "markdown",
      "metadata": {},
      "source": [
        "And plot!\n\n"
      ]
    },
    {
      "cell_type": "markdown",
      "metadata": {},
      "source": [
        "Plot pruned branchs neuron in green\n\n"
      ]
    },
    {
      "cell_type": "code",
      "execution_count": null,
      "metadata": {
        "collapsed": false
      },
      "outputs": [],
      "source": [
        "fig, ax = navis.plot2d(\n    [m_lh, m_outside_lh, lh], color=[\"red\", \"green\"], figsize=(10, 10), view=(\"x\", \"-z\")\n)\n\nplt.tight_layout()"
      ]
    },
    {
      "cell_type": "markdown",
      "metadata": {},
      "source": [
        "Does this work with all neuron types? There is no simple answer unfortunately. In theory, anything that\nworks on skeletons should also work on meshes, and _vice versa_. However, [`navis.Dotprops`][] [`navis.VoxelNeuron`][] are\nso fundamentally different that certain operations just don't make sense. For example we can't cut them but we\ncan subset them to a given volume. Check out the [I/O API reference](../../../api.md#neuron-types-and-functions) docs for\nan overview of what works with which neuron type.\n\n"
      ]
    },
    {
      "cell_type": "code",
      "execution_count": null,
      "metadata": {
        "collapsed": false
      },
      "outputs": [],
      "source": [
        "# Note that [`navis.in_volume`][] also works with arbitrary spatial data (i.e. `(N, 3)` arrays of x/y/z locations):"
      ]
    },
    {
      "cell_type": "markdown",
      "metadata": {},
      "source": [
        "Get the connectors for one of our above skeletons\n\n"
      ]
    },
    {
      "cell_type": "code",
      "execution_count": null,
      "metadata": {
        "collapsed": false
      },
      "outputs": [],
      "source": [
        "cn = sk.connectors\n\n# Add a column that tells us which connectors are in the LH volume\ncn[\"in_lh\"] = navis.in_volume(cn[[\"x\", \"y\", \"z\"]].values, lh)\ncn.head()"
      ]
    },
    {
      "cell_type": "markdown",
      "metadata": {},
      "source": [
        "Count the number of connectors (pre and post) in- and outside the LH:\n\n"
      ]
    },
    {
      "cell_type": "code",
      "execution_count": null,
      "metadata": {
        "collapsed": false
      },
      "outputs": [],
      "source": [
        "cn.groupby([\"type\", \"in_lh\"]).size()"
      ]
    },
    {
      "cell_type": "markdown",
      "metadata": {},
      "source": [
        "About half the presynapses are in the LH (most of the rest will be in the MB calyx). The large majority of postsynapses are\noutside the LH in the antennal lobe where this neuron has its dendrites.\n\nThat's it for now! Please see the [NBLAST tutorial](../../05_nblast/tutorial_nblast_00_intro.py) for morphological comparisons using NBLAST and the\n[API reference](../../../api.md#neuron-morphology) for a full list of morphology-related functions.\n\n"
      ]
    }
  ],
  "metadata": {
    "kernelspec": {
      "display_name": "Python 3",
      "language": "python",
      "name": "python3"
    },
    "language_info": {
      "codemirror_mode": {
        "name": "ipython",
        "version": 3
      },
      "file_extension": ".py",
      "mimetype": "text/x-python",
      "name": "python",
      "nbconvert_exporter": "python",
      "pygments_lexer": "ipython3",
      "version": "3.11.14"
    }
  },
  "nbformat": 4,
  "nbformat_minor": 0
}