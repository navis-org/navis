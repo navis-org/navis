{
  "cells": [
    {
      "cell_type": "code",
      "execution_count": null,
      "metadata": {
        "collapsed": false
      },
      "outputs": [],
      "source": [
        "%matplotlib inline"
      ]
    },
    {
      "cell_type": "markdown",
      "metadata": {},
      "source": [
        "\nAnalyzing Neuron Morphology\n===========================\n\nThis tutorial will give you an overview of how to analyze neuron morphology.\n\nDisclaimer: As you might imagine some properties can be gathered for all/most neuron types while others will only work\non specific types. For example, topological properties such as cable length, branch points, etc. are easy to get for\na skeleton (i.e. a [`TreeNeuron`][navis.TreeNeuron]) but not for an image (i.e. a [`VoxelNeuron`][navis.VoxelNeuron]).\nMake sure to check the respective function's docstring for details!\n\n\n## Basic Properties\n\n{{ navis }} provides some basic morphometrics as neuron properties. Others need to be computed using a specific function\n(e.g. [`navis.tortuosity`][navis.tortuosity]) - mostly because they require/allow some parameters to be set.\n\nWith that in mind, let's dive right in:\n"
      ]
    },
    {
      "cell_type": "code",
      "execution_count": null,
      "metadata": {
        "collapsed": false
      },
      "outputs": [],
      "source": [
        "import navis\nimport matplotlib.pyplot as plt\n\nimport seaborn as sns\n\nsns.set_color_codes(\"muted\")"
      ]
    },
    {
      "cell_type": "markdown",
      "metadata": {},
      "source": [
        "Accessing attributes for a single neuron:\n\n"
      ]
    },
    {
      "cell_type": "code",
      "execution_count": null,
      "metadata": {
        "collapsed": false
      },
      "outputs": [],
      "source": [
        "# Load a single skeleton (i.e. a TreeNeuron)\nn = navis.example_neurons(n=1, kind=\"skeleton\")\nprint(f\"This neuron has {n.cable_length} of cable\")"
      ]
    },
    {
      "cell_type": "markdown",
      "metadata": {},
      "source": [
        "If your neuron has its `units` properties set, you can also combine those:\n\n"
      ]
    },
    {
      "cell_type": "code",
      "execution_count": null,
      "metadata": {
        "collapsed": false
      },
      "outputs": [],
      "source": [
        "print(f\"This neuron has {(n.cable_length * n.units).to('microns')} of cable\")"
      ]
    },
    {
      "cell_type": "markdown",
      "metadata": {},
      "source": [
        "Accessing the same properties via a [`navis.NeuronList`][] will return an array:\n\n"
      ]
    },
    {
      "cell_type": "code",
      "execution_count": null,
      "metadata": {
        "collapsed": false
      },
      "outputs": [],
      "source": [
        "nl = navis.example_neurons(kind=\"skeleton\")\nprint(f\"Cable lengths for neurons in this list:\\n{nl.cable_length}\")"
      ]
    },
    {
      "cell_type": "markdown",
      "metadata": {},
      "source": [
        "[`navis.NeuronList.summary`][] is a useful way to collect some of the basic parameters:\n\n"
      ]
    },
    {
      "cell_type": "code",
      "execution_count": null,
      "metadata": {
        "collapsed": false
      },
      "outputs": [],
      "source": [
        "df = nl.summary()\ndf.head()"
      ]
    },
    {
      "cell_type": "markdown",
      "metadata": {},
      "source": [
        "For [`MeshNeurons`][navis.MeshNeuron] the available properties look different. For example,\nyou can get its volume:\n\n"
      ]
    },
    {
      "cell_type": "code",
      "execution_count": null,
      "metadata": {
        "collapsed": false
      },
      "outputs": [],
      "source": [
        "# Load a single MeshNeuron\nm = navis.example_neurons(n=1, kind=\"mesh\")\nprint(f\"Neuron volume: {m.volume}\")\n\n# Again, we can use the `units` property to convert:\nprint(f\"Neuron volume: {(m.volume * n.units **3).to('microns ** 3')}\")"
      ]
    },
    {
      "cell_type": "markdown",
      "metadata": {},
      "source": [
        "For topological properties, we need to convert to skeleton. The fastest way is to simply access\nthe [`MeshNeuron`][navis.MeshNeuron]'s `.skeleton` property:\n\n"
      ]
    },
    {
      "cell_type": "code",
      "execution_count": null,
      "metadata": {
        "collapsed": false
      },
      "outputs": [],
      "source": [
        "print(f\"Mesh cable length: {m.skeleton.cable_length * m.units}\")"
      ]
    },
    {
      "cell_type": "markdown",
      "metadata": {},
      "source": [
        "!!! note\n    The above `.skeleton` property is simply an automatically generated [`TreeNeuron`][navis.TreeNeuron]\n    representation of the mesh. It uses sensible defaults but as said initially: it's good practice to\n    create and check the skeleton yourself via [`navis.skeletonize`][].\n\nImportantly, some {{ navis }} functions (e.g. [`navis.segment_analysis`][], see below) that accept\n[`MeshNeurons`][navis.MeshNeuron] as input, really use this skeleton representation under-the-hood.\n\nThe skeleton representation of the mesh lets us access many toplogical properties:\n\n"
      ]
    },
    {
      "cell_type": "code",
      "execution_count": null,
      "metadata": {
        "collapsed": false
      },
      "outputs": [],
      "source": [
        "m.skeleton.n_leafs"
      ]
    },
    {
      "cell_type": "code",
      "execution_count": null,
      "metadata": {
        "collapsed": false
      },
      "outputs": [],
      "source": [
        "m.skeleton.n_branches"
      ]
    },
    {
      "cell_type": "markdown",
      "metadata": {},
      "source": [
        "You may have already noticed here and in other examples the use of `n_{property}` (e.g. `n.n_leafs`).\nThese are in fact generic: you can use any `n_...` and - assuming that property exists - {{ navis }} will\nreturn a count:\n\n"
      ]
    },
    {
      "cell_type": "code",
      "execution_count": null,
      "metadata": {
        "collapsed": false
      },
      "outputs": [],
      "source": [
        "m.n_vertices"
      ]
    },
    {
      "cell_type": "code",
      "execution_count": null,
      "metadata": {
        "collapsed": false
      },
      "outputs": [],
      "source": [
        "m.skeleton.n_nodes"
      ]
    },
    {
      "cell_type": "code",
      "execution_count": null,
      "metadata": {
        "collapsed": false
      },
      "outputs": [],
      "source": [
        "# Illustrate with a random property\nm.my_counts = [1, 2, 3, 4, 5]\nm.n_my_counts"
      ]
    },
    {
      "cell_type": "markdown",
      "metadata": {},
      "source": [
        "## Segment Analysis\n\n[`navis.segment_analysis`][] is a great entry point for collecting a bunch of morphometrics for your neuron(s) of\ninterest. It returns Strahler index, cable length, distance to root, radius and tortuosity for each linear segment:\n\n"
      ]
    },
    {
      "cell_type": "code",
      "execution_count": null,
      "metadata": {
        "collapsed": false
      },
      "outputs": [],
      "source": [
        "sa = navis.segment_analysis(m)\nsa.head()"
      ]
    },
    {
      "cell_type": "code",
      "execution_count": null,
      "metadata": {
        "collapsed": false
      },
      "outputs": [],
      "source": [
        "# See if segment length correlates with radius\nax = sns.scatterplot(\n    data=sa, x=\"length\", y=\"radius_mean\", size=\"strahler_index\", alpha=0.7\n)\nax.set_xscale(\"log\")\nax.set_yscale(\"log\")"
      ]
    },
    {
      "cell_type": "markdown",
      "metadata": {},
      "source": [
        "## Sholl Analysis\n\nFor an example of a Sholl analyses, check out the [MICrONS tutorial](../4_remote/tutorial_remote_02_microns).\n\n## Geodesic Distances\n\nWorking with Euclidean distances is straight forward and we won't cover this extensively but here is an example where\nwe are measuring the average distances between a node and its parent (= the sampling rate):\n\n"
      ]
    },
    {
      "cell_type": "code",
      "execution_count": null,
      "metadata": {
        "collapsed": false
      },
      "outputs": [],
      "source": [
        "import numpy as np\n\n# Get nodes but remove the root (has no parent)\nnodes = nl[0].nodes[nl[0].nodes.parent_id > 0]\n\n# Get the x/y/z coordinates of all nodes (except root)\nnode_locs = nodes[[\"x\", \"y\", \"z\"]].values\n\n# For each node, get its parent's location\nparent_locs = (\n    nl[0].nodes.set_index(\"node_id\").loc[nodes.parent_id.values, [\"x\", \"y\", \"z\"]].values\n)\n\n# Calculate Euclidean distances\ndistances = np.sqrt(np.sum((node_locs - parent_locs) ** 2, axis=1))\n\n# Use the neuron's units to convert into nm\ndistances = distances * nl[0].units\n\nprint(\n    f\"Mean distance between nodes: {np.mean(distances):.2f} (+/- {np.std(distances):.2f})\"\n)"
      ]
    },
    {
      "cell_type": "markdown",
      "metadata": {},
      "source": [
        "What if you wanted to know the distance between the soma and all terminal nodes? In that case Euclidean distance\nwould be insufficient as the neuron is not a straight line. Instead, you need the geodesic, the \"along-the-arbor\" distance.\n\n{{ navis }} comes with a couple functions that help you get geodesic distances. For single node-to-node queries,\n[`navis.dist_between`][] should be sufficient:\n\n"
      ]
    },
    {
      "cell_type": "code",
      "execution_count": null,
      "metadata": {
        "collapsed": false
      },
      "outputs": [],
      "source": [
        "n = nl[0]\n\nend = n.nodes[n.nodes.type == \"end\"].node_id.values[0]\n\nd_geo = navis.dist_between(n, n.soma, end) * n.units\n\nprint(f\"Euclidean distance between soma and terminal node {end}: {d_geo:.2f}\")"
      ]
    },
    {
      "cell_type": "markdown",
      "metadata": {},
      "source": [
        "Let's visualize this:\n\n"
      ]
    },
    {
      "cell_type": "code",
      "execution_count": null,
      "metadata": {
        "collapsed": false
      },
      "outputs": [],
      "source": [
        "import networkx as nx\n\n# First we need to find the path between the soma and the terminal node\npath = nx.shortest_path(n.graph.to_undirected(), n.soma, end)\n\n# Get coordinates for the path\npath_co = n.nodes.set_index(\"node_id\").loc[path, [\"x\", \"y\", \"z\"]].copy()\n\n# Add a small offset\npath_co.x += 500\npath_co.y -= 500\n\n# Plot neuron\nfig, ax = navis.plot2d(n, c=\"blue\", method=\"2d\", view=(\"x\", \"-z\"))\n\n# Add geodesic path\nax.plot(path_co.x, path_co.z, c=\"r\", ls=\"--\")\n\n# Add Euclidean path\nend_loc = n.nodes.set_index(\"node_id\").loc[end, [\"x\", \"y\", \"z\"]]\nsoma_loc = n.nodes.set_index(\"node_id\").loc[n.soma, [\"x\", \"y\", \"z\"]]\nax.plot([soma_loc.x, end_loc.x], [soma_loc.z, end_loc.z], c=\"g\", ls=\"--\")\n\nd_eucl = np.sqrt(np.sum((end_loc - soma_loc) ** 2)) * n.units\n\n# Annotate distances\n_ = ax.text(\n    x=0.1,\n    y=0.3,\n    s=f\"Euclidean distance:\\n{d_eucl.to_compact():.0f}\",\n    transform=ax.transAxes,\n    c=\"g\",\n)\n_ = ax.text(\n    x=0.85,\n    y=0.5,\n    s=f\"Geodesic distance:\\n{d_geo.to_compact():.0f}\",\n    transform=ax.transAxes,\n    c=\"r\",\n    ha=\"right\",\n)"
      ]
    },
    {
      "cell_type": "markdown",
      "metadata": {},
      "source": [
        "If you want to look at geodesic distances across many nodes, you should consider using [`navis.geodesic_matrix`][].\nTo demonstrate, let's generate a geodesic distance matrix between all terminal nodes:\n\n"
      ]
    },
    {
      "cell_type": "code",
      "execution_count": null,
      "metadata": {
        "collapsed": false
      },
      "outputs": [],
      "source": [
        "# Calculate distances from all end nodes to all other nodes\nends = n.nodes[n.nodes.type == \"end\"].node_id.values\nm = navis.geodesic_matrix(n, from_=ends)\n\n# Subset to only end-nodes-to-end_nodes\nm = m.loc[ends, ends]\n\nm.head()"
      ]
    },
    {
      "cell_type": "markdown",
      "metadata": {},
      "source": [
        "Let's see if we can visualize any clusters using a `seaborn` clustermap:\n\n"
      ]
    },
    {
      "cell_type": "code",
      "execution_count": null,
      "metadata": {
        "collapsed": false
      },
      "outputs": [],
      "source": [
        "import seaborn as sns\n\nfrom scipy.cluster.hierarchy import linkage\nfrom scipy.spatial.distance import squareform\n\n# Generate a linkage from the distances\nZ = linkage(squareform(m, checks=False), method=\"ward\")\n\n# Plot\ncm = sns.clustermap(m, cmap=\"Greys\", col_linkage=Z, row_linkage=Z)\n\ncm.ax_heatmap.set_xticks([])\ncm.ax_heatmap.set_yticks([])"
      ]
    },
    {
      "cell_type": "markdown",
      "metadata": {},
      "source": [
        "As you can see in the heatmap, the dendrites and the axon nicely separate.\n\nThat's it for now! Please see the [NBLAST tutorial](../../5_nblast/tutorial_nblast_00_intro) for morphological comparisons using NBLAST and\nthe [API reference](../../../api.md) for a full list of morphology-related functions.\n\n"
      ]
    }
  ],
  "metadata": {
    "kernelspec": {
      "display_name": "Python 3",
      "language": "python",
      "name": "python3"
    },
    "language_info": {
      "codemirror_mode": {
        "name": "ipython",
        "version": 3
      },
      "file_extension": ".py",
      "mimetype": "text/x-python",
      "name": "python",
      "nbconvert_exporter": "python",
      "pygments_lexer": "ipython3",
      "version": "3.11.14"
    }
  },
  "nbformat": 4,
  "nbformat_minor": 0
}