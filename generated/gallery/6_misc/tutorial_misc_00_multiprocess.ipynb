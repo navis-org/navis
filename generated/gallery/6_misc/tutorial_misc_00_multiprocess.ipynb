{
  "cells": [
    {
      "cell_type": "code",
      "execution_count": null,
      "metadata": {
        "collapsed": false
      },
      "outputs": [],
      "source": [
        "%matplotlib inline"
      ]
    },
    {
      "cell_type": "markdown",
      "metadata": {},
      "source": [
        "\nMultiprocessing\n===============\n\nThis notebook will show you how to use parallel processing with `navis`.\n\nBy default, most {{ navis }} functions use only a single thread/process (although some third-party functions\nused under the hood might). Distributing expensive computations across multiple cores can speed things up considerable.\n\nMany {{ navis }} functions natively support parallel processing. This notebook will illustrate various ways\nto use parallelism. Before we get start: {{ navis }} uses `pathos` for multiprocessing - if you installed\n{{ navis }} with `pip install navis[all]` you should be all set. If not, you can install `pathos` separately:\n\n```shell\npip install pathos -U\n```\n\n## Running {{ navis }} functions in parallel\n\nSince version `0.6.0` many {{ navis }} functions accept a `parallel=True` and an (optional) `n_cores` parameter:\n"
      ]
    },
    {
      "cell_type": "code",
      "execution_count": null,
      "metadata": {
        "collapsed": false
      },
      "outputs": [],
      "source": [
        "import time\nimport navis\n\ndef time_func(func, *args, **kwargs):\n    \"\"\"A function to time the execution of a function.\"\"\"\n    start = time.time()\n    func(*args, **kwargs)\n    print(f\"Execution time: {round(time.time() - start, 2)}s\")\n\n# Load example neurons\nnl = navis.example_neurons()"
      ]
    },
    {
      "cell_type": "markdown",
      "metadata": {},
      "source": [
        "!!! important\n    This documentation is built on Github Actions where the number of cores can be as low as 2. The speedup on\n    your machine should be more pronounced than what you see below. That said: parallel processing has some\n    overhead and for small tasks the overhead can be larger than the speed-up.\n\n"
      ]
    },
    {
      "cell_type": "markdown",
      "metadata": {},
      "source": [
        "Without parallel processing:\n\n"
      ]
    },
    {
      "cell_type": "code",
      "execution_count": null,
      "metadata": {
        "collapsed": false
      },
      "outputs": [],
      "source": [
        "time_func (\n    navis.resample_skeleton,\n    nl,\n    resample_to=125\n)"
      ]
    },
    {
      "cell_type": "markdown",
      "metadata": {},
      "source": [
        "With parallel processing:\n\n"
      ]
    },
    {
      "cell_type": "code",
      "execution_count": null,
      "metadata": {
        "collapsed": false
      },
      "outputs": [],
      "source": [
        "time_func (\n    navis.resample_skeleton,\n    nl,\n    resample_to=125,\n    parallel=True\n)"
      ]
    },
    {
      "cell_type": "markdown",
      "metadata": {},
      "source": [
        "The same also works for neuron methods!\n\nWithout parallel processing:\n\n"
      ]
    },
    {
      "cell_type": "code",
      "execution_count": null,
      "metadata": {
        "collapsed": false
      },
      "outputs": [],
      "source": [
        "time_func (\n    nl.resample, 125\n)"
      ]
    },
    {
      "cell_type": "markdown",
      "metadata": {},
      "source": [
        "With parallel processing:\n\n"
      ]
    },
    {
      "cell_type": "code",
      "execution_count": null,
      "metadata": {
        "collapsed": false
      },
      "outputs": [],
      "source": [
        "time_func (\n    nl.resample, 125, parallel=True\n)"
      ]
    },
    {
      "cell_type": "markdown",
      "metadata": {},
      "source": [
        "By default `parallel=True` will use half the available CPU cores.\nYou can adjust that behaviour using the `n_cores` parameter:\n\n"
      ]
    },
    {
      "cell_type": "code",
      "execution_count": null,
      "metadata": {
        "collapsed": false
      },
      "outputs": [],
      "source": [
        "time_func (\n    nl.resample, 125, parallel=True, n_cores=2\n)"
      ]
    },
    {
      "cell_type": "markdown",
      "metadata": {},
      "source": [
        "!!! note\n    The name `n_cores` is actually a bit misleading as it determines the number of parallel processes\n    that {{ navis }} will spawn. There is nothing stopping you from setting `n_cores` to a number higher than\n    the number of available CPU cores. However, doing so will likely over-subscribe your CPU and end up\n    slowing things down.\n\n"
      ]
    },
    {
      "cell_type": "markdown",
      "metadata": {},
      "source": [
        "## Parallelizing generic functions\n\nFor non-{{ navis }} function you can use [`NeuronList.apply`][navis.NeuronList.apply] to parallelize them.\n\nFirst, let's write a mock function that simply waits one second and then returns the number of nodes:\n\n"
      ]
    },
    {
      "cell_type": "code",
      "execution_count": null,
      "metadata": {
        "collapsed": false
      },
      "outputs": [],
      "source": [
        "def my_func(x):\n    import time\n    time.sleep(1)\n    return x.n_nodes"
      ]
    },
    {
      "cell_type": "code",
      "execution_count": null,
      "metadata": {
        "collapsed": false
      },
      "outputs": [],
      "source": [
        "# Without parallel processing\ntime_func (\n    nl.apply, my_func\n)"
      ]
    },
    {
      "cell_type": "code",
      "execution_count": null,
      "metadata": {
        "collapsed": false
      },
      "outputs": [],
      "source": [
        "# With parallel processing\ntime_func (\n    nl.apply, my_func, parallel=True\n)"
      ]
    }
  ],
  "metadata": {
    "kernelspec": {
      "display_name": "Python 3",
      "language": "python",
      "name": "python3"
    },
    "language_info": {
      "codemirror_mode": {
        "name": "ipython",
        "version": 3
      },
      "file_extension": ".py",
      "mimetype": "text/x-python",
      "name": "python",
      "nbconvert_exporter": "python",
      "pygments_lexer": "ipython3",
      "version": "3.11.14"
    }
  },
  "nbformat": 4,
  "nbformat_minor": 0
}