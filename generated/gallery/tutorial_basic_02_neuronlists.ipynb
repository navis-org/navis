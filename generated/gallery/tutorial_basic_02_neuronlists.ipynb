{
  "cells": [
    {
      "cell_type": "code",
      "execution_count": null,
      "metadata": {
        "collapsed": false
      },
      "outputs": [],
      "source": [
        "%matplotlib inline"
      ]
    },
    {
      "cell_type": "markdown",
      "metadata": {},
      "source": [
        "\nLists of Neurons\n================\n\nThis tutorial will show you how to use NeuronLists to efficiently work with many neurons at a time.\n\n!!! note\n    If you haven't please check out the [neuron types tutorial](../tutorial_basic_01_neurons) first.\n\n{{ navis }} will typically collect multiple neurons into a [`navis.NeuronList`][] as container.\nThis container behaves like a mix of lists, numpy arrays and pandas dataframes, and allows you\nto quickly sort, filter and manipulate neurons.\n"
      ]
    },
    {
      "cell_type": "markdown",
      "metadata": {},
      "source": [
        "## Overview\n\n"
      ]
    },
    {
      "cell_type": "code",
      "execution_count": null,
      "metadata": {
        "collapsed": false
      },
      "outputs": [],
      "source": [
        "import navis\n\n# Grab three example skeletons (TreeNeurons) as a NeuronList\nnl = navis.example_neurons(n=3)\nnl"
      ]
    },
    {
      "cell_type": "markdown",
      "metadata": {},
      "source": [
        "!!! note\n    Note how just printing `nl` at the end of the cell will produce a nice summary table?\n    If you want to get this table as pandas DataFrame, use the `summary()` method:\n    ```python\n    df = nl.summary()\n    ```\n\n"
      ]
    },
    {
      "cell_type": "code",
      "execution_count": null,
      "metadata": {
        "collapsed": false
      },
      "outputs": [],
      "source": [
        "import matplotlib.pyplot as plt\n\nnavis.plot2d(nl, view=('x', '-z'), method='2d')\nplt.tight_layout()"
      ]
    },
    {
      "cell_type": "markdown",
      "metadata": {},
      "source": [
        "## Creating NeuronLists\n\nTo create a [`NeuronList`][navis.NeuronList] from scratch simply pass a list of neurons to the constructor:\n\n"
      ]
    },
    {
      "cell_type": "code",
      "execution_count": null,
      "metadata": {
        "collapsed": false
      },
      "outputs": [],
      "source": [
        "n = navis.example_neurons(n=1)\nnl = navis.NeuronList([n, n, n])  # a list with 3x the same neuron\nnl"
      ]
    },
    {
      "cell_type": "markdown",
      "metadata": {},
      "source": [
        "## Accessing Neuron Attributes\n\n[`NeuronLists`][navis.NeuronList] give you quick and easy access to data and across all neurons:\n\n"
      ]
    },
    {
      "cell_type": "code",
      "execution_count": null,
      "metadata": {
        "collapsed": false
      },
      "outputs": [],
      "source": [
        "# Get the number of nodes in the first skeleton\nnl = navis.example_neurons(n=3)\nnl[0].n_nodes"
      ]
    },
    {
      "cell_type": "markdown",
      "metadata": {},
      "source": [
        "Use the [`NeuronList`][navis.NeuronList] to collect number of nodes across all neurons:\n\n"
      ]
    },
    {
      "cell_type": "code",
      "execution_count": null,
      "metadata": {
        "collapsed": false
      },
      "outputs": [],
      "source": [
        "nl.n_nodes"
      ]
    },
    {
      "cell_type": "markdown",
      "metadata": {},
      "source": [
        "This works on any neuron attribute:\n\n"
      ]
    },
    {
      "cell_type": "code",
      "execution_count": null,
      "metadata": {
        "collapsed": false
      },
      "outputs": [],
      "source": [
        "nl.cable_length"
      ]
    },
    {
      "cell_type": "markdown",
      "metadata": {},
      "source": [
        "!!! note\n    The `n_{attribute}` pattern works with any \"countable\" neuron attributes like nodes, connectors, etc.\n\nIf the neuron attribute is a dataframe, the [`NeuronList`](navis.NeuronList) will concatenate them and\nadd a new column with the neuron ID:\n\n"
      ]
    },
    {
      "cell_type": "code",
      "execution_count": null,
      "metadata": {
        "collapsed": false
      },
      "outputs": [],
      "source": [
        "nl.nodes  # note the `neuron` column"
      ]
    },
    {
      "cell_type": "markdown",
      "metadata": {},
      "source": [
        "[`NeuronLists`][navis.NeuronList] can also contain a mix of different neuron types:\n\n"
      ]
    },
    {
      "cell_type": "code",
      "execution_count": null,
      "metadata": {
        "collapsed": false
      },
      "outputs": [],
      "source": [
        "nl_mix = navis.example_neurons(n=2, kind='mix')\nnl_mix"
      ]
    },
    {
      "cell_type": "markdown",
      "metadata": {},
      "source": [
        "Note how `nl_mix` contains a [`TreeNeuron`][navis.TreeNeuron] and a [`MeshNeuron`][navis.MeshNeuron]?\n\nIn such cases you have to be a bit more careful about asking for attributes that are not shared across all neurons:\n\n```python\n# This will throw an error because MeshNeurons\n# don't have a `cable_length` attribute\nnl_mix.cable_length\n```\n\n"
      ]
    },
    {
      "cell_type": "code",
      "execution_count": null,
      "metadata": {
        "collapsed": false
      },
      "outputs": [],
      "source": [
        "# Instead use the `get_neuron_attributes()` method with a default value:\nnl_mix.get_neuron_attributes('cable_length', None)"
      ]
    },
    {
      "cell_type": "markdown",
      "metadata": {},
      "source": [
        "## Indexing NeuronLists\n\nA [`NeuronList`][navis.NeuronList] works similar to normal lists with a bunch of additional perks:\n\n"
      ]
    },
    {
      "cell_type": "code",
      "execution_count": null,
      "metadata": {
        "collapsed": false
      },
      "outputs": [],
      "source": [
        "# Get the first neuron in the list\nnl = navis.example_neurons(n=3)\nnl[0]"
      ]
    },
    {
      "cell_type": "markdown",
      "metadata": {},
      "source": [
        "### Index by position\n\n[`NeuronLists`][navis.NeuronList] are designed to behave similar to numpy arrays in that they allow some fancing\nindexing.\n\nYou've already seen how to extract a single neuron from a [`NeuronList`][navis.NeuronList] using a single integer\nindex. Like with numpy arrays, this also works for lists of indices...\n\n"
      ]
    },
    {
      "cell_type": "code",
      "execution_count": null,
      "metadata": {
        "collapsed": false
      },
      "outputs": [],
      "source": [
        "nl = navis.example_neurons(n=3)\nnl[[0, 2]]"
      ]
    },
    {
      "cell_type": "markdown",
      "metadata": {},
      "source": [
        "... or slices\n\n"
      ]
    },
    {
      "cell_type": "code",
      "execution_count": null,
      "metadata": {
        "collapsed": false
      },
      "outputs": [],
      "source": [
        "nl[:2]"
      ]
    },
    {
      "cell_type": "markdown",
      "metadata": {},
      "source": [
        "### Index by attributes\n\nYou can index [`NeuronLists`][navis.NeuronList] by boolean `numpy.arrays` - that includes\nneuron attributes, e.g. `n_nodes`, `cable_length`, `soma`, etc.\n\nIndex using node count:\n\n"
      ]
    },
    {
      "cell_type": "code",
      "execution_count": null,
      "metadata": {
        "collapsed": false
      },
      "outputs": [],
      "source": [
        "subset = nl[nl.n_branches > 700]\nsubset"
      ]
    },
    {
      "cell_type": "markdown",
      "metadata": {},
      "source": [
        "Here is an example where we subset to neurons that have a soma:\n\n"
      ]
    },
    {
      "cell_type": "code",
      "execution_count": null,
      "metadata": {
        "collapsed": false
      },
      "outputs": [],
      "source": [
        "subset = nl[nl.soma != None]  # Index by boolean array\nsubset"
      ]
    },
    {
      "cell_type": "markdown",
      "metadata": {},
      "source": [
        "### Index by name\n\n[`navis.TreeNeuron`][] can (but don't have to) have names (`.name`). If you, for example,\nimport neurons from SWC files they will inherit their name from the file by default.\n\nOur example neurons all have the same name, so to demo this feature we will need to make\nthose names unique:\n\n"
      ]
    },
    {
      "cell_type": "code",
      "execution_count": null,
      "metadata": {
        "collapsed": false
      },
      "outputs": [],
      "source": [
        "for i, n in enumerate(nl):\n    n.name = n.name + str(i + 1)\nnl"
      ]
    },
    {
      "cell_type": "markdown",
      "metadata": {},
      "source": [
        "You can index by single...\n\n"
      ]
    },
    {
      "cell_type": "code",
      "execution_count": null,
      "metadata": {
        "collapsed": false
      },
      "outputs": [],
      "source": [
        "nl[\"DA1_lPN_R1\"]"
      ]
    },
    {
      "cell_type": "markdown",
      "metadata": {},
      "source": [
        "... or multiple names:\n\n"
      ]
    },
    {
      "cell_type": "code",
      "execution_count": null,
      "metadata": {
        "collapsed": false
      },
      "outputs": [],
      "source": [
        "nl[[\"DA1_lPN_R1\", \"DA1_lPN_R2\"]]"
      ]
    },
    {
      "cell_type": "markdown",
      "metadata": {},
      "source": [
        "#### Using regex\n\nUnder the hood {{ navis }} uses `re.fullmatch` to match neuron names - so you can use regex!\n\n"
      ]
    },
    {
      "cell_type": "code",
      "execution_count": null,
      "metadata": {
        "collapsed": false
      },
      "outputs": [],
      "source": [
        "nl[\".*DA1.*\"]"
      ]
    },
    {
      "cell_type": "markdown",
      "metadata": {},
      "source": [
        "### Index by ID\n\nAll neurons have an ID - even if you don't explicitly assign one, a UUID will assigned under the hood.\n\n"
      ]
    },
    {
      "cell_type": "code",
      "execution_count": null,
      "metadata": {
        "collapsed": false
      },
      "outputs": [],
      "source": [
        "nl[0].id"
      ]
    },
    {
      "cell_type": "markdown",
      "metadata": {},
      "source": [
        "Neuron lists can be indexed by their ID (similar to `.loc[]` in pandas DataFrames) by using the `.idx` indexer:\n\n"
      ]
    },
    {
      "cell_type": "code",
      "execution_count": null,
      "metadata": {
        "collapsed": false
      },
      "outputs": [],
      "source": [
        "nl.idx[1734350908]"
      ]
    },
    {
      "cell_type": "markdown",
      "metadata": {},
      "source": [
        "## Neuron Math\n\n{{ navis }} implements a very simple and intuitive syntax to add and remove items from a [`navis.NeuronList`][]:\n\n### Addition\n\nTo merge two lists in Python, you can simply add them:\n\n"
      ]
    },
    {
      "cell_type": "code",
      "execution_count": null,
      "metadata": {
        "collapsed": false
      },
      "outputs": [],
      "source": [
        "[1] + [3]"
      ]
    },
    {
      "cell_type": "markdown",
      "metadata": {},
      "source": [
        "[`navis.NeuronList`][] works exactly the same:\n\n"
      ]
    },
    {
      "cell_type": "code",
      "execution_count": null,
      "metadata": {
        "collapsed": false
      },
      "outputs": [],
      "source": [
        "nl[:2] + nl[2:]"
      ]
    },
    {
      "cell_type": "markdown",
      "metadata": {},
      "source": [
        "This also works on with two single [`navis.TreeNeurons`][navis.TreeNeuron]! You can use that to combine them into a list:\n\n"
      ]
    },
    {
      "cell_type": "code",
      "execution_count": null,
      "metadata": {
        "collapsed": false
      },
      "outputs": [],
      "source": [
        "nl[0] + nl[1]"
      ]
    },
    {
      "cell_type": "markdown",
      "metadata": {},
      "source": [
        "### Substraction\n\nTo remove an item from a Python list, you would call the `.pop()` method:\n\n"
      ]
    },
    {
      "cell_type": "code",
      "execution_count": null,
      "metadata": {
        "collapsed": false
      },
      "outputs": [],
      "source": [
        "l = [1, 2, 3]\nl.pop(2)\nl"
      ]
    },
    {
      "cell_type": "markdown",
      "metadata": {},
      "source": [
        "For [`navis.NeuronList`][] you can use substraction:\n\n"
      ]
    },
    {
      "cell_type": "code",
      "execution_count": null,
      "metadata": {
        "collapsed": false
      },
      "outputs": [],
      "source": [
        "nl - nl[2]"
      ]
    },
    {
      "cell_type": "markdown",
      "metadata": {},
      "source": [
        "### Bitwise AND\n\nTo find the intersection between two lists, you would use `sets` and the `&` operator:\n\n"
      ]
    },
    {
      "cell_type": "code",
      "execution_count": null,
      "metadata": {
        "collapsed": false
      },
      "outputs": [],
      "source": [
        "set([0, 1, 2]) & set([2, 3, 4])"
      ]
    },
    {
      "cell_type": "markdown",
      "metadata": {},
      "source": [
        "[`navis.NeuronList`][] work similarly:\n\n"
      ]
    },
    {
      "cell_type": "code",
      "execution_count": null,
      "metadata": {
        "collapsed": false
      },
      "outputs": [],
      "source": [
        "nl[[0, 1]] & nl[[1, 2]]"
      ]
    },
    {
      "cell_type": "markdown",
      "metadata": {},
      "source": [
        "### Bitwise OR\n\nTo generate the union between two lists, you would use `sets` and the `|` operator:\n\n"
      ]
    },
    {
      "cell_type": "code",
      "execution_count": null,
      "metadata": {
        "collapsed": false
      },
      "outputs": [],
      "source": [
        "set([0, 1, 2]) | set([2, 3, 4])"
      ]
    },
    {
      "cell_type": "markdown",
      "metadata": {},
      "source": [
        "[`navis.NeuronLists`][navis.NeuronList] work similarly:\n\n"
      ]
    },
    {
      "cell_type": "code",
      "execution_count": null,
      "metadata": {
        "collapsed": false
      },
      "outputs": [],
      "source": [
        "nl[[0, 1]] | nl[[1, 2]]"
      ]
    },
    {
      "cell_type": "markdown",
      "metadata": {},
      "source": [
        "!!! important\n    Be aware that bitwise AND and OR will likely change the order of the neurons in the list.\n\n"
      ]
    },
    {
      "cell_type": "markdown",
      "metadata": {},
      "source": [
        "### Multiplication and Division\n\nSo far, all operations have led to changes in the structure of the [`navis.NeuronList`][].\n**Multiplication and division are different**! Just like multiplying/dividing individual neurons\nby a number, multiplying/dividing a [`navis.NeuronList`][] will change the *coordinates* of nodes, vertices, etc.\n(including associated data such as radii or connector positions) of the neurons in the list:\n\n"
      ]
    },
    {
      "cell_type": "code",
      "execution_count": null,
      "metadata": {
        "collapsed": false
      },
      "outputs": [],
      "source": [
        "nl.units  # our neurons are originally in 8x8x8 nm voxels"
      ]
    },
    {
      "cell_type": "code",
      "execution_count": null,
      "metadata": {
        "collapsed": false
      },
      "outputs": [],
      "source": [
        "nl_um = nl * 8 / 1000  # convert neurons: voxels -> nm -> um\nnl_um.units"
      ]
    },
    {
      "cell_type": "markdown",
      "metadata": {},
      "source": [
        "The above will have changed the coordinates for all neurons in the list.\n\n## Comparing NeuronLists\n\n[`navis.NeuronList`][] implements some of the basic arithmetic and comparison operators that you might\nknow from standard `lists` or `numpy.arrays`. Most this should be fairly intuitive (I hope) but there\nare a few things you should be aware of. The following examples will illustrate that.\n\n\nIn Python the `==` operator compares two elements:\n\n"
      ]
    },
    {
      "cell_type": "code",
      "execution_count": null,
      "metadata": {
        "collapsed": false
      },
      "outputs": [],
      "source": [
        "1 == 1"
      ]
    },
    {
      "cell_type": "code",
      "execution_count": null,
      "metadata": {
        "collapsed": false
      },
      "outputs": [],
      "source": [
        "2 == 1"
      ]
    },
    {
      "cell_type": "markdown",
      "metadata": {},
      "source": [
        "For [`navis.TreeNeuron`][] this is comparison done by looking at the neurons' attribues:\nmorphologies (soma & root nodes, cable length, etc) and meta data (name).\n\n"
      ]
    },
    {
      "cell_type": "code",
      "execution_count": null,
      "metadata": {
        "collapsed": false
      },
      "outputs": [],
      "source": [
        "nl[0] == nl[0]"
      ]
    },
    {
      "cell_type": "code",
      "execution_count": null,
      "metadata": {
        "collapsed": false
      },
      "outputs": [],
      "source": [
        "nl[0] == nl[1]"
      ]
    },
    {
      "cell_type": "markdown",
      "metadata": {},
      "source": [
        "To find out which attributes are compared, check out:\n\n"
      ]
    },
    {
      "cell_type": "code",
      "execution_count": null,
      "metadata": {
        "collapsed": false
      },
      "outputs": [],
      "source": [
        "navis.TreeNeuron.EQ_ATTRIBUTES"
      ]
    },
    {
      "cell_type": "markdown",
      "metadata": {},
      "source": [
        "Edit this list to establish your own criteria for equality.\n\nFor [`NeuronList`][navis.NeuronList], we do the same comparison pairwise between the neurons in both\nlists:\n\n"
      ]
    },
    {
      "cell_type": "code",
      "execution_count": null,
      "metadata": {
        "collapsed": false
      },
      "outputs": [],
      "source": [
        "nl == nl"
      ]
    },
    {
      "cell_type": "code",
      "execution_count": null,
      "metadata": {
        "collapsed": false
      },
      "outputs": [],
      "source": [
        "nl == nl[:2]"
      ]
    },
    {
      "cell_type": "markdown",
      "metadata": {},
      "source": [
        "Because the comparison is done pairwise and **in order**, shuffling a [`NeuronList`][navis.NeuronList]\nwill result in a failed comparison:\n\n"
      ]
    },
    {
      "cell_type": "code",
      "execution_count": null,
      "metadata": {
        "collapsed": false
      },
      "outputs": [],
      "source": [
        "nl == nl[[2, 1, 0]]"
      ]
    },
    {
      "cell_type": "markdown",
      "metadata": {},
      "source": [
        "Comparisons are safe against copying but making any changes to the neurons will cause inequality:\n\n"
      ]
    },
    {
      "cell_type": "code",
      "execution_count": null,
      "metadata": {
        "collapsed": false
      },
      "outputs": [],
      "source": [
        "nl[0] == nl[0].copy()"
      ]
    },
    {
      "cell_type": "code",
      "execution_count": null,
      "metadata": {
        "collapsed": false
      },
      "outputs": [],
      "source": [
        "nl[0] == nl[0].downsample(2, inplace=False)"
      ]
    },
    {
      "cell_type": "markdown",
      "metadata": {},
      "source": [
        "You can also ask if a neuron is in a given [`NeuronList`][navis.NeuronList]:\n\n"
      ]
    },
    {
      "cell_type": "code",
      "execution_count": null,
      "metadata": {
        "collapsed": false
      },
      "outputs": [],
      "source": [
        "nl[0] in nl"
      ]
    },
    {
      "cell_type": "code",
      "execution_count": null,
      "metadata": {
        "collapsed": false
      },
      "outputs": [],
      "source": [
        "nl[0] in nl[1:]"
      ]
    },
    {
      "cell_type": "markdown",
      "metadata": {},
      "source": [
        "## Operating on NeuronLists\n\nWith very few exceptions, all {{ navis }} functions that work on individual neurons also work on [`navis.NeuronList`][].\n\n\n"
      ]
    },
    {
      "cell_type": "markdown",
      "metadata": {},
      "source": [
        "!!! note\n\n    In general, {{ navis }} functions expect multiple neurons to be passed as a `NeuronList` - not as a list of neurons:\n    ```python\n    n1, n2 = navis.example_neurons(2)  # grab two individual neurons\n\n    # This will raise an error\n    navis.downsample_neuron([n1, n2], 2)\n\n    # This will work\n    navis.downsample_neuron(navis.NeuronList([n1, n2]), 2)\n    ```\n\n"
      ]
    },
    {
      "cell_type": "markdown",
      "metadata": {},
      "source": [
        "### NeuronList methods\n\nSimilar to individual neurons, [`navis.NeuronLists`][navis.NeuronList] have a number of methods that\nallow you to manipulate the neurons in the list. In fact, (almost) all shorthand methods on individual\nneurons also work on neuron lists:\n\n=== \"Operating on individual neurons\"\n    ```python\n    nl = navis.example_neurons(2)\n    for n in nl:\n       n.reroot(n.soma, inplace=True)  # reroot the neuron to its soma\n    ```\n\n=== \"Using the neuronlist\"\n    ```python\n    nl = navis.example_neurons(2)\n    nl.reroot(nl.soma, inplace=True)  # reroot the neuron to its soma\n    ```\n\nIn addition [`navis.NeuronLists`][navis.NeuronList] have a number of specialised methods:\n\n"
      ]
    },
    {
      "cell_type": "code",
      "execution_count": null,
      "metadata": {
        "collapsed": false
      },
      "outputs": [],
      "source": [
        "nl = navis.example_neurons(3)  # load a neuron list\ndf = nl.summary()  # get a summary table with all neurons\ndf.head()"
      ]
    },
    {
      "cell_type": "code",
      "execution_count": null,
      "metadata": {
        "collapsed": false
      },
      "outputs": [],
      "source": [
        "# Quickly map new attributes onto the neurons\nnl.set_neuron_attributes(['Huey', 'Dewey', 'Louie'], name='name')\nnl.set_neuron_attributes(['Nephew1', 'Nephew2', 'Nephew3'], name='id')\nnl"
      ]
    },
    {
      "cell_type": "code",
      "execution_count": null,
      "metadata": {
        "collapsed": false
      },
      "outputs": [],
      "source": [
        "# Sort the neurons by their name\nnl.sort_values('name')  # this is always done inplace\nnl"
      ]
    },
    {
      "cell_type": "markdown",
      "metadata": {},
      "source": [
        "Of course there are also a number of `NeuronList`-specific properties:\n\n- `is_mixed`: returns `True` if list contains more than one neuron type\n- `is_degenerated`: returns `True` if list contains neurons with non-unique IDs\n- `types`: tuple with all types of neurons in the list\n- `shape`: size of neuronlist `(N, )`\n\nAll attributes and methods are accessible through auto-completion.\n\n"
      ]
    },
    {
      "cell_type": "markdown",
      "metadata": {},
      "source": [
        "## What next?\n\n<div class=\"grid cards\" markdown>\n\n-   :octicons-file-directory-symlink-16:{ .lg .middle } __Neuron I/O__\n    ---\n\n    Learn about how to load your own neurons into {{ navis }}.\n\n    [:octicons-arrow-right-24: I/O Tutorials](../../gallery#import-export)\n\n-   :material-toothbrush-paste:{ .lg .middle } __Visualizations__\n    ---\n\n    Check out the guides on visualizations.\n\n    [:octicons-arrow-right-24: I/O Tutorials](../../gallery#plotting)\n\n</div>\n\n"
      ]
    }
  ],
  "metadata": {
    "kernelspec": {
      "display_name": "Python 3",
      "language": "python",
      "name": "python3"
    },
    "language_info": {
      "codemirror_mode": {
        "name": "ipython",
        "version": 3
      },
      "file_extension": ".py",
      "mimetype": "text/x-python",
      "name": "python",
      "nbconvert_exporter": "python",
      "pygments_lexer": "ipython3",
      "version": "3.11.14"
    }
  },
  "nbformat": 4,
  "nbformat_minor": 0
}