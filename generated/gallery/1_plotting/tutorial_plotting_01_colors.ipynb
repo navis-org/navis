{
  "cells": [
    {
      "cell_type": "code",
      "execution_count": null,
      "metadata": {
        "collapsed": false
      },
      "outputs": [],
      "source": [
        "%matplotlib inline"
      ]
    },
    {
      "cell_type": "markdown",
      "metadata": {},
      "source": [
        "\nColoring\n========\n\nThis tutorial demonstrates how to adjust colors in NAVis plots.\n\nBy now, you should already have a basic understanding on how to plot neurons in {{ navis }} (2d vs 3d plots, the various\nbackends and plotting methods, etc.) - if not, check out the [plotting tutorial](../tutorial_plotting_00_intro).\n\nIn this tutorial we will focus on how to finetune these plots by changing colors :rainbow:. We will demonstrate\nthis using `matplotlib` ([`plot2d`][navis.plot2d]) and `plotly` ([`plot3d`][navis.plot3d]) but everything shown here\nalso works for the other backends (Octarine, Vispy and K3d)!\n"
      ]
    },
    {
      "cell_type": "markdown",
      "metadata": {},
      "source": [
        "## Neuron Colors\n\nUndoubtedly one of the most important aspects of a plot is the color scheme. In {{ navis }} you can control the color of\nindividual neurons, their compartments, synapses, etc. in a variety of ways. Here are a few examples that should get you\nstarted:\n\n"
      ]
    },
    {
      "cell_type": "code",
      "execution_count": null,
      "metadata": {
        "collapsed": false
      },
      "outputs": [],
      "source": [
        "import navis\nimport matplotlib.pyplot as plt\n\nnl = navis.example_neurons(3, kind=\"mesh\")"
      ]
    },
    {
      "cell_type": "markdown",
      "metadata": {},
      "source": [
        "A single color for all neurons:\n\n"
      ]
    },
    {
      "cell_type": "code",
      "execution_count": null,
      "metadata": {
        "collapsed": false
      },
      "outputs": [],
      "source": [
        "navis.plot2d(nl, color=\"r\", view=(\"x\", \"-z\"), method=\"2d\")\nplt.tight_layout()"
      ]
    },
    {
      "cell_type": "markdown",
      "metadata": {},
      "source": [
        "A list of colors for each neuron:\n\n"
      ]
    },
    {
      "cell_type": "code",
      "execution_count": null,
      "metadata": {
        "collapsed": false
      },
      "outputs": [],
      "source": [
        "navis.plot2d(nl, color=[\"r\", \"g\", \"b\"], view=(\"x\", \"-z\"), method=\"2d\")\nplt.tight_layout()"
      ]
    },
    {
      "cell_type": "markdown",
      "metadata": {},
      "source": [
        "A palette to choose colors from:\n\n"
      ]
    },
    {
      "cell_type": "code",
      "execution_count": null,
      "metadata": {
        "collapsed": false
      },
      "outputs": [],
      "source": [
        "navis.plot2d(nl, palette=\"Greens\", view=(\"x\", \"-z\"), method=\"2d\")\nplt.tight_layout()"
      ]
    },
    {
      "cell_type": "markdown",
      "metadata": {},
      "source": [
        "A mapping of neuron ID -> color:\n\n"
      ]
    },
    {
      "cell_type": "code",
      "execution_count": null,
      "metadata": {
        "collapsed": false
      },
      "outputs": [],
      "source": [
        "colors = dict(zip(nl.id, [\"r\", \"g\", \"b\"]))\nnavis.plot2d(nl, color=colors, view=(\"x\", \"-z\"), method=\"2d\")\nplt.tight_layout()"
      ]
    },
    {
      "cell_type": "markdown",
      "metadata": {},
      "source": [
        "Individual colors can be provided as:\n\n - names (e.g. \"red\", \"green\", \"blue\") like we did above\n - hex codes (e.g. \"#FF0000\", \"#00FF00\", \"#0000FF\")\n - RGB or RGBA tuples (e.g. `(1, 0, 0)` for red)\n\n"
      ]
    },
    {
      "cell_type": "code",
      "execution_count": null,
      "metadata": {
        "collapsed": false
      },
      "outputs": [],
      "source": [
        "# Provide a list of 3 colors - one for each neuron - in various formats:\nnavis.plot2d(nl, color=[\"red\", \"#FF0000\", (0, 0, 0)], view=(\"x\", \"-z\"), method=\"2d\")\nplt.tight_layout()"
      ]
    },
    {
      "cell_type": "markdown",
      "metadata": {},
      "source": [
        "What if you want to color neurons by some categorical property - for example their type or brain region?\nEasy peasy: just use the `color_by` parameter!\n\n"
      ]
    },
    {
      "cell_type": "code",
      "execution_count": null,
      "metadata": {
        "collapsed": false
      },
      "outputs": [],
      "source": [
        "# A list with labels, one for each neuron\ntypes = [\"typeA\", \"typeB\", \"typeA\"]\n\nnavis.plot2d(nl, color_by=types, palette=\"tab10\", view=(\"x\", \"-z\"), method=\"2d\")\nplt.tight_layout()"
      ]
    },
    {
      "cell_type": "markdown",
      "metadata": {},
      "source": [
        "{{ navis }} automatically assigns a color to each unique label using the provided palette.\nYou can also provide a dictionary to manually set the colors:\n\n"
      ]
    },
    {
      "cell_type": "code",
      "execution_count": null,
      "metadata": {
        "collapsed": false
      },
      "outputs": [],
      "source": [
        "palette = {\"typeA\": \"red\", \"typeB\": \"blue\"}\n\nnavis.plot2d(nl, color_by=types, palette=palette, view=(\"x\", \"-z\"), method=\"2d\")\nplt.tight_layout()"
      ]
    },
    {
      "cell_type": "markdown",
      "metadata": {},
      "source": [
        "## Coloring Neurites\n\nSo far so good but what if you want to color the neurites of an individual neuron? For example make its axon red and its dendrites blue?\nAlso easy peasy: `color_by` can also be used to color nodes/vertices!\n\n### By Labels\n\n"
      ]
    },
    {
      "cell_type": "code",
      "execution_count": null,
      "metadata": {
        "collapsed": false
      },
      "outputs": [],
      "source": [
        "n = navis.example_neurons(1, kind=\"skeleton\")\n\n# This will add a \"compartment\" for each node in the neuron\nnavis.split_axon_dendrite(n, label_only=True)\n\nn.nodes.head()"
      ]
    },
    {
      "cell_type": "markdown",
      "metadata": {},
      "source": [
        "Now we can color the neuron based on the \"compartment\" label:\n\n"
      ]
    },
    {
      "cell_type": "code",
      "execution_count": null,
      "metadata": {
        "collapsed": false
      },
      "outputs": [],
      "source": [
        "navis.plot2d(n, color_by=\"compartment\", palette=\"tab10\", view=(\"x\", \"-z\"), method=\"2d\")\nplt.tight_layout()"
      ]
    },
    {
      "cell_type": "markdown",
      "metadata": {},
      "source": [
        "We can also set the colors manually:\n\n"
      ]
    },
    {
      "cell_type": "code",
      "execution_count": null,
      "metadata": {
        "collapsed": false
      },
      "outputs": [],
      "source": [
        "colors = {\"axon\": \"coral\", \"dendrite\": \"cyan\", \"linker\": \"limegreen\"}\nnavis.plot2d(n, color_by=\"compartment\", palette=colors, view=(\"x\", \"-z\"), method=\"2d\")\nplt.tight_layout()"
      ]
    },
    {
      "cell_type": "markdown",
      "metadata": {},
      "source": [
        "### By Values\n\nYou can also color neurites based on some numerical value. This is especially useful for things like Strahler index, branch order, etc.\n\nColoring by e.g. Strahler index:\n\n"
      ]
    },
    {
      "cell_type": "code",
      "execution_count": null,
      "metadata": {
        "collapsed": false
      },
      "outputs": [],
      "source": [
        "n = navis.example_neurons(1, kind=\"skeleton\")\n\n# This adds an `strahler_index` column to the node table\nnavis.strahler_index(n)\n\nn.nodes.head()"
      ]
    },
    {
      "cell_type": "markdown",
      "metadata": {},
      "source": [
        "Plot with color based on Strahler index:\n\n"
      ]
    },
    {
      "cell_type": "code",
      "execution_count": null,
      "metadata": {
        "collapsed": false
      },
      "outputs": [],
      "source": [
        "navis.plot2d(\n    n, color_by=\"strahler_index\", palette=\"viridis\", view=(\"x\", \"-z\"), method=\"2d\"\n)\nplt.tight_layout()"
      ]
    },
    {
      "cell_type": "markdown",
      "metadata": {},
      "source": [
        "!!! note\n    You can use the `vmin` and `vmax` parameters to control the normalization of the color scale.\n\nAll of this also works with [`MeshNeurons`][navis.MeshNeuron]. Here, we have to provide a label for each vertex in the mesh:\n\n"
      ]
    },
    {
      "cell_type": "code",
      "execution_count": null,
      "metadata": {
        "collapsed": false
      },
      "outputs": [],
      "source": [
        "m = navis.example_neurons(1, kind=\"mesh\")\nnavis.strahler_index(m)\nm.strahler_index  # this is an array with one value per vertex"
      ]
    },
    {
      "cell_type": "code",
      "execution_count": null,
      "metadata": {
        "collapsed": false
      },
      "outputs": [],
      "source": [
        "# Let's use plot3d this time\nnavis.plot3d(m, color_by=\"strahler_index\", palette=\"viridis\", legend=False)"
      ]
    },
    {
      "cell_type": "markdown",
      "metadata": {},
      "source": [
        "!!! note\n    In the examples above we have provided `color_by` as the name of a property or a column in the node table.\n    We could have also provided an array of values directly:\n    ```python\n    navis.plot2d(n, color_by=n.nodes.strahler_index, palette=\"viridis\")\n    ```\n\n## Neuron Opacity\n\nYou can also control the opacity of the neurons. This is especially useful when plotting multiple neurons on top of each other:\n\n"
      ]
    },
    {
      "cell_type": "code",
      "execution_count": null,
      "metadata": {
        "collapsed": false
      },
      "outputs": [],
      "source": [
        "# A single opacity for all neurons\nnavis.plot2d(nl, alpha=0.25, view=(\"x\", \"-z\"), method='2d')\nplt.tight_layout()"
      ]
    },
    {
      "cell_type": "code",
      "execution_count": null,
      "metadata": {
        "collapsed": false
      },
      "outputs": [],
      "source": [
        "# A list of alpha values, one for each neuron\nnavis.plot2d(nl, color=\"k\", alpha=[1, 0.2, 0.2], view=(\"x\", \"-z\"), method='2d')\nplt.tight_layout()"
      ]
    },
    {
      "cell_type": "markdown",
      "metadata": {},
      "source": [
        "## Shading\n\nAnalogous to the `color_by` parameter, you can also shade neurons based on some property. Let's demonstrate this by\nshading a neuron based on its distance from the soma:\n\n"
      ]
    },
    {
      "cell_type": "code",
      "execution_count": null,
      "metadata": {
        "collapsed": false
      },
      "outputs": [],
      "source": [
        "n = navis.example_neurons(1, kind=\"skeleton\")\nn.reroot(n.soma, inplace=True)\nn.nodes[\"root_dist\"] = n.nodes.node_id.map(navis.dist_to_root(n, weight=\"weight\")) * -1\nn.nodes.head()"
      ]
    },
    {
      "cell_type": "code",
      "execution_count": null,
      "metadata": {
        "collapsed": false
      },
      "outputs": [],
      "source": [
        "# Plot with shading based on distance from the soma:\nnavis.plot2d(n, shade_by=\"root_dist\", view=(\"x\", \"-z\"), radius=True, method=\"2d\")\nplt.tight_layout()"
      ]
    },
    {
      "cell_type": "markdown",
      "metadata": {},
      "source": [
        "We can combine `color_by` and `shade_by` to color _and_ shade the neuron at the same time:\n\n"
      ]
    },
    {
      "cell_type": "code",
      "execution_count": null,
      "metadata": {
        "collapsed": false
      },
      "outputs": [],
      "source": [
        "navis.plot2d(\n    n,\n    color_by=\"root_dist\",\n    shade_by=\"root_dist\",\n    palette=\"viridis\",\n    view=(\"x\", \"-z\"),\n    method=\"2d\",\n    radius=True\n)\nplt.tight_layout()"
      ]
    }
  ],
  "metadata": {
    "kernelspec": {
      "display_name": "Python 3",
      "language": "python",
      "name": "python3"
    },
    "language_info": {
      "codemirror_mode": {
        "name": "ipython",
        "version": 3
      },
      "file_extension": ".py",
      "mimetype": "text/x-python",
      "name": "python",
      "nbconvert_exporter": "python",
      "pygments_lexer": "ipython3",
      "version": "3.11.14"
    }
  },
  "nbformat": 4,
  "nbformat_minor": 0
}