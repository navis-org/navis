{
  "cells": [
    {
      "cell_type": "code",
      "execution_count": null,
      "metadata": {
        "collapsed": false
      },
      "outputs": [],
      "source": [
        "%matplotlib inline"
      ]
    },
    {
      "cell_type": "markdown",
      "metadata": {},
      "source": [
        "\nDepth-coloring\n==============\n\nThis example shows how to color neurons by depth.\n\nThe obvious issue with 2d plots is that they are... well, 2d. This means that you can't easily convey depth information.\nWhat we can do, however, is color the neuron by depth - that is by the distance to the camera.\nThis is a simple way to give a sense of the neuron's 3d structure.\n\nNote that this currently works only for [`navis.plot2d`][] (i.e. `matplotlib`):\n"
      ]
    },
    {
      "cell_type": "code",
      "execution_count": null,
      "metadata": {
        "collapsed": false
      },
      "outputs": [],
      "source": [
        "import navis\nimport matplotlib.pyplot as plt\n\nn = navis.example_neurons(1, kind=\"skeleton\")\n\nfig, ax = navis.plot2d(\n    n,\n    depth_coloring=True,\n    method='2d',\n    view=(\"x\", \"-z\"),\n)\nplt.tight_layout()"
      ]
    },
    {
      "cell_type": "markdown",
      "metadata": {},
      "source": [
        "The `depth_coloring` parameter will color the neuron by distance from the camera. For this neuron, the ventral dendrites\nare closest to the camera whereas the dorsal axon is further away.\n\nBy default, this will use the `jet` colormap. You can change this to any of\n[`matplotlib`'s colormaps](https://matplotlib.org/stable/users/explain/colors/colormaps.html)\nusing the `palette` parameter:\n\n"
      ]
    },
    {
      "cell_type": "code",
      "execution_count": null,
      "metadata": {
        "collapsed": false
      },
      "outputs": [],
      "source": [
        "fig, ax = navis.plot2d(\n    n,\n    depth_coloring=True,\n    palette=\"hsv\",\n    method='2d',\n    view=(\"x\", \"-z\"),\n)"
      ]
    },
    {
      "cell_type": "markdown",
      "metadata": {},
      "source": [
        "This should work with both [`TreeNeurons`][navis.TreeNeuron] and [`MeshNeurons`][navis.MeshNeuron] and methods `2d` and `3d`.\n"
      ]
    }
  ],
  "metadata": {
    "kernelspec": {
      "display_name": "Python 3",
      "language": "python",
      "name": "python3"
    },
    "language_info": {
      "codemirror_mode": {
        "name": "ipython",
        "version": 3
      },
      "file_extension": ".py",
      "mimetype": "text/x-python",
      "name": "python",
      "nbconvert_exporter": "python",
      "pygments_lexer": "ipython3",
      "version": "3.11.14"
    }
  },
  "nbformat": 4,
  "nbformat_minor": 0
}