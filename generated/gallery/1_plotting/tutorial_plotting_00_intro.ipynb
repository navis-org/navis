{
  "cells": [
    {
      "cell_type": "code",
      "execution_count": null,
      "metadata": {
        "collapsed": false
      },
      "outputs": [],
      "source": [
        "%matplotlib inline"
      ]
    },
    {
      "cell_type": "markdown",
      "metadata": {},
      "source": [
        "\nPlotting Overview\n=================\n\nThis tutorial gives an overview of the plotting capabilities of NAVis. We will cover 2D\nand 3D plotting with various backends and their pro's and con's.\n\n{{ navis }} contains functions for (static) 2D and (interactive) 3D plotting. These functions\ncan use various different backends for plotting. For 2D plots we use [`matplotlib`](http://www.matplotlib.org)\nand for 3D plots we use either [`octarine`](https://schlegelp.github.io/octarine/),\n[`vispy`](http://www.vispy.org), [`plotly`](http://plot.ly) or [`k3d`](https://k3d-jupyter.org).\n\nWhich plotting method (2D/3D) and which backend (octarine, plotly, etc.) to use depends on\nwhat you are after (e.g. static, publication quality figures vs interactive data exploration)\nand your environment (e.g. Jupyter/VS code or terminal). Here's a quick summary:\n\n| Backend    | Used in              | Pros                                                                 | Cons                                                                                      |\n|------------|----------------------|----------------------------------------------------------------------|-------------------------------------------------------------------------------------------|\n| matplotlib | [`navis.plot2d`][]<br>[`navis.plot1d`][]<br>[`navis.plot_flat`][]   | - high quality (vector graphics!)<br>- works in Jupyter and terminal<br>- exports to vector graphics<br>- myriads of ways to adjust plots | - struggles with correct depth layering in complex scenes<br>- not very interactive (although you can adjust perspective)<br> - slow for large scenes<br>- not good for voxel data (e.g. image volumes) |\n| octarine   | [`navis.plot3d`][]   | - blazingly fast thanks to WGPU backend<br>- works in terminal and Jupyter<br>- very interactive | - may not work on older systems (use `vispy` instead)<br>- not persistent (i.e. dies with notebook kernel)<br>- can't share interactive plot (screenshots only) |\n| vispy      | [`navis.plot3d`][]   | - very interactive<br>- good render quality and performance    | - can't share interactive plot (screenshots only)<br>- not persistent (i.e. dies with notebook kernel)<br>- deprecated in favor of octarine |\n| plotly     | [`navis.plot3d`][]   | - works \"inline\" for Jupyter environments<br>- persistent (i.e. plots get saved alongside notebook)<br>- can produce offline HTML plots for sharing  | - not very fast for large scenes<br>- large file sizes (i.e. makes for large `.ipynb` notebook files)<br>- horrendous for voxel data (i.e. images) |\n| k3d        | [`navis.plot3d`][]   | - works \"inline\" for Jupyter environments<br>- super fast and performant<br>- in memory (i.e. does not increase notebook file size) | - does not work in terminal sessions<br>- not persistent (i.e. dies with notebook kernel)<br>- can't share interactive plot (screenshots only) |\n\nIn theory there is feature parity across backends but due to built-in limitations there are minor differences.\n\nIf you installed {{ navis }} via `pip install navis[all]` all of the above backends should be available to you.\nIf you ran a minimal install via `pip install navis` you may need to install the backends separately\n- {{ navis }} will complain if you try to use a backend that is not installed!\n\n!!! note\n\n    The plots in this tutorial are optimized for light-mode. If you are using dark-mode, you may have trouble seeing e.g. axis or labels.\n\n## 2D plots\n\nThis uses `matplotlib` to generate static 2D plots. The big advantage is that you can save these plots as vector graphics.\nUnfortunately, matplotlib's capabilities regarding 3D data are limited. The main problem is that depth (z) is only\nsimulated by trying to layer objects (lines, vertices, etc.) according to their z-order rather than doing proper rendering which\nis why you might see some neurons being plotted in front of others even though they are actually behind them. It's still great\nfor plotting individual neurons or small groups thereof!\n\nLet's demonstrate with a simple example using the default settings:\n"
      ]
    },
    {
      "cell_type": "code",
      "execution_count": null,
      "metadata": {
        "collapsed": false
      },
      "outputs": [],
      "source": [
        "import navis\nimport matplotlib.pyplot as plt\n\nnl = navis.example_neurons(kind=\"skeleton\")\n\n# Plot using default settings\nfig, ax = navis.plot2d(nl, view=(\"x\", \"-z\"), method=\"2d\")\nplt.tight_layout()"
      ]
    },
    {
      "cell_type": "markdown",
      "metadata": {},
      "source": [
        "!!! note\n    We set `view(\"x\", \"-z\")` above to get a frontal view of the example neurons. You may need to adjust this depending on\n    the orientation of your neurons.\n\nAbove plot used the default `matplotlib` 2D plot. You might notice that the plot looks rather \"flat\" - i.e. neurons seem\nto be layered on top of each other without intertwining. That is one of the limitations of `matplotlib`'s 3d backend.\nWe can try to ameliorate this by adjust the `method` parameter:\n\n"
      ]
    },
    {
      "cell_type": "code",
      "execution_count": null,
      "metadata": {
        "collapsed": false
      },
      "outputs": [],
      "source": [
        "# Plot settings for more complex scenes - comes at a small performance cut though\nfig, ax = navis.plot2d(nl, method=\"3d_complex\", view=(\"x\", \"-z\"))\nplt.tight_layout()"
      ]
    },
    {
      "cell_type": "markdown",
      "metadata": {},
      "source": [
        "Looks better now, doesn't it? Now what if we wanted to adjust the perspective? For 3d axes, `matplotlib` lets\nus adjust the viewing angle by setting the `elev`, `azim` and `roll` attributes.\nSee also [this official explanation](https://matplotlib.org/stable/api/toolkits/mplot3d/view_angles.html).\n\nLet's give that a shot:\n\n"
      ]
    },
    {
      "cell_type": "markdown",
      "metadata": {},
      "source": [
        "Plot again\n\n"
      ]
    },
    {
      "cell_type": "code",
      "execution_count": null,
      "metadata": {
        "collapsed": false
      },
      "outputs": [],
      "source": [
        "fig, ax = nl.plot2d(\n    method=\"3d_complex\", view=(\"x\", \"-z\"), non_view_axes3d=\"show\", radius=True\n)\n\n# Change view to see the neurons from a different angle\nax.elev = -20\nax.azim = 45\nax.roll = 180\n\nplt.tight_layout()"
      ]
    },
    {
      "cell_type": "markdown",
      "metadata": {},
      "source": [
        "!!! note\n    Did you note that we set `non_view_axes3d='show'` in above example? By default, {{ navis }} hides the axis that is parallel to\n    the viewing direction is hidden to not clutter the image. Because we were going to change the perspective,\n    we set it to `show`. FYI: if the plot is rendered in a separate window (e.g. if you run Python from\n    terminal), you can change the perspective by dragging the image.\n\nWe can use this to generate small animations:\n\n```python\n# Render 3D rotation\nfor i in range(0, 360, 10):\n   # Change rotation\n   ax.azim = i\n   # Save each incremental rotation as frame\n   plt.savefig('frame_{0}.png'.format(i), dpi=200)\n```\n\n![rotation](../../../_static/rotation.gif)\n\n"
      ]
    },
    {
      "cell_type": "markdown",
      "metadata": {},
      "source": [
        "## 3D plots\n\nBy \"3D plots\" we typically mean interactive 3D plots as opposed to the (mostly) static 2D or semi-3D plots above.\n3D plots are great for great for exploring your data interactively but you can also use them to generate high-quality\nstatic images.\n\nAs laid out at the top of this page: for 3D plots, we are using either [octarine](https://schlegelp.github.io/octarine/),\n[vispy](https://github.com/vispy/vispy), [plotly](https://plotly.com/) or [k3d](https://k3d-jupyter.org). In brief:\n\n| backend             | Jupyter | Terminal |\n|---------------------|---------|----------|\n| octarine            | yes     | yes      |\n| plotly              | yes     | yes but only via export to html |\n| vispy (depcrecated) | yes     | yes      |\n| k3d                 | yes     | no       |\n\nBy default, the choice is automatic and depends on (1) what backends are installed and (2) the context:\n\n  - from IPython/Terminal/scripts: octarine :material-code-greater-than: vispy :material-code-greater-than: plotly\n  - from Jupyter Lab/Notebook: plotly :material-code-greater-than: octarine :material-code-greater-than: k3d\n\nYou can always force a specific backend using the `backend` parameter in [`navis.plot3d`][]:\n\n=== \"Automatic (default)\"\n    ```python\n    n = navis.example_neurons()\n    navis.plot3d(n)\n    ```\n=== \"Octarine\"\n    ```python\n    n = navis.example_neurons()\n    navis.plot3d(n, backend='octarine')\n    ```\n=== \"Plotly\"\n    ```python\n    n = navis.example_neurons()\n    navis.plot3d(n, backend='plotly')\n    ```\n=== \"Vispy\"\n    ```python\n    n = navis.example_neurons()\n    navis.plot3d(n, backend='vispy')\n    ```\n=== \"k3d\"\n    ```python\n    n = navis.example_neurons()\n    navis.plot3d(n, backend='k3d')\n    ```\n\nAlternatively, you can also set the default backend using an environment variable. For example:\n```shell\nexport NAVIS_PLOT3D_BACKEND=\"octarine\"\n```\n\n!!! important \"Google Collaboratory\"\n    The `jupyter_rfb` used by Octarine and Vispy to render 3D plots in Jupyter does not work in Google Collaboratory.\n    If you are using Google Collaboratory, we recommend you use the plotly backend.\n\nWith that out of the way, let's have a look at some 3D plots! You will notice that for the `octarine`, `vispy` and `k3d`\nbackends we're just showing screenshots - that's because their interactive plots can't be embedded into this documentation.\n\n### Octarine/Vispy\n\nOctarine and Vispy are pretty similar in that they both work via a `Viewer` object which allows you to interactively\nadd/remove objects, change colors, etc. The main difference is that Octarine uses modern WGPU instead of OpenGL which makes\nit much faster than Vispy:\n\n=== \"Octarine\"\n    ```python\n    nl = navis.example_neurons()\n    viewer = navis.plot3d(nl, backend='octarine')\n    ```\n    ![octarine](../../../_static/octarine_viewer.png)\n=== \"Vispy\"\n    ```python\n    nl = navis.example_neurons()\n    viewer = navis.plot3d(nl, backend='vispy')\n    ```\n    ![vispy](../../../_static/vispy_viewer.png)\n\n!!! important\n    If you are using Octarine/Vispy from Jupyter, we may have to explicitly call the `viewer.show()` method *in the last line of the cell*\n    for the widget to show up.\n\n\nA few important notes regarding the Octarine/Vispy backends:\n\n- The `viewer` is dynamic: you can keep adding/removing items in other cells. However, it will die with the kernel (unlike `plotly`)!\n- By default, {{ navis }} will track the \"primary\" viewer and subsequent calls of [`navis.plot3d`][] will add object to that primary viewer\n\n    * if you want to force a new viewer: `navis.plot3d(nl, viewer='new')`\n    * if you want to add to a specific viewer: `navis.plot3d(nl, viewer=viewer)`\n\n- You can dynamically resize the canvas (in Jupyter by dragging the lower right corner)\n- For Jupyter: the rendering runs in your Jupyter Kernel and the frames are sent to Jupyter via a remote frame buffer (`jupyter_rbf`). If your\n  Jupyter kernel runs on a remote machine you might experiences some lag depending on the connection speed and quality.\n\nSome important methods for the `viewer` object:\n\n```python\n# Close the viewer\nviewer.close()\n\n# Close the current primary viewer\nnavis.close3d()\n\n# Add neurons to the primary viewer\nnavis.plot3d(nl)\n\n# Add neurons to a specific\nnavis.plot3d(nl, viewer=viewer)\n\n# Clear viewer\nviewer.clear3d()\n\n# Clear the primary viewer\nnavis.clear3d()\n```\n\nThe Octarine viewer itsel has a bunch of neat features - check out the [documentation](https://schlegelp.github.io/octarine/) to learn more.\n\n!!! important\n    The Vispy backend is deprecated and will be removed in future versions of {{ navis }}. If you can please switch to Octarine.\n    If you have any issues with Octarine and want us to keep the Vispy backend, please let us know!\n\n"
      ]
    },
    {
      "cell_type": "markdown",
      "metadata": {},
      "source": [
        "### K3d\n\n`k3d` plots work in Jupyter (and only there) but unlike `plotly` don't persist across sessions. Hence we will only briefly demo\nthem using static screenshots and then move on to plotly. Almost everything you can do with the `plotly` backend can also be done\nwith `k3d` (or `octarine/vispy` for that matter)!\n\n"
      ]
    },
    {
      "cell_type": "code",
      "execution_count": null,
      "metadata": {
        "collapsed": false
      },
      "outputs": [],
      "source": [
        "p = navis.plot3d(nl, backend=\"k3d\")"
      ]
    },
    {
      "cell_type": "markdown",
      "metadata": {},
      "source": [
        "![k3d](../../../_static/k3d_viewer.png)\n\n### Plotly\n\nLast but not least, we have the `plotly` backend. This is the only backend which allows us to embed interactive 3D plots into\nthis documentation. The main advantage of `plotly` is that it works \"inline\" in Jupyter notebooks and that you can export the\nplots as standalone HTML files. The main disadvantage is that it can be quite slow for large scenes and that the resulting\n`.ipynb` notebook files can get quite large.\n\nUsing plotly as backend generates \"inline\" plots by default (i.e. they are rendered right away):\n\n"
      ]
    },
    {
      "cell_type": "code",
      "execution_count": null,
      "metadata": {
        "collapsed": false
      },
      "outputs": [],
      "source": [
        "navis.plot3d(\n    nl,\n    backend=\"plotly\",\n    connectors=False,\n    radius=True,  # use node radii for skeletons\n    legend_orientation=\"h\",  # horizontal legend (more space for plot)\n)"
      ]
    },
    {
      "cell_type": "markdown",
      "metadata": {},
      "source": [
        "Instead of inline plotting, you can also export your plotly figure as 3D html file that can be opened in any browser:\n\n```python\nimport plotly\n\n# Prevent inline plotting\nfig = nl.plot3d(backend='plotly', connectors=False, width=1400, height=1000, inline=False)\n\n# Save figure to html file\nplotly.offline.plot(fig, filename='~/Documents/3d_plot.html')\n```\n\n### Navigating the 3D viewers\n\n| Action          | Octarine/Vispy | Plotly | K3d |\n|-----------------|----------------|--------|-----|\n| Rotate          | Left Mouse + Drag          | Left Mouse + Drag  | Left Mouse + Drag  |\n| Zoom            | Mousewheel                 | Mousewheel         | Mousewheel         |\n| Pan             | Right Mouse + Drag         | Right Mouse + Drag | Right Mouse + Drag |\n| Hide/Unhide<br>objects  | `viewer.hide()`<br>`viewer.show()` | Click on legend | Click on legend |\n\n!!! note \"Camera rotation\"\n    If the camera rotation using plotly causes problems, try clicking on the \"Orbital rotation\" in the upper right tool bar.\n    ![plotly orbital](../../../_static/plotly_orbital.png)\n\n%%\n## High-quality renderings\n\nAbove we demo'ed making a little GIF using matplotlib. While that's certainly fun, it's not\nvery high production value. For high quality videos and renderings I recommend you check out\nthe tutorial on navis' [Blender interface](../3_interfaces/tutorial_interfaces_02_blender). Here's a little taster:\n\n <iframe width=\"560\" height=\"315\" src=\"https://www.youtube.com/embed/wl3sFG7WQJc\" title=\"YouTube video player\" frameborder=\"0\" allow=\"accelerometer; autoplay; clipboard-write; encrypted-media; gyroscope; picture-in-picture\" allowfullscreen></iframe>\n\n\n"
      ]
    }
  ],
  "metadata": {
    "kernelspec": {
      "display_name": "Python 3",
      "language": "python",
      "name": "python3"
    },
    "language_info": {
      "codemirror_mode": {
        "name": "ipython",
        "version": 3
      },
      "file_extension": ".py",
      "mimetype": "text/x-python",
      "name": "python",
      "nbconvert_exporter": "python",
      "pygments_lexer": "ipython3",
      "version": "3.11.14"
    }
  },
  "nbformat": 4,
  "nbformat_minor": 0
}