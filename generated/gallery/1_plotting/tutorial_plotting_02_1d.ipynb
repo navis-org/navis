{
  "cells": [
    {
      "cell_type": "code",
      "execution_count": null,
      "metadata": {
        "collapsed": false
      },
      "outputs": [],
      "source": [
        "%matplotlib inline"
      ]
    },
    {
      "cell_type": "markdown",
      "metadata": {},
      "source": [
        "\nNeuron \"Barcodes\"\n=================\n\nIn this tutorial we'll explore a unique way to visualize the branching pattern of neurons using \"barcodes\".\n\nThis visualization technique is based on [Cuntz et al (2010)](https://journals.plos.org/ploscompbiol/article?id=10.1371/journal.pcbi.1000877)\nand turns a neuron's branching pattern into a unique \"barcode\" using toplogical sorting.\n"
      ]
    },
    {
      "cell_type": "code",
      "execution_count": null,
      "metadata": {
        "collapsed": false
      },
      "outputs": [],
      "source": [
        "import navis\nimport matplotlib.pyplot as plt\n\nn = navis.example_neurons(n=1, kind=\"skeleton\")  # we need skeletons for this\n\nn.reroot(n.soma, inplace=True)  # set the somas as the root\n\nax = navis.plot1d(n)\nplt.tight_layout()"
      ]
    },
    {
      "cell_type": "markdown",
      "metadata": {},
      "source": [
        "!!! important\n    [`navis.plot1d`][] only works with [`navis.TreeNeurons`][navis.TreeNeuron]. These neurons must be have\n    only a single root (i.e. a single connected component) which is used as the point of reference for\n    the sorting.\n\n"
      ]
    },
    {
      "cell_type": "markdown",
      "metadata": {},
      "source": [
        "So what's actually happening here? The barcode is a way to represent the branching pattern of a neuron\nin a unique way. The barcode is created by breaking the neuron into linear segments between branch points and\nsorting them by walking from the root to the leafs in a depth-first manner. At each branch point\nwe prioritize the branch that maximizes the distance to the root.\n\nIn the plot each segment is represented by a rectangle where the width correspond to the segment's length.\nSegments that terminate in a leaf node are plotted with a darker color.\n\nHere's a simple example to illustrate this:\n\n![barcode](../../../_static/barcode.png)\n\n"
      ]
    },
    {
      "cell_type": "markdown",
      "metadata": {},
      "source": [
        "The example skeleton we used above is pretty complex with lots of little side branches which makes the\nbarcode quite complicated. Let's simplify the neurons a bit to make the barcode easier to read:\n\n"
      ]
    },
    {
      "cell_type": "code",
      "execution_count": null,
      "metadata": {
        "collapsed": false
      },
      "outputs": [],
      "source": [
        "# Prune each neuron to its 20 longest branches\nn_pruned = navis.longest_neurite(n, n=20)\n\nax = navis.plot1d(n_pruned, lw=1)\nplt.tight_layout()"
      ]
    },
    {
      "cell_type": "markdown",
      "metadata": {},
      "source": [
        "!!! note\n    Instead of [`navis.longest_neurite`][] you could also use e.g. [`navis.prune_twigs`][] to\n    remove small branches below a certain size.\n\nThat's easier to interpet! Let's pull up the neuron to compare:\n\n"
      ]
    },
    {
      "cell_type": "code",
      "execution_count": null,
      "metadata": {
        "collapsed": false
      },
      "outputs": [],
      "source": [
        "# Draw the full neuron in black\nfig, ax = navis.plot2d(n, view=('x', '-z'), method='2d', color='k')\n# Add the pruned neuron in red on top\nfig, ax = navis.plot2d(n_pruned, view=('x', '-z'), method='2d', color='r', ax=ax, lw=1.1)"
      ]
    },
    {
      "cell_type": "markdown",
      "metadata": {},
      "source": [
        "With that side-by-side comparison you can hopefully see how the barcode captures the branching pattern of the neuron.\n\n## Multiple Neurons\n\nWe can also plot barcodes for multiple neurons at a time:\n\n"
      ]
    },
    {
      "cell_type": "code",
      "execution_count": null,
      "metadata": {
        "collapsed": false
      },
      "outputs": [],
      "source": [
        "nl = navis.example_neurons(n=5, kind=\"skeleton\")\nnl = nl[nl.soma != None]  # remove neurons without soma\nnavis.heal_skeleton(nl, inplace=True)  # heal any potential breaks in the skeletons\nnl.reroot(nl.soma)  # reroot all neurons to their soma\nnavis.longest_neurite(nl, 10, inplace=True)\n\nfig, ax = plt.subplots(figsize=(18, 6))\n\n# Plot the barcodes\nax = navis.plot1d(nl, ax=ax)\nplt.tight_layout()"
      ]
    },
    {
      "cell_type": "markdown",
      "metadata": {},
      "source": [
        "## Customizing the Plot\n\nSimilar to other plotting functions in {{ navis }}, you can customize the appearance of the barcode plot:\n\n"
      ]
    },
    {
      "cell_type": "code",
      "execution_count": null,
      "metadata": {
        "collapsed": false
      },
      "outputs": [],
      "source": [
        "ax = navis.plot1d(n_pruned, color=\"red\")\nplt.tight_layout()"
      ]
    },
    {
      "cell_type": "markdown",
      "metadata": {},
      "source": [
        "We can also color segments based on some property of the neuron:\n\n"
      ]
    },
    {
      "cell_type": "code",
      "execution_count": null,
      "metadata": {
        "collapsed": false
      },
      "outputs": [],
      "source": [
        "# Add a \"root_dist\" column to the neuron's node table\nn_pruned.nodes['root_dist'] = n_pruned.nodes.node_id.map(\n    navis.dist_to_root(n_pruned)\n)\n\n# Plot the barcode with segments colored by their distance to the root\nax = navis.plot1d(n_pruned, color_by=\"root_dist\", palette=\"jet\")"
      ]
    }
  ],
  "metadata": {
    "kernelspec": {
      "display_name": "Python 3",
      "language": "python",
      "name": "python3"
    },
    "language_info": {
      "codemirror_mode": {
        "name": "ipython",
        "version": 3
      },
      "file_extension": ".py",
      "mimetype": "text/x-python",
      "name": "python",
      "nbconvert_exporter": "python",
      "pygments_lexer": "ipython3",
      "version": "3.11.14"
    }
  },
  "nbformat": 4,
  "nbformat_minor": 0
}