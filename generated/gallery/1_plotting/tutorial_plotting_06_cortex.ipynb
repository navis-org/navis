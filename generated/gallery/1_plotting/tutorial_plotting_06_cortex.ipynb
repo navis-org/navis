{
  "cells": [
    {
      "cell_type": "code",
      "execution_count": null,
      "metadata": {
        "collapsed": false
      },
      "outputs": [],
      "source": [
        "%matplotlib inline"
      ]
    },
    {
      "cell_type": "markdown",
      "metadata": {},
      "source": [
        "\nCortical Neurons\n================\n\nThis tutorial demonstrates how to plot cortical neurons.\n\n\nIn this exercise we will visualize morphological data from [\"Integrated Morphoelectric and Transcriptomic Classification of Cortical GABAergic Cells\"](https://www.cell.com/cell/pdf/S0092-8674(20)31254-X.pdf)\nby Gouwens, Sorensen _et al._, Cell (2020). Specifically, we will re-create a plot similar to their\n[Figure 4A](https://www.cell.com/cms/10.1016/j.cell.2020.09.057/asset/c684cc3f-ee17-4a36-98c9-e464a7ce8063/main.assets/gr4_lrg.jpg).\n\nFor brevity, we will use some fixed cell IDs and properties from the dataset. These were taken from the\n[`20200711_patchseq_metadata_mouse.csv`](https://brainmapportal-live-4cc80a57cd6e400d854-f7fdcae.divio-media.net/filer_public/5e/2a/5e2a5936-61da-4e09-b6da-74ab97ce1b02/20200711_patchseq_metadata_mouse.csv)\nfile provided alongside the supplementary material of the paper:\n"
      ]
    },
    {
      "cell_type": "code",
      "execution_count": null,
      "metadata": {
        "collapsed": false
      },
      "outputs": [],
      "source": [
        "# The cell IDs we will use (it's the first 5 in the meta data file)\nids = [601506507, 601790961, 601803754, 601808698, 601810307]\n\n# The normalized soma depths for these cells (also from the meta data file)\nsoma_depths = [0.36101451, 0.62182935, 0.16423996, 0.48303029, 0.2956563]"
      ]
    },
    {
      "cell_type": "markdown",
      "metadata": {},
      "source": [
        "## Part I: Loading and Aligning Neurons\n\nFirst we need to load the neurons. Here, we will take them straight from their FTP server\nbut you can of course download them first and then load from disk!\n\n"
      ]
    },
    {
      "cell_type": "code",
      "execution_count": null,
      "metadata": {
        "collapsed": false
      },
      "outputs": [],
      "source": [
        "import navis\n\nnl = navis.read_swc(\n    \"ftp://download.brainimagelibrary.org/biccn/zeng/pseq/morph/200526/\",\n    limit=[f\"{i}_transformed.swc\" for i in ids],  #  Load only the files we need\n    fmt=\"{name,id:int}_transformed.swc\",  # Parse the name and id from the file name\n)"
      ]
    },
    {
      "cell_type": "markdown",
      "metadata": {},
      "source": [
        "To make our lives a bit easier, we will attach the soma depth to the neurons as metadata:\n\n"
      ]
    },
    {
      "cell_type": "code",
      "execution_count": null,
      "metadata": {
        "collapsed": false
      },
      "outputs": [],
      "source": [
        "nl.set_neuron_attributes(\n    soma_depths,\n    name=\"cell_soma_normalized_depth\",\n    register=True\n    )\n\nnl"
      ]
    },
    {
      "cell_type": "markdown",
      "metadata": {},
      "source": [
        "Next, we need to align the neurons according to their soma depth! The normalized `cell_soma_normalized_depth` should\nmap to a physical range of `0` to `922.5861720311` microns.\n\nLet's demo with one neuron before we run this for all neurons:\n\n"
      ]
    },
    {
      "cell_type": "code",
      "execution_count": null,
      "metadata": {
        "collapsed": false
      },
      "outputs": [],
      "source": [
        "# Grab one of the neurons\nn = nl[0]\n\n# This is the normalized soma depth:\nprint(f\"Normalized soma depth: {n.cell_soma_normalized_depth}\")"
      ]
    },
    {
      "cell_type": "markdown",
      "metadata": {},
      "source": [
        "The physical soma depth is simply the normalized depth multiplied by the total depth of the cortex.\nNote that we're positioning from the bottom - i.e. 922.586 will be at the surface and 0 at the bottom!\nThis is to make our lifes easier when it comes to plotting since the origin in `matplotlib`\nfigures is in the bottom left corner.\n\n"
      ]
    },
    {
      "cell_type": "code",
      "execution_count": null,
      "metadata": {
        "collapsed": false
      },
      "outputs": [],
      "source": [
        "phys_y = (1 - n.cell_soma_normalized_depth) * 922.5861720311\nprint(f\"Physical soma depth: {phys_y}\")\n\n# Current soma\nprint(f\"Current soma coordinates: {n.soma_pos[0]}\")"
      ]
    },
    {
      "cell_type": "markdown",
      "metadata": {},
      "source": [
        "We will now offset the neuron such that the soma is at `(0, 589.519, 0)`:\n\n"
      ]
    },
    {
      "cell_type": "code",
      "execution_count": null,
      "metadata": {
        "collapsed": false
      },
      "outputs": [],
      "source": [
        "offset = [0, phys_y, 0] - n.soma_pos[0]\noffset"
      ]
    },
    {
      "cell_type": "markdown",
      "metadata": {},
      "source": [
        "Moving or scaling neurons in {{ navis }} is super straight forward: adding, subtracting, dividing or multiplying neurons by a number or an\n`[x, y, z]` vector will change their coordinates:\n\n"
      ]
    },
    {
      "cell_type": "code",
      "execution_count": null,
      "metadata": {
        "collapsed": false
      },
      "outputs": [],
      "source": [
        "# Move the neuron to the new centered position\nn += offset\n\n# Check the that the soma is now in the correct position\nn.soma_pos[0]"
      ]
    },
    {
      "cell_type": "markdown",
      "metadata": {},
      "source": [
        "That looks good! Let's do it for all neurons:\n\n"
      ]
    },
    {
      "cell_type": "code",
      "execution_count": null,
      "metadata": {
        "collapsed": false
      },
      "outputs": [],
      "source": [
        "for n in nl:\n    phys_y = (1 - n.cell_soma_normalized_depth) * 922.5861720311\n    offset = [0, phys_y, 0] - n.soma_pos[0]\n    n += offset"
      ]
    },
    {
      "cell_type": "markdown",
      "metadata": {},
      "source": [
        "Check that all soma positions are correct:\n\n"
      ]
    },
    {
      "cell_type": "code",
      "execution_count": null,
      "metadata": {
        "collapsed": false
      },
      "outputs": [],
      "source": [
        "nl.soma_pos.reshape(-1, 3)"
      ]
    },
    {
      "cell_type": "markdown",
      "metadata": {},
      "source": [
        "## Part II: Plotting\n\nNow that we have loaded and aligned the neurons, let's recreate a plot similar to those in Figure 4A:\n\n"
      ]
    },
    {
      "cell_type": "code",
      "execution_count": null,
      "metadata": {
        "collapsed": false
      },
      "outputs": [],
      "source": [
        "def plot_neurons(to_plot, color=\"purple\", axon_color=\"magenta\", offset=500):\n    \"\"\"Plot all neurons of a given transcriptomic type.\n\n    Parameters\n    ----------\n    neurons : NeuronList\n        The aligned neurons to plot.\n    color : str\n        The color of the dendrites.\n    axon_color : str\n        The color of the axon.\n    offset : int\n        The offset between neurons along the x-axis.\n\n    Returns\n    -------\n    fig, ax\n        The matplotlib figure and axis.\n\n    \"\"\"\n    # Offset the neurons along the x-axis so that they don't overlap\n    to_plot = [n + [offset * i, 0, 0] for i, n in enumerate(to_plot)]\n\n    # The SWC files for this dataset include a `label` column which\n    # indicates the compartment type:\n    # 1 = soma\n    # 2 = axon\n    # 3 = dendrites\n    # We will use this `label` to color the neurons' compartments.\n\n    # Here we define a color palette for the compartments:\n    compartment_palette = {1: color, 2: axon_color, 3: color}\n\n    # Plot the neuron\n    fig, ax = navis.plot2d(\n        to_plot,\n        radius=False,\n        lw=1.5,\n        soma=dict(\n            fc=\"black\",  # soma fill color\n            ec=\"white\",  # highlight the soma with a white outline\n            radius=10,   # override the default soma radius\n        ),\n        color_by=\"label\",  # color by `label` column in node table\n        palette=compartment_palette,\n        figsize=(\n            len(to_plot) * 2,\n            10,\n        ),  # scale the figure size with the number of neurons\n        method=\"2d\",\n    )\n\n    # Add the layer boundaries (top bound for each layer in microns)\n    layer_bounds = {\n        \"L1\": 0,\n        \"L2/3\": 115.1112491335,\n        \"L4\": 333.4658190171,\n        \"L5\": 453.6227158132,\n        \"L6\": 687.6482650269,\n        \"L6b\": 883.1308910545,\n    }\n\n    for layer, y in layer_bounds.items():\n        y = 922.5861720311 - y  # flip the y-axis\n        # Add a dashed line\n        ax.axhline(y, color=\"gray\", ls=\"--\", lw=1)\n        # Add the layer name\n        ax.text(-300, y - 25, layer, color=\"gray\", va=\"center\", size=10)\n    # Add the bottom bound\n    ax.axhline(0, color=\"gray\", ls=\"--\", lw=1)\n\n    # Set the axis y limits according to the layers\n    ax.set_ylim(-10, 930)\n\n    # Hide axes\n    ax.axis(\"off\")\n\n    return fig, ax\n\n\nfig, ax = plot_neurons(nl)"
      ]
    },
    {
      "cell_type": "markdown",
      "metadata": {},
      "source": [
        "That looks close enough. The last bit is to add the little KDE plots for the depth-distribution of\ncable length!\n\nWe're going to be cheap here and simply generate a histogram over the node positions.\nTo make this representative, we should make sure that the number of nodes per unit of cable\nis homogeneous across neurons. For that we will resample the neurons:\n\n"
      ]
    },
    {
      "cell_type": "code",
      "execution_count": null,
      "metadata": {
        "collapsed": false
      },
      "outputs": [],
      "source": [
        "print(\n    f\"Sampling rate (nodes per micron of cable) before resampling: {nl.sampling_resolution.mean():.2f}\"\n)\n\n# Resample to 2 nodes per micron\nresampled = navis.resample_skeleton(\n    nl,\n    resample_to=0.5,\n    map_columns=\"label\",  # make sure label column is carried over\n)\n\nprint(\n    f\"Sampling rate (nodes per micron of cable) after resampling: {resampled.sampling_resolution.mean():.2f}\"\n)"
      ]
    },
    {
      "cell_type": "markdown",
      "metadata": {},
      "source": [
        "Get the combined nodes table:\n\n"
      ]
    },
    {
      "cell_type": "code",
      "execution_count": null,
      "metadata": {
        "collapsed": false
      },
      "outputs": [],
      "source": [
        "nodes = resampled.nodes\nnodes.head()"
      ]
    },
    {
      "cell_type": "markdown",
      "metadata": {},
      "source": [
        "Now we can plot the distribution of cable lengths for our neurons:\n\n"
      ]
    },
    {
      "cell_type": "code",
      "execution_count": null,
      "metadata": {
        "collapsed": false
      },
      "outputs": [],
      "source": [
        "import seaborn as sns\nfrom mpl_toolkits.axes_grid1 import make_axes_locatable\n\n# Plot the neurons again, re-using the function we defined above\nfig, ax = plot_neurons(nl)\n\n# Add a new axis to the right of the main plot\ndivider = make_axes_locatable(ax)\nax_hist = divider.append_axes(\"right\", size=0.75, pad=0.05)\n\n# Add histograms\n# For axon:\nsns.kdeplot(\n    data=nodes[nodes.label == 2], y=\"y\", ax=ax_hist, color=\"magenta\", linewidth=1.5\n)\n# For the rest:\nsns.kdeplot(\n    data=nodes[nodes.label != 2], y=\"y\", ax=ax_hist, color=\"purple\", linewidth=1.5\n)\n\n# Add soma positions\nsoma_pos = nl.soma_pos.reshape(-1, 3)\nax_hist.scatter([0] * len(soma_pos), soma_pos[:, 1], color=\"black\", s=10, clip_on=False)\n\n# Set same axis limits as the main plot\nax_hist.set_ylim(-10, 930)\n\n# Hide axes\nax_hist.set_axis_off()"
      ]
    },
    {
      "cell_type": "markdown",
      "metadata": {},
      "source": [
        "## Acknowledgements\n\nWe thank Staci Sorensen and Casey Schneider-Mizell from the Allen Institute for Brain Science\nfor helping with extra information and data for this tutorial!\n"
      ]
    }
  ],
  "metadata": {
    "kernelspec": {
      "display_name": "Python 3",
      "language": "python",
      "name": "python3"
    },
    "language_info": {
      "codemirror_mode": {
        "name": "ipython",
        "version": 3
      },
      "file_extension": ".py",
      "mimetype": "text/x-python",
      "name": "python",
      "nbconvert_exporter": "python",
      "pygments_lexer": "ipython3",
      "version": "3.11.14"
    }
  },
  "nbformat": 4,
  "nbformat_minor": 0
}