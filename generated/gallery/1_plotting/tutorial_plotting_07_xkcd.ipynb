{
  "cells": [
    {
      "cell_type": "code",
      "execution_count": null,
      "metadata": {
        "collapsed": false
      },
      "outputs": [],
      "source": [
        "%matplotlib inline"
      ]
    },
    {
      "cell_type": "markdown",
      "metadata": {},
      "source": [
        "\nXKCD Style\n==========\n\nThis example demonstrates how to plot neurons in xkcd style.\n\nIf you don't already know: `matplotlib` has a [xkcd mode](https://matplotlib.org/stable/api/_as_gen/matplotlib.pyplot.xkcd.html)\nthat produces plots that look like they were drawn by hand. This can be a fun way to visualize neurons:\n"
      ]
    },
    {
      "cell_type": "code",
      "execution_count": null,
      "metadata": {
        "collapsed": false
      },
      "outputs": [],
      "source": [
        "import navis\nimport matplotlib.pyplot as plt\n\nn = navis.example_neurons(1, kind=\"skeleton\")\n\n# Plot in xkcd style\nwith plt.xkcd(scale=5, randomness=10, length=200):\n    fig, ax = navis.plot2d(\n        n, method=\"2d\", c=\"k\", view=(\"x\", \"-z\"), radius=False, lw=1.5\n    )\n\nplt.tight_layout()"
      ]
    },
    {
      "cell_type": "markdown",
      "metadata": {},
      "source": [
        "Get a few more example neurons and a volume\n\n"
      ]
    },
    {
      "cell_type": "code",
      "execution_count": null,
      "metadata": {
        "collapsed": false
      },
      "outputs": [],
      "source": [
        "nl = navis.example_neurons()\nneuropil = navis.example_volume(\"neuropil\")\n\n# Make the neuropil mostly transparent\nneuropil.color = (0, 0, 0, 0.02)\n\n# Plot in xkcd style\nwith plt.xkcd(scale=5, randomness=10, length=200):\n    fig, ax = navis.plot2d(\n        [nl, neuropil],\n        method=\"2d\",\n        c=\"k\",\n        view=(\"x\", \"-z\"),\n        lw=1.2,\n        volume_outlines=\"both\",\n        radius=False,\n    )\n\n    ax.grid(False)\n\nplt.tight_layout()"
      ]
    }
  ],
  "metadata": {
    "kernelspec": {
      "display_name": "Python 3",
      "language": "python",
      "name": "python3"
    },
    "language_info": {
      "codemirror_mode": {
        "name": "ipython",
        "version": 3
      },
      "file_extension": ".py",
      "mimetype": "text/x-python",
      "name": "python",
      "nbconvert_exporter": "python",
      "pygments_lexer": "ipython3",
      "version": "3.11.14"
    }
  },
  "nbformat": 4,
  "nbformat_minor": 0
}