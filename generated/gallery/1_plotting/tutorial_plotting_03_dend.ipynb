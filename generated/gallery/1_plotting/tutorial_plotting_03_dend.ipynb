{
  "cells": [
    {
      "cell_type": "code",
      "execution_count": null,
      "metadata": {
        "collapsed": false
      },
      "outputs": [],
      "source": [
        "%matplotlib inline"
      ]
    },
    {
      "cell_type": "markdown",
      "metadata": {},
      "source": [
        "\nNeuron Topology\n===============\n\nThis example demonstrates how to plot neurons' topology using various different layouts.\n\nSkeletons in {{ navis }} are hierarchical trees (hence the name [`TreeNeuron`][navis.TreeNeuron]).\nAs such they can be visualized as dendrograms or flat, graph-like plots using [`navis.plot_flat`][].\nThis is useful to unravel otherwise complicated, overlapping branching patterns - e.g. when\nyou want to show compartments or synapse positions within the neuron. Let's demo some layouts!\n\n## Subway Maps\n\nFirst up: the `subway` layout. This one is nice for side-by-side comparisons of neurons.\n"
      ]
    },
    {
      "cell_type": "code",
      "execution_count": null,
      "metadata": {
        "collapsed": false
      },
      "outputs": [],
      "source": [
        "import navis\nimport matplotlib.pyplot as plt\n\n# Load example neurons\nnl = navis.example_neurons(n=4, kind=\"skeleton\")\n\n# Convert example neurons from voxels to nanometers\nnl_nm = nl.convert_units(\"nm\")\n\n# Reroot to soma\nnl_nm[nl_nm.soma != None].reroot(nl_nm[nl_nm.soma != None].soma, inplace=True)\n\n# Generate one axis for each neuron\nfig, axes = plt.subplots(3, 1, figsize=(15, 10), sharex=True)\n\nnavis.plot_flat(nl_nm[0], layout=\"subway\", connectors=True, ax=axes[0])\nnavis.plot_flat(nl_nm[1], layout=\"subway\", connectors=True, ax=axes[1])\nnavis.plot_flat(nl_nm[3], layout=\"subway\", connectors=True, ax=axes[2])\n\n# Clean up the axes\nfor ax in axes[:-1]:\n    ax.set_axis_off()\n\nfor sp in [\"left\", \"right\", \"top\"]:\n    axes[-1].spines[sp].set_visible(False)\naxes[-1].set_yticks([])\n\n_ = axes[-1].set_xlabel(\"distance [nm]\")\nplt.tight_layout()"
      ]
    },
    {
      "cell_type": "markdown",
      "metadata": {},
      "source": [
        "!!! important\n    For the other layouts you will need to have [pygraphviz](https://pygraphviz.github.io/) and the underlying `graphviz` library\n    installed. For details on the layout, check out the [graphviz docs](https://graphviz.org/about/).\n\n## Dendrograms\n\n`dot` and `twopi` are dendrogram layouts. They (should) preserve branch lengths similar to `subway`:\n\n"
      ]
    },
    {
      "cell_type": "code",
      "execution_count": null,
      "metadata": {
        "collapsed": false
      },
      "outputs": [],
      "source": [
        "ax = navis.plot_flat(nl_nm[0], layout=\"dot\", connectors=True, color=\"k\")\nplt.tight_layout()"
      ]
    },
    {
      "cell_type": "code",
      "execution_count": null,
      "metadata": {
        "collapsed": false
      },
      "outputs": [],
      "source": [
        "n = nl_nm[0]\nax = navis.plot_flat(n, layout=\"twopi\", connectors=True, color=\"k\")\nplt.tight_layout()"
      ]
    },
    {
      "cell_type": "markdown",
      "metadata": {},
      "source": [
        "You can also highlight specific connectors by their ID (here we just use the first 100):\n\n"
      ]
    },
    {
      "cell_type": "code",
      "execution_count": null,
      "metadata": {
        "collapsed": false
      },
      "outputs": [],
      "source": [
        "highlight = n.connectors.connector_id[:100]\n\nax = navis.plot_flat(\n    nl_nm[0],\n    layout=\"dot\",\n    highlight_connectors=highlight,\n    color=\"k\",\n    syn_marker_size=2,\n)\nplt.tight_layout()"
      ]
    },
    {
      "cell_type": "markdown",
      "metadata": {},
      "source": [
        "## Force-Directed Layouts\n\n`neato`, `fdp` and `sfdp` are force-directed layouts.\n\nSome layouts (like `neato` & `fdp`) can be quite expensive to calculate in which case it's worth\ndownsampling your neuron before plotting\n\n"
      ]
    },
    {
      "cell_type": "code",
      "execution_count": null,
      "metadata": {
        "collapsed": false
      },
      "outputs": [],
      "source": [
        "ds = navis.downsample_neuron(nl_nm[0], 10, preserve_nodes=\"connectors\")\n\nax = navis.plot_flat(ds, layout=\"neato\", connectors=True, color=\"k\")\nplt.tight_layout()"
      ]
    },
    {
      "cell_type": "code",
      "execution_count": null,
      "metadata": {
        "collapsed": false
      },
      "outputs": [],
      "source": [
        "ax = navis.plot_flat(nl[0], layout=\"sfdp\", connectors=True, color=\"k\")\nplt.tight_layout()"
      ]
    }
  ],
  "metadata": {
    "kernelspec": {
      "display_name": "Python 3",
      "language": "python",
      "name": "python3"
    },
    "language_info": {
      "codemirror_mode": {
        "name": "ipython",
        "version": 3
      },
      "file_extension": ".py",
      "mimetype": "text/x-python",
      "name": "python",
      "nbconvert_exporter": "python",
      "pygments_lexer": "ipython3",
      "version": "3.11.14"
    }
  },
  "nbformat": 4,
  "nbformat_minor": 0
}