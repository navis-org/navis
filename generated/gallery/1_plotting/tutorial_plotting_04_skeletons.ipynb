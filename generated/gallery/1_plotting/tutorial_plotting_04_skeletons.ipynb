{
  "cells": [
    {
      "cell_type": "code",
      "execution_count": null,
      "metadata": {
        "collapsed": false
      },
      "outputs": [],
      "source": [
        "%matplotlib inline"
      ]
    },
    {
      "cell_type": "markdown",
      "metadata": {},
      "source": [
        "\nFine-tuning Skeletons\n=====================\n\nIn this example we will demonstrate various ways to fine-tune plots with skeletons.\n\nBy now, you should already have a basic understanding on how to plot neurons in {{ navis }} (2d vs 3d plots, the various\nbackends and plotting methods, etc.) - if not, check out the [plotting tutorial](../tutorial_plotting_00_intro).\n\nWe will focus on how to finetune [`plot2d`][navis.plot2d] plots because `matplotlib` is much more flexible than the\n[`plot3d`][navis.plot3d] backends when it comes to rendering lines. That said: some of the things we show here will also\nwork for the other backends (Octarine, Vispy and K3d) - just not all.\n"
      ]
    },
    {
      "cell_type": "markdown",
      "metadata": {},
      "source": [
        "## Radii\n\nIf your skeletons have radii (i.e. there is a non-empty `radius` column in their `.nodes` SWC table), you can plot them as tubes\ninstead of lines using the `radius` parameter. By default, `radius` is set to `False` and skeletons are plotted as lines[^1].\n\n[^1]: This is because plotting tubes can be slow for large number of skeletons.\n\n"
      ]
    },
    {
      "cell_type": "code",
      "execution_count": null,
      "metadata": {
        "collapsed": false
      },
      "outputs": [],
      "source": [
        "import navis\nimport matplotlib.pyplot as plt\n\n# Load a neuron\nn = navis.example_neurons(1, kind=\"skeleton\")\n\n# Plot as lines\nfig, ax = navis.plot2d(n, view=(\"x\", \"-z\"), method=\"2d\")\nplt.tight_layout()"
      ]
    },
    {
      "cell_type": "markdown",
      "metadata": {},
      "source": [
        "Setting `radius=True` will plot skeletons as tubes using its nodes' radii information:\n\n"
      ]
    },
    {
      "cell_type": "code",
      "execution_count": null,
      "metadata": {
        "collapsed": false
      },
      "outputs": [],
      "source": [
        "fig, ax = navis.plot2d(n, view=(\"x\", \"-z\"), method=\"2d\", radius=True)\nplt.tight_layout()"
      ]
    },
    {
      "cell_type": "markdown",
      "metadata": {},
      "source": [
        "## Line width\n\nYou can change the line width of the skeletons using the `linewidth` parameter. The default is `1`.\n\n"
      ]
    },
    {
      "cell_type": "code",
      "execution_count": null,
      "metadata": {
        "collapsed": false
      },
      "outputs": [],
      "source": [
        "fig, ax = navis.plot2d(\n    n,\n    view=(\"x\", \"-z\"),\n    method=\"2d\",\n    radius=False,\n    linewidth=2,  # default linewidth is 1\n)"
      ]
    },
    {
      "cell_type": "markdown",
      "metadata": {},
      "source": [
        "`linewidth` can also be used to scale the size of the tubes when `radius=True`:\n\n"
      ]
    },
    {
      "cell_type": "code",
      "execution_count": null,
      "metadata": {
        "collapsed": false
      },
      "outputs": [],
      "source": [
        "fig, ax = navis.plot2d(\n    n,\n    view=(\"x\", \"-z\"),\n    method=\"2d\",\n    radius=True,\n    linewidth=2,  # double the tube radii\n)"
      ]
    },
    {
      "cell_type": "markdown",
      "metadata": {},
      "source": [
        "## Line style\n\nWhen `radius=False`, you can change the line style of the skeletons using the `linestyle` parameter. The default is `\"-\"` (i.e. a solid line).\n\n"
      ]
    },
    {
      "cell_type": "code",
      "execution_count": null,
      "metadata": {
        "collapsed": false
      },
      "outputs": [],
      "source": [
        "fig, ax = navis.plot2d(\n    n,\n    view=(\"x\", \"-z\"),\n    method=\"2d\",\n    radius=False,\n    linewidth=2,\n    linestyle=\"--\"  # dashed line\n)"
      ]
    },
    {
      "cell_type": "markdown",
      "metadata": {},
      "source": [
        "The `radius` and `linewidth` parameters will also work with [`plot3d`][navis.plot3d] but the `linestyle` parameter will not.\n"
      ]
    }
  ],
  "metadata": {
    "kernelspec": {
      "display_name": "Python 3",
      "language": "python",
      "name": "python3"
    },
    "language_info": {
      "codemirror_mode": {
        "name": "ipython",
        "version": 3
      },
      "file_extension": ".py",
      "mimetype": "text/x-python",
      "name": "python",
      "nbconvert_exporter": "python",
      "pygments_lexer": "ipython3",
      "version": "3.11.14"
    }
  },
  "nbformat": 4,
  "nbformat_minor": 0
}